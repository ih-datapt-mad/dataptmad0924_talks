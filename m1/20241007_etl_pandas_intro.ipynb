{
 "cells": [
  {
   "cell_type": "markdown",
   "id": "45b28995",
   "metadata": {},
   "source": [
    "# Pandas (Python Data Analysis Library)\n",
    "\n",
    "__pandas__ is a fast, powerful, flexible and easy to use open source data analysis and manipulation tool,\n",
    "built on top of the Python programming language!!!\n",
    "\n",
    "---\n",
    "\n",
    "_\"In the future, I think that programming languages are going to diminish in importance relative to data itself and common computational libraries\"_\n",
    "\n",
    "__Wes McKinney__ - Pandas Benevolent Dictator for Life\n",
    "\n",
    "https://pandas.pydata.org/docs/reference/index.html"
   ]
  },
  {
   "cell_type": "code",
   "execution_count": null,
   "id": "46c78561",
   "metadata": {},
   "outputs": [],
   "source": [
    "#installation (https://pandas.pydata.org/docs/getting_started/install.html)\n",
    "\n",
    "#!conda install pandas\n",
    "#!conda install pandas=1.3.4"
   ]
  },
  {
   "cell_type": "code",
   "execution_count": null,
   "id": "aa118085",
   "metadata": {},
   "outputs": [],
   "source": [
    "# import library and assign an alias\n",
    "\n",
    "#import numpy as np\n",
    "import pandas as pd\n",
    "print(pd.__version__)"
   ]
  },
  {
   "cell_type": "markdown",
   "id": "d63e8906",
   "metadata": {},
   "source": [
    "---"
   ]
  },
  {
   "cell_type": "markdown",
   "id": "da330655",
   "metadata": {},
   "source": [
    "### Pandas Data Structures\n",
    "\n",
    "https://pandas.pydata.org/docs/user_guide/dsintro.html#dsintro"
   ]
  },
  {
   "cell_type": "code",
   "execution_count": null,
   "id": "0e286a8d",
   "metadata": {},
   "outputs": [],
   "source": [
    "# Series\n",
    "\n",
    "s1 = pd.Series([1,2,3,4,5,6,7,8])\n",
    "\n",
    "\n",
    "s2 = pd.Series(np.arange(1,8))\n",
    "\n",
    "\n",
    "str_lst = ['football', 'rugby', 'beach volley', 'atletism']\n",
    "s3 = pd.Series(str_lst)\n",
    "\n",
    "\n",
    "print(type(s1), end='\\n\\n')\n",
    "s1"
   ]
  },
  {
   "cell_type": "code",
   "execution_count": null,
   "id": "3d023adb",
   "metadata": {},
   "outputs": [],
   "source": [
    "# Series attributes\n",
    "\n",
    "print(s1.index)\n",
    "#print(s1.size)\n",
    "#print(s1.shape)\n",
    "#print(s1.ndim)\n",
    "#print(s1.dtypes)\n",
    "#print(s1.memory_usage(), 'bytes')\n",
    "#print(s1.describe())\n",
    "#print(s1.head())\n",
    "#print(s1.tail())"
   ]
  },
  {
   "cell_type": "markdown",
   "id": "aa43c6e0",
   "metadata": {},
   "source": [
    "__Pandas Data Types__\n",
    "\n",
    "![Image](./img/etl_intro_pandas_01.PNG)"
   ]
  },
  {
   "cell_type": "code",
   "execution_count": null,
   "id": "1f86f89b",
   "metadata": {},
   "outputs": [],
   "source": [
    "# DataFrames I\n",
    "\n",
    "df1 = pd.DataFrame([1,2,3,4,5,6,7,8])\n",
    "\n",
    "\n",
    "df2 = pd.DataFrame(np.arange(1,8))\n",
    "\n",
    "\n",
    "str_lst = ['football', 'rugby', 'beach volley', 'atletism']\n",
    "df3 = pd.DataFrame(str_lst)\n",
    "\n",
    "\n",
    "print(type(df1))\n",
    "df1"
   ]
  },
  {
   "cell_type": "code",
   "execution_count": null,
   "id": "27815fda",
   "metadata": {},
   "outputs": [],
   "source": [
    "# DataFrames II\n",
    "\n",
    "df_dict = {'col1': [1, 2], 'col2': [3, 4], 'col3': ['ironhack', 'Madrid'], 'col4': [True, None]}\n",
    "df4 = pd.DataFrame(df_dict)\n",
    "\n",
    "\n",
    "df_array = np.arange(12).reshape(4,3)\n",
    "df5 = pd.DataFrame(df_array, columns=['a', 'b', 'c'])\n",
    "\n",
    "\n",
    "df6 = pd.DataFrame({'Python Dictionaries': [df_dict, df_dict, df_dict],\n",
    "                    'Numpy Arrays': [df_array * 3, df_array + df_array, np.zeros((5, 5, 5))], \n",
    "                    'Pandas DataFrames': [df3.head(), df4.tail(), df5], \n",
    "                    'Python Variables': [1, True, 'I love Pandas']})\n",
    "\n",
    "\n",
    "print(type(df4))\n",
    "df4"
   ]
  },
  {
   "cell_type": "code",
   "execution_count": null,
   "id": "600f3c75",
   "metadata": {
    "scrolled": true
   },
   "outputs": [],
   "source": [
    "# DataFrames attributes\n",
    "\n",
    "print(df4.index)\n",
    "#print(df4.size)\n",
    "#print(df4.shape)\n",
    "#print(df4.ndim)\n",
    "#print(df4.dtypes)\n",
    "#print(df4.axes)\n",
    "#print(df4.memory_usage(), 'bytes')\n",
    "#print(df4.describe())\n",
    "#display(df4.head())\n",
    "#display(df4.tail())\n",
    "#print(df4.columns)\n",
    "#print(df4.info())"
   ]
  },
  {
   "cell_type": "markdown",
   "id": "aea7b1ae",
   "metadata": {},
   "source": [
    "---"
   ]
  },
  {
   "cell_type": "code",
   "execution_count": null,
   "id": "6dc495b1",
   "metadata": {},
   "outputs": [],
   "source": [
    "# Pandas exploration methods => .loc[], .iloc[]\n",
    "\n",
    "breeds = {'dogs': ['pug', 'malinois', 'border collie'], \n",
    "          'cats': ['siamese', 'persian', 'european'], \n",
    "          'horses': ['arabian', 'andalusian', 'mustang']}\n",
    "df7 = pd.DataFrame(breeds)\n",
    "#df7.index = ['cute', 'strong', 'smart']\n",
    "\n",
    "df7"
   ]
  },
  {
   "cell_type": "code",
   "execution_count": null,
   "id": "1149b479",
   "metadata": {},
   "outputs": [],
   "source": [
    "df7.loc[0, 'dogs']"
   ]
  },
  {
   "cell_type": "code",
   "execution_count": null,
   "id": "b5f32ad5",
   "metadata": {},
   "outputs": [],
   "source": [
    "df7.iloc[0, 0]"
   ]
  },
  {
   "cell_type": "markdown",
   "id": "7371800b",
   "metadata": {},
   "source": [
    "More about `.loc[]` and `.iloc[]`: https://towardsdatascience.com/how-to-use-loc-and-iloc-for-selecting-data-in-pandas-bd09cb4c3d79"
   ]
  },
  {
   "cell_type": "markdown",
   "id": "1a549a5c",
   "metadata": {},
   "source": [
    "---"
   ]
  },
  {
   "cell_type": "code",
   "execution_count": null,
   "id": "54e15e8e",
   "metadata": {},
   "outputs": [],
   "source": [
    "# Pandas MORE exploration methods I\n",
    "\n",
    "df8 = df7.transpose()\n",
    "df8"
   ]
  },
  {
   "cell_type": "markdown",
   "id": "8ea16b5f",
   "metadata": {},
   "source": [
    "---"
   ]
  },
  {
   "cell_type": "code",
   "execution_count": null,
   "id": "f0cc09c7",
   "metadata": {},
   "outputs": [],
   "source": [
    "# Pandas MORE exploration methods II\n",
    "\n",
    "df9 = pd.read_csv('./datasets/mount_everest_deaths.csv', index_col='No.')\n",
    "print(df9.shape)\n",
    "df9.head()"
   ]
  },
  {
   "cell_type": "code",
   "execution_count": null,
   "id": "4752d316",
   "metadata": {},
   "outputs": [],
   "source": [
    "# Value counts \n",
    "\n",
    "df9['Nationality'].value_counts()"
   ]
  },
  {
   "cell_type": "code",
   "execution_count": null,
   "id": "6e678173",
   "metadata": {},
   "outputs": [],
   "source": [
    "# Unique values\n",
    "\n",
    "df9['Cause of death'].unique()"
   ]
  },
  {
   "cell_type": "code",
   "execution_count": null,
   "id": "268641f4",
   "metadata": {},
   "outputs": [],
   "source": [
    "# Sorted values\n",
    "\n",
    "df9.sort_values(by='Location')"
   ]
  },
  {
   "cell_type": "markdown",
   "id": "ab129246",
   "metadata": {},
   "source": [
    "---"
   ]
  },
  {
   "cell_type": "markdown",
   "id": "e99a7374",
   "metadata": {},
   "source": [
    "__To be continued...__"
   ]
  }
 ],
 "metadata": {
  "kernelspec": {
   "display_name": "Python [conda env:.conda-ironhack]",
   "language": "python",
   "name": "conda-env-.conda-ironhack-py"
  },
  "language_info": {
   "codemirror_mode": {
    "name": "ipython",
    "version": 3
   },
   "file_extension": ".py",
   "mimetype": "text/x-python",
   "name": "python",
   "nbconvert_exporter": "python",
   "pygments_lexer": "ipython3",
   "version": "3.7.11"
  }
 },
 "nbformat": 4,
 "nbformat_minor": 5
}
