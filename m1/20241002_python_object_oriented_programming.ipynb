{
 "cells": [
  {
   "cell_type": "markdown",
   "id": "276fa5c1",
   "metadata": {},
   "source": [
    "# Object Oriented Programming\n",
    "\n",
    "---\n",
    "\n",
    "- __ABSTRACTION:__ To simplify reality and focus only on the data and processes relevant to the application being built.\n",
    "\n",
    "- __ENCAPSULATION:__ Data and the programs that manipulate those data are bound together and their complexity is hidden.\n",
    "\n",
    "- __INHERITANCE:__ A class can derive methods and properties from another class, resulting in a hierarchy of classes.\n",
    "\n",
    "- __POLYMORPHISM:__ Different subclasses of the same superclass, can implement their shared interface in different ways.\n"
   ]
  },
  {
   "cell_type": "code",
   "execution_count": null,
   "id": "36579b06",
   "metadata": {},
   "outputs": [],
   "source": [
    "# The object class is the most fundamental class in Python\n",
    "\n",
    "?object"
   ]
  },
  {
   "cell_type": "code",
   "execution_count": null,
   "id": "bb962c36",
   "metadata": {},
   "outputs": [],
   "source": [
    "# Built-in classes like int, list, dict, etc., ultimately inherit from object.\n",
    "\n",
    "print(isinstance(5, object)) \n",
    "print(isinstance('string', object))\n",
    "print(isinstance([], object)) \n",
    "print(isinstance({}, object))"
   ]
  },
  {
   "cell_type": "markdown",
   "id": "06c357bb",
   "metadata": {},
   "source": [
    "#### In this lesson we will deal with...\n",
    "\n",
    "- The `__init__()` method or attributes constructor.\n",
    "\n",
    "- Custom methods to change those attributes.\n",
    "\n",
    "- Inheritance "
   ]
  },
  {
   "cell_type": "code",
   "execution_count": null,
   "id": "082ac7ed",
   "metadata": {},
   "outputs": [],
   "source": [
    "# imports\n",
    "\n",
    "import random"
   ]
  },
  {
   "cell_type": "markdown",
   "id": "2b4bb8c1",
   "metadata": {},
   "source": [
    "---"
   ]
  },
  {
   "cell_type": "markdown",
   "id": "5b584f38",
   "metadata": {},
   "source": [
    "## Attributes (i.e.: the `__init__()` method)"
   ]
  },
  {
   "cell_type": "code",
   "execution_count": null,
   "id": "ce8c8521",
   "metadata": {},
   "outputs": [],
   "source": [
    "# Let's create the class dog. Custom classes implicitly or explicitly derive from object. \n",
    "\n",
    "class Dog(object):   # classes are usually capitalized.\n",
    "    \n",
    "    GENDER = ['male', 'female']\n",
    "    \n",
    "    def __init__(self,   # self makes reference to the instance\n",
    "                 name, \n",
    "                 breed, \n",
    "                 age, \n",
    "                 coat, \n",
    "                 weight):\n",
    "        \n",
    "        self.name = name\n",
    "        self.breed = breed\n",
    "        self.age = age\n",
    "        self.coat = coat\n",
    "        self.weight = weight\n",
    "        self.gender = random.choice(self.GENDER)\n",
    "        self.genus = 'Canis'"
   ]
  },
  {
   "cell_type": "code",
   "execution_count": null,
   "id": "5a3d0113",
   "metadata": {},
   "outputs": [],
   "source": [
    "# Let's create a Dog instance (i.e.: an instance)\n",
    "\n",
    "penny = Dog(name = 'Penny', \n",
    "            breed = 'Pug', \n",
    "            age = 12, \n",
    "            coat = 'fawn',\n",
    "            weight = '7 kg')"
   ]
  },
  {
   "cell_type": "markdown",
   "id": "2f1d430c",
   "metadata": {},
   "source": [
    "![penny](http://www.potacho.com/wp-content/uploads/2014/05/06-05_01.jpg)"
   ]
  },
  {
   "cell_type": "code",
   "execution_count": null,
   "id": "59b1636b",
   "metadata": {},
   "outputs": [],
   "source": [
    "# Let's explore object's attributes\n",
    "\n",
    "penny.name"
   ]
  },
  {
   "cell_type": "markdown",
   "id": "9240fdbe",
   "metadata": {},
   "source": [
    "---"
   ]
  },
  {
   "cell_type": "markdown",
   "id": "dc28cca1",
   "metadata": {},
   "source": [
    "## Methods (i.e.: functions)"
   ]
  },
  {
   "cell_type": "code",
   "execution_count": null,
   "id": "70c7e7b2",
   "metadata": {},
   "outputs": [],
   "source": [
    "# Methods: you've been using them all the time!!!\n",
    "\n",
    "string = 'Iron.Hack'\n",
    "string = string.split('.')\n",
    "string"
   ]
  },
  {
   "cell_type": "markdown",
   "id": "76cdb3d6",
   "metadata": {},
   "source": [
    "---"
   ]
  },
  {
   "cell_type": "code",
   "execution_count": null,
   "id": "603f0703",
   "metadata": {},
   "outputs": [],
   "source": [
    "# Now the dog must do things\n",
    "\n",
    "class Dog(object):   # classes are usually capitalized.\n",
    "    \n",
    "    GENDER = ['male', 'female']\n",
    "    \n",
    "    def __init__(self,   # self makes reference to the instance\n",
    "                 name, \n",
    "                 breed, \n",
    "                 age, \n",
    "                 coat, \n",
    "                 weight):\n",
    "        \n",
    "        self.name = name\n",
    "        self.breed = breed\n",
    "        self.age = age\n",
    "        self.coat = coat\n",
    "        self.weight = weight\n",
    "        self.gender = random.choice(self.GENDER)\n",
    "        self.genus = 'Canis'\n",
    "        \n",
    "    def eat(self, amount):\n",
    "        new_weight = float(self.weight.split(' ')[0]) + amount\n",
    "        self.weight = f'{round(new_weight, 2)} kg'\n",
    "        return f'{self.name} is getting fat and now weights {self.weight}'\n",
    "    \n",
    "    def shit(self):\n",
    "        pass"
   ]
  },
  {
   "cell_type": "code",
   "execution_count": null,
   "id": "eee926e3",
   "metadata": {},
   "outputs": [],
   "source": [
    "penny = Dog(name = 'Penny', \n",
    "            breed = 'Pug', \n",
    "            age = 12, \n",
    "            coat = 'fawn',\n",
    "            weight = '7 kg')"
   ]
  },
  {
   "cell_type": "code",
   "execution_count": null,
   "id": "4404ca7c",
   "metadata": {},
   "outputs": [],
   "source": [
    "# Penny is hungry!!!\n",
    "\n"
   ]
  },
  {
   "cell_type": "code",
   "execution_count": null,
   "id": "44dd1390",
   "metadata": {},
   "outputs": [],
   "source": [
    "# Penny's going to explode!!!\n",
    "\n"
   ]
  },
  {
   "cell_type": "code",
   "execution_count": null,
   "id": "ce6452c9",
   "metadata": {},
   "outputs": [],
   "source": [
    "# Some useful default methods...\n",
    "\n",
    "print(Dog.__dict__, end='\\n\\n')\n",
    "#print(penny.__dict__, end='\\n\\n')"
   ]
  },
  {
   "cell_type": "code",
   "execution_count": null,
   "id": "0a461e8b",
   "metadata": {},
   "outputs": [],
   "source": [
    "# And of course...\n",
    "\n",
    "print(isinstance(penny, Dog), end='\\n\\n')"
   ]
  },
  {
   "cell_type": "markdown",
   "id": "1dd9d1d9",
   "metadata": {},
   "source": [
    "---"
   ]
  },
  {
   "cell_type": "code",
   "execution_count": null,
   "id": "57d57cf9",
   "metadata": {},
   "outputs": [],
   "source": [
    "# Inheritance\n",
    "\n",
    "class Cat(Dog):   # share attributes with Dogs.\n",
    "    def __init__(self,   # self makes reference to the instance\n",
    "                 name, \n",
    "                 breed, \n",
    "                 age, \n",
    "                 coat, \n",
    "                 weight, \n",
    "                 species):\n",
    "        super().__init__(name, breed, age, coat, weight)\n",
    "        self.genus = 'Felis'"
   ]
  },
  {
   "cell_type": "code",
   "execution_count": null,
   "id": "6bbecb03",
   "metadata": {},
   "outputs": [],
   "source": [
    "tigre = Cat(name = 'Tigre', \n",
    "            breed = 'European', \n",
    "            age = 18, \n",
    "            coat = 'ticked tabby',\n",
    "            weight = '3 kg', \n",
    "            species = 'Felis catus')"
   ]
  },
  {
   "cell_type": "code",
   "execution_count": null,
   "id": "7ef70ada",
   "metadata": {},
   "outputs": [],
   "source": [
    "# Tigre is hungry\n",
    "\n",
    "tigre.eat(500)\n",
    "tigre.weight"
   ]
  },
  {
   "cell_type": "markdown",
   "id": "6069f069",
   "metadata": {},
   "source": [
    "### Now let's try to build our first `Class` (https://www.codewars.com/kata/5a03af9606d5b65ff7000009/train/python)"
   ]
  }
 ],
 "metadata": {
  "kernelspec": {
   "display_name": "Python [conda env:.conda-ironhack]",
   "language": "python",
   "name": "conda-env-.conda-ironhack-py"
  },
  "language_info": {
   "codemirror_mode": {
    "name": "ipython",
    "version": 3
   },
   "file_extension": ".py",
   "mimetype": "text/x-python",
   "name": "python",
   "nbconvert_exporter": "python",
   "pygments_lexer": "ipython3",
   "version": "3.7.11"
  }
 },
 "nbformat": 4,
 "nbformat_minor": 5
}
