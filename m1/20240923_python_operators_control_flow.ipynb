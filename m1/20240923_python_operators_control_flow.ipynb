{
 "cells": [
  {
   "cell_type": "markdown",
   "id": "fd9ae331",
   "metadata": {},
   "source": [
    "# Operators\n",
    "\n",
    "- __Arithmetic Operators__\n",
    "    \n",
    "- __Assignment Operators__\n",
    "    \n",
    "- __Comparison Operators__\n",
    "\n",
    "- __Logical Operators__\n",
    "\n",
    "- __Identity Operators__\n",
    "\n",
    "- __Membership Operators__\n"
   ]
  },
  {
   "cell_type": "code",
   "execution_count": null,
   "id": "0931eabe",
   "metadata": {},
   "outputs": [],
   "source": [
    "# Arithmetic Operators\n",
    "\n",
    "x = 5\n",
    "y = 2\n",
    "print(x + y)\n",
    "#print(x - y)\n",
    "#print(x * y)\n",
    "#print(x / y)\n",
    "#print(x % y)\n",
    "#print(x ** y)\n",
    "#print(x // y)"
   ]
  },
  {
   "cell_type": "code",
   "execution_count": null,
   "id": "6644afc6",
   "metadata": {},
   "outputs": [],
   "source": [
    "# Assignment Operators\n",
    "\n",
    "x = 5\n",
    "x"
   ]
  },
  {
   "cell_type": "code",
   "execution_count": null,
   "id": "f66d3b81",
   "metadata": {},
   "outputs": [],
   "source": [
    "x += 3 # x = x + 3\n",
    "x"
   ]
  },
  {
   "cell_type": "code",
   "execution_count": null,
   "id": "9e11ba55",
   "metadata": {},
   "outputs": [],
   "source": [
    "x -= 3 # x = x - 3\n",
    "x"
   ]
  },
  {
   "cell_type": "code",
   "execution_count": null,
   "id": "8ff2de61",
   "metadata": {},
   "outputs": [],
   "source": [
    "x *= 3 # x = x * 3\n",
    "x"
   ]
  },
  {
   "cell_type": "code",
   "execution_count": null,
   "id": "ae471b21",
   "metadata": {},
   "outputs": [],
   "source": [
    "x /= 3 # x = x / 3\n",
    "x"
   ]
  },
  {
   "cell_type": "code",
   "execution_count": null,
   "id": "b736ce42",
   "metadata": {},
   "outputs": [],
   "source": [
    "# Comparison Operators\n",
    "x = 15\n",
    "y = 16\n",
    "\n",
    "print(x == y)\n",
    "#print(x != y)\n",
    "#print(x < y)\n",
    "#print(x > y)\n",
    "#print(x <= y)\n",
    "#print(x >= y)"
   ]
  },
  {
   "cell_type": "code",
   "execution_count": null,
   "id": "51e12e45",
   "metadata": {},
   "outputs": [],
   "source": [
    "# Logical Operators (and, or, not)\n",
    "x = 6\n",
    "if x < 5 and x < 10:\n",
    "    print('True')\n",
    "else:\n",
    "    print('False')\n",
    "    \n",
    "'''\n",
    "if not(x < 5 and x < 10):\n",
    "    print('True')\n",
    "else:\n",
    "    print('False')\n",
    "'''"
   ]
  },
  {
   "cell_type": "code",
   "execution_count": null,
   "id": "9ae6c8b2",
   "metadata": {},
   "outputs": [],
   "source": [
    "# Identity Operators and Membership Operators\n",
    "\n",
    "var1 = 'ironhack'\n",
    "var2 = 'data'\n",
    "\n",
    "var1 is var2\n",
    "#var2 in var1"
   ]
  },
  {
   "cell_type": "markdown",
   "id": "646f5e8a",
   "metadata": {},
   "source": [
    "---\n",
    "\n",
    "# Control Flow\n",
    "\n",
    "- __if__\n",
    "    \n",
    "- __elif__\n",
    "    \n",
    "- __else__\n",
    "\n",
    "- __for__\n",
    "\n",
    "- __while__"
   ]
  },
  {
   "cell_type": "code",
   "execution_count": null,
   "id": "802f9e5b",
   "metadata": {},
   "outputs": [],
   "source": [
    "# if, elif, else\n",
    "\n",
    "price = float(input(\"Enter a price: \"))\n",
    "quantity = int(input(\"Enter a quantity: \"))\n",
    "amount = price * quantity\n",
    "print('Total amount:', amount)\n",
    "\n",
    "if amount > 100:\n",
    "    if amount > 500:\n",
    "        print(\"The amount is greater than 500\")\n",
    "    else:\n",
    "        if amount <= 500 and amount > 400:\n",
    "            print(\"The amount is between 401 and 500\")\n",
    "        elif amount <= 500 and amount > 300:\n",
    "            print(\"The amount is between 301 and 400\")\n",
    "        else:\n",
    "            print(\"The amount is between 101 and 300\")\n",
    "elif amount == 100:\n",
    "    print(\"The amount is 100\")\n",
    "else:\n",
    "    print(\"The amount is less than 100\")"
   ]
  },
  {
   "cell_type": "code",
   "execution_count": null,
   "id": "1100c01e",
   "metadata": {},
   "outputs": [],
   "source": [
    "# for loop\n",
    "\n",
    "rows = 5\n",
    "# outer loop\n",
    "for i in range(rows):\n",
    "    # inner loop\n",
    "    for j in range(i + 1):\n",
    "        print(\"*\", end=\" \")\n",
    "    print('')"
   ]
  },
  {
   "cell_type": "code",
   "execution_count": null,
   "id": "76556836",
   "metadata": {},
   "outputs": [],
   "source": [
    "# while loop\n",
    "\n",
    "names = ['Blanca', \n",
    "         'Javier', \n",
    "         'Jose Luis', \n",
    "         'Kristina', \n",
    "         'Martin', \n",
    "         'Paul']\n",
    "\n",
    "for name in names:\n",
    "    # inner while loop\n",
    "    count = 0\n",
    "    while count < 1:\n",
    "        print(name, end=' ')\n",
    "        # increment counter\n",
    "        count += 1\n",
    "    print()"
   ]
  },
  {
   "cell_type": "code",
   "execution_count": null,
   "id": "dffc9d8b",
   "metadata": {},
   "outputs": [],
   "source": [
    "# break\n",
    "\n",
    "for i in range(4):\n",
    "    for j in range(4):\n",
    "        if j == i:\n",
    "            break\n",
    "        print(i, j)"
   ]
  },
  {
   "cell_type": "code",
   "execution_count": null,
   "id": "db274937",
   "metadata": {},
   "outputs": [],
   "source": [
    "# continue\n",
    "\n",
    "first = [2, 4, 6]\n",
    "second = [2, 4, 6]\n",
    "for i in first:\n",
    "    for j in second:\n",
    "        if i == j:\n",
    "            continue\n",
    "        print(i, '*', j, '= ', i * j)"
   ]
  },
  {
   "cell_type": "markdown",
   "id": "fecfda33",
   "metadata": {},
   "source": [
    "---"
   ]
  }
 ],
 "metadata": {
  "kernelspec": {
   "display_name": "Python [conda env:.conda-ironhack]",
   "language": "python",
   "name": "conda-env-.conda-ironhack-py"
  },
  "language_info": {
   "codemirror_mode": {
    "name": "ipython",
    "version": 3
   },
   "file_extension": ".py",
   "mimetype": "text/x-python",
   "name": "python",
   "nbconvert_exporter": "python",
   "pygments_lexer": "ipython3",
   "version": "3.7.11"
  }
 },
 "nbformat": 4,
 "nbformat_minor": 5
}
