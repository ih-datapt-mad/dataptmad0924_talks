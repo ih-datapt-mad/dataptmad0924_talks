{
 "cells": [
  {
   "cell_type": "markdown",
   "id": "64576090",
   "metadata": {},
   "source": [
    "# Pandas Data Manipulation\n",
    "\n",
    "Some methods: `.isin()`, `sort_values()`, `.reset_index()`, `pd.merge()`, `pd.concat()`, `.set_index()`, `.get_dummies()` \n",
    "\n",
    "---"
   ]
  },
  {
   "cell_type": "code",
   "execution_count": null,
   "id": "677dc3c4",
   "metadata": {},
   "outputs": [],
   "source": [
    "import pandas as pd"
   ]
  },
  {
   "cell_type": "code",
   "execution_count": null,
   "id": "50412756",
   "metadata": {},
   "outputs": [],
   "source": [
    "df1 = pd.read_csv('./datasets/football_deaths.csv') \n",
    "# https://www.kaggle.com/shivamb/football-deaths\n",
    "\n",
    "df1.info()"
   ]
  },
  {
   "cell_type": "code",
   "execution_count": null,
   "id": "c1148ec0",
   "metadata": {},
   "outputs": [],
   "source": [
    "print(df1.columns)\n",
    "df1.head()"
   ]
  },
  {
   "cell_type": "code",
   "execution_count": null,
   "id": "895884c3",
   "metadata": {},
   "outputs": [],
   "source": [
    "df1['player_country'].value_counts()"
   ]
  },
  {
   "cell_type": "code",
   "execution_count": null,
   "id": "e6103be1",
   "metadata": {},
   "outputs": [],
   "source": [
    "df1['player_team_name'].value_counts()"
   ]
  },
  {
   "cell_type": "code",
   "execution_count": null,
   "id": "442c5a64",
   "metadata": {},
   "outputs": [],
   "source": [
    "df1['incident_description'].value_counts()"
   ]
  },
  {
   "cell_type": "code",
   "execution_count": null,
   "id": "3d3aa9a5",
   "metadata": {},
   "outputs": [],
   "source": [
    "df1_data = df1[['incident_date', 'player_country', 'player_age']]\n",
    "df1_data.info()"
   ]
  },
  {
   "cell_type": "code",
   "execution_count": null,
   "id": "098b9429",
   "metadata": {},
   "outputs": [],
   "source": [
    "df1_data['incident_date'].astype('datetime64[ns]')\n",
    "df1_data.head()"
   ]
  },
  {
   "cell_type": "code",
   "execution_count": null,
   "id": "41c48cf6",
   "metadata": {},
   "outputs": [],
   "source": [
    "# We like functions!!!\n",
    "\n",
    "def row_filter(df, cat_var, cat_values, sort_by):\n",
    "    df = df[df[cat_var].isin(cat_values)].sort_values(by=sort_by, ascending=False)\n",
    "    return df.reset_index(drop=True)"
   ]
  },
  {
   "cell_type": "code",
   "execution_count": null,
   "id": "c5b1ee82",
   "metadata": {},
   "outputs": [],
   "source": [
    "col = 'player_country'\n",
    "var = ['Spain', 'France', 'Italy']\n",
    "order = 'incident_date'"
   ]
  },
  {
   "cell_type": "code",
   "execution_count": null,
   "id": "23b515ca",
   "metadata": {},
   "outputs": [],
   "source": [
    "row_filter(df1_data, col, var, order)"
   ]
  },
  {
   "cell_type": "markdown",
   "id": "c69b8743",
   "metadata": {},
   "source": [
    "---"
   ]
  },
  {
   "cell_type": "markdown",
   "id": "789bd57e",
   "metadata": {},
   "source": [
    "### pandas.merge()  & pandas.concat()\n",
    "df.join() & df.append()\n",
    "\n",
    "https://pandas.pydata.org/pandas-docs/stable/user_guide/merging.html"
   ]
  },
  {
   "cell_type": "code",
   "execution_count": null,
   "id": "8eb11ccc",
   "metadata": {
    "scrolled": true
   },
   "outputs": [],
   "source": [
    "df_m1 = pd.DataFrame({'feature_key':['A','B','C'],\n",
    "                      'name':['Name 1','Name 2','Name 3']})\n",
    "df_m1"
   ]
  },
  {
   "cell_type": "code",
   "execution_count": null,
   "id": "4d8d6a7e",
   "metadata": {},
   "outputs": [],
   "source": [
    "import random as r\n",
    "feature_options = ['A','B','C']\n",
    "value_random = [r.randint(1,5) for i in range(20)]\n",
    "feature_random = [feature_options[r.randint(0,2)] for i in range(20)]"
   ]
  },
  {
   "cell_type": "code",
   "execution_count": null,
   "id": "3d011fe8",
   "metadata": {},
   "outputs": [],
   "source": [
    "df_m2 = pd.DataFrame({'feature_key':feature_random,\n",
    "                      'value':value_random})\n",
    "df_m2"
   ]
  },
  {
   "cell_type": "code",
   "execution_count": null,
   "id": "7207801f",
   "metadata": {},
   "outputs": [],
   "source": [
    "# pd.merge() https://pandas.pydata.org/docs/reference/api/pandas.merge.html?highlight=merge#pandas.merge\n",
    "\n",
    "df_m = pd.merge(df_m1, df_m2)\n",
    "df_m"
   ]
  },
  {
   "cell_type": "code",
   "execution_count": null,
   "id": "bb176762",
   "metadata": {},
   "outputs": [],
   "source": [
    "df_c1 = pd.DataFrame({'feature_key':feature_random,\n",
    "                      'value':value_random})\n",
    "df_c1.head()"
   ]
  },
  {
   "cell_type": "code",
   "execution_count": null,
   "id": "7b7aa374",
   "metadata": {},
   "outputs": [],
   "source": [
    "df_c2 = pd.DataFrame({'feature_key':feature_random,\n",
    "                      'value':value_random})\n",
    "df_c2.head()"
   ]
  },
  {
   "cell_type": "code",
   "execution_count": null,
   "id": "856ebe7e",
   "metadata": {
    "scrolled": true
   },
   "outputs": [],
   "source": [
    "# pd.concat() https://pandas.pydata.org/docs/reference/api/pandas.concat.html\n",
    "\n",
    "df_c = pd.concat([df_c1,df_c2])\n",
    "df_c"
   ]
  },
  {
   "cell_type": "markdown",
   "id": "a2e4ce9f",
   "metadata": {},
   "source": [
    "---"
   ]
  },
  {
   "cell_type": "code",
   "execution_count": null,
   "id": "e6ef307c",
   "metadata": {},
   "outputs": [],
   "source": [
    "# .set_index() https://pandas.pydata.org/docs/reference/api/pandas.DataFrame.set_index.html\n",
    "\n",
    "df_c.set_index('feature_key', inplace=True)\n",
    "df_c"
   ]
  },
  {
   "cell_type": "markdown",
   "id": "8522e7d0",
   "metadata": {},
   "source": [
    "---"
   ]
  },
  {
   "cell_type": "markdown",
   "id": "66b589c7",
   "metadata": {},
   "source": [
    "__JOIN Types__\n",
    "\n",
    "![Image](./img/etl_pandas_manipulation_01.jpg)"
   ]
  },
  {
   "cell_type": "markdown",
   "id": "b3b63af8",
   "metadata": {},
   "source": [
    "![Image](./img/etl_pandas_manipulation_02.jpg)"
   ]
  },
  {
   "cell_type": "code",
   "execution_count": null,
   "id": "7b5bff3b",
   "metadata": {},
   "outputs": [],
   "source": [
    "df_j1 = pd.DataFrame({'animal':['dog','cat','horse'],\n",
    "                      'breed':['pug','european','andalusian']})\n",
    "df_j1"
   ]
  },
  {
   "cell_type": "code",
   "execution_count": null,
   "id": "c15ac18e",
   "metadata": {},
   "outputs": [],
   "source": [
    "df_j2 = pd.DataFrame({'animal':['dog','cat','tardigrade'],\n",
    "                      'strength':[100, 200, 8000]})\n",
    "df_j2"
   ]
  },
  {
   "cell_type": "code",
   "execution_count": null,
   "id": "ec585780",
   "metadata": {},
   "outputs": [],
   "source": [
    "# Inner JOIN\n",
    "\n",
    "df_ij = pd.merge(df_j1, df_j2)\n",
    "df_ij"
   ]
  },
  {
   "cell_type": "code",
   "execution_count": null,
   "id": "6ca7e76a",
   "metadata": {},
   "outputs": [],
   "source": [
    "# Outer JOIN\n",
    "\n",
    "df_oj = pd.merge(df_j1, df_j2, how='outer')\n",
    "df_oj"
   ]
  },
  {
   "cell_type": "code",
   "execution_count": null,
   "id": "1668b629",
   "metadata": {},
   "outputs": [],
   "source": [
    "# Left JOIN\n",
    "\n",
    "df_lj = pd.merge(df_j1, df_j2, how='left')\n",
    "df_lj"
   ]
  },
  {
   "cell_type": "code",
   "execution_count": null,
   "id": "1e1d792f",
   "metadata": {},
   "outputs": [],
   "source": [
    "# Right JOIN\n",
    "\n",
    "df_rj = pd.merge(df_j1, df_j2, how='right')\n",
    "df_rj"
   ]
  },
  {
   "cell_type": "markdown",
   "id": "cfebadd7",
   "metadata": {},
   "source": [
    "---"
   ]
  },
  {
   "cell_type": "markdown",
   "id": "3bd84651",
   "metadata": {},
   "source": [
    "### pandas.get_dummies()\n",
    "\n",
    "(a.k.a. One-Hot-Encoding)\n",
    "\n",
    "https://pandas.pydata.org/docs/reference/api/pandas.get_dummies.html"
   ]
  },
  {
   "cell_type": "code",
   "execution_count": null,
   "id": "23abd7ca",
   "metadata": {},
   "outputs": [],
   "source": [
    "df1.loc[df1['heart_related'] != 0,['player_name','heart_related','cardiac_related','collapsed','lightning','collision']]"
   ]
  },
  {
   "cell_type": "code",
   "execution_count": null,
   "id": "3d3372e1",
   "metadata": {},
   "outputs": [],
   "source": [
    "df_teams = df1.loc[df1['team_country'].isin(['England', 'Spain']),['player_name', 'team_country']]\n",
    "df_teams"
   ]
  },
  {
   "cell_type": "code",
   "execution_count": null,
   "id": "bd383f1c",
   "metadata": {},
   "outputs": [],
   "source": [
    "# One-Hot_encoding\n",
    "\n",
    "df_dummies = pd.get_dummies(df_teams, columns=['team_country'])\n",
    "df_dummies"
   ]
  },
  {
   "cell_type": "markdown",
   "id": "a2fbe155",
   "metadata": {},
   "source": [
    "---"
   ]
  }
 ],
 "metadata": {
  "kernelspec": {
   "display_name": "Python [conda env:.conda-ironhack]",
   "language": "python",
   "name": "conda-env-.conda-ironhack-py"
  },
  "language_info": {
   "codemirror_mode": {
    "name": "ipython",
    "version": 3
   },
   "file_extension": ".py",
   "mimetype": "text/x-python",
   "name": "python",
   "nbconvert_exporter": "python",
   "pygments_lexer": "ipython3",
   "version": "3.7.11"
  }
 },
 "nbformat": 4,
 "nbformat_minor": 5
}
