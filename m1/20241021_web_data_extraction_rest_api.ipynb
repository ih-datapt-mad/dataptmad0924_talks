{
 "cells": [
  {
   "cell_type": "markdown",
   "id": "f40e3373",
   "metadata": {},
   "source": [
    "# Web Data Extraction - Part I\n",
    "\n",
    "__Web API:__ Application Programming Interface for Web Applications (Client --> Server)\n",
    "\n",
    "__REST:__ Representational state transfer\n",
    "\n",
    "__URI:__ Uniform Resource Identifier [RFC 3986](https://www.rfc-editor.org/rfc/rfc3986)\n",
    "\n",
    "__HTTP library for Python:__ [Requests](https://requests.readthedocs.io/en/latest/)"
   ]
  },
  {
   "cell_type": "code",
   "execution_count": null,
   "id": "04faedbf",
   "metadata": {},
   "outputs": [],
   "source": [
    "# Import libraries\n",
    "import pandas as pd\n",
    "import requests    #!conda install requests\n",
    "\n",
    "# Pandas display options\n",
    "pd.set_option('display.max_columns', None)"
   ]
  },
  {
   "cell_type": "markdown",
   "id": "44647098",
   "metadata": {},
   "source": [
    "---"
   ]
  },
  {
   "cell_type": "code",
   "execution_count": null,
   "id": "c11c04dc",
   "metadata": {},
   "outputs": [],
   "source": [
    "response = requests.get('https://jsonplaceholder.typicode.com/todos')\n",
    "print(type(response))"
   ]
  },
  {
   "cell_type": "markdown",
   "id": "fdaaaa6a",
   "metadata": {},
   "source": [
    "### HTTP Response\n",
    "\n",
    "[Boring Reference](https://en.wikipedia.org/wiki/List_of_HTTP_status_codes)\n",
    "\n",
    "[Funny Reference](https://http.cat/)"
   ]
  },
  {
   "cell_type": "code",
   "execution_count": null,
   "id": "701dcdf9",
   "metadata": {},
   "outputs": [],
   "source": [
    "status = response.status_code\n",
    "status"
   ]
  },
  {
   "cell_type": "code",
   "execution_count": null,
   "id": "23df88cf",
   "metadata": {},
   "outputs": [],
   "source": [
    "content = response.content     # raw binary content of the response body\n",
    "type(content)"
   ]
  },
  {
   "cell_type": "code",
   "execution_count": null,
   "id": "f39d2873",
   "metadata": {},
   "outputs": [],
   "source": [
    "json_data = response.json()     # parse the content of a HTTP response as JSON (JavaScript Object Notation)\n",
    "print(type(json_data))          # return it as a dictionary or list, depending on the structure of the JSON\n",
    "print(len(json_data))\n",
    "print(type(json_data[0]))\n",
    "json_data[0].keys()"
   ]
  },
  {
   "cell_type": "code",
   "execution_count": null,
   "id": "4755a4b1",
   "metadata": {},
   "outputs": [],
   "source": [
    "# Other attributes/methods: .headers, .links, .cookies\n",
    "\n",
    "headers = response.headers\n",
    "headers"
   ]
  },
  {
   "cell_type": "code",
   "execution_count": null,
   "id": "b90d08c2",
   "metadata": {},
   "outputs": [],
   "source": [
    "# But we like DataFrames\n",
    "\n",
    "df = pd.DataFrame(json_data)\n",
    "df"
   ]
  },
  {
   "cell_type": "markdown",
   "id": "aff0fba3",
   "metadata": {},
   "source": [
    "---"
   ]
  },
  {
   "cell_type": "code",
   "execution_count": null,
   "id": "6515deaf",
   "metadata": {},
   "outputs": [],
   "source": [
    "# Main End-Point\n",
    "end_point = 'https://api.github.com/'\n",
    "# Body\n",
    "par1 = 'repos/'\n",
    "par2 = 'ih-datapt-mad/'\n",
    "par3 = 'dataptmad0924_labs/'\n",
    "par4 = 'pulls'     # https://docs.github.com/en/rest/reference/pulls\n",
    "par5 = '?state=closed'"
   ]
  },
  {
   "cell_type": "code",
   "execution_count": null,
   "id": "6823c3f9",
   "metadata": {},
   "outputs": [],
   "source": [
    "full_url = end_point + par1 + par2 + par3 + par4 + par5\n",
    "pulls_response = requests.get(full_url)\n",
    "pulls_json = pulls_response.json()\n",
    "print(full_url)\n",
    "print(type(pulls_json))\n",
    "print(len(pulls_json))\n",
    "print(pulls_json[0].keys())"
   ]
  },
  {
   "cell_type": "code",
   "execution_count": null,
   "id": "8f065d67",
   "metadata": {},
   "outputs": [],
   "source": [
    "df_pulls = pd.DataFrame(pulls_json)\n",
    "df_pulls"
   ]
  },
  {
   "cell_type": "markdown",
   "id": "d529a3a2",
   "metadata": {},
   "source": [
    "---"
   ]
  },
  {
   "cell_type": "code",
   "execution_count": null,
   "id": "9f5ed955",
   "metadata": {},
   "outputs": [],
   "source": [
    "# The best way is with a method called: .json_normalize\n",
    "\n",
    "df_flat = pd.json_normalize(pulls_json)#.T.reset_index(drop=True)\n",
    "print(df_flat.info())\n",
    "df_flat"
   ]
  },
  {
   "cell_type": "markdown",
   "id": "6e9865e5",
   "metadata": {},
   "source": [
    "---"
   ]
  },
  {
   "cell_type": "markdown",
   "id": "f137ec45",
   "metadata": {},
   "source": [
    "__Some useful tools:__\n",
    "\n",
    "- https://curlconverter.com/\n",
    "\n",
    "- https://www.postman.com/"
   ]
  },
  {
   "cell_type": "markdown",
   "id": "43efb0b0",
   "metadata": {},
   "source": [
    "__Some REST API to practice with:__\n",
    "\n",
    "- https://jsonplaceholder.typicode.com\n",
    "\n",
    "- https://docs.github.com/en/rest\n",
    "\n",
    "- https://github.com/Kaggle/kaggle-api\n",
    "\n",
    "- https://polygon.io/\n",
    "\n",
    "- https://coinmarketcap.com/api/documentation/v1/#section/Quick-Start-Guide\n",
    "\n",
    "- https://datos.gob.es/es/documentacion/guia-practica-para-la-publicacion-de-datos-abiertos-usando-apis"
   ]
  }
 ],
 "metadata": {
  "kernelspec": {
   "display_name": "Python [conda env:.conda-ironhack]",
   "language": "python",
   "name": "conda-env-.conda-ironhack-py"
  },
  "language_info": {
   "codemirror_mode": {
    "name": "ipython",
    "version": 3
   },
   "file_extension": ".py",
   "mimetype": "text/x-python",
   "name": "python",
   "nbconvert_exporter": "python",
   "pygments_lexer": "ipython3",
   "version": "3.7.11"
  }
 },
 "nbformat": 4,
 "nbformat_minor": 5
}
