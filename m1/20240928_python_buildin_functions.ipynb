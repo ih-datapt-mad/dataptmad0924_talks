{
 "cells": [
  {
   "cell_type": "markdown",
   "id": "fbe26829",
   "metadata": {},
   "source": [
    "# Built-in Functions\n",
    "\n",
    "https://docs.python.org/3.9/library/functions.html\n",
    "\n",
    "- __isinstance(object, classinfo)__\n",
    "\n",
    "- __enumerate(iterable, start=0)__\n",
    "    \n",
    "- __input([prompt])__\n",
    "    \n",
    "- __sum(iterable, /, start=0)__\n",
    "\n",
    "- __range(start, stop[, step])__\n",
    "\n",
    "- __print(*objects, sep=' ', end='\\n', file=sys.stdout, flush=False)__"
   ]
  },
  {
   "cell_type": "code",
   "execution_count": null,
   "id": "65a5d1b8",
   "metadata": {},
   "outputs": [],
   "source": [
    "# https://docs.python.org/3.9/library/functions.html#isinstance\n",
    "\n",
    "value = 5\n",
    "\n",
    "if isinstance(value, int):\n",
    "    print('Data type is correct')\n",
    "else:\n",
    "    print('FATAL ERROR CALL HOUSTON ASAP!!!')"
   ]
  },
  {
   "cell_type": "markdown",
   "id": "2497ec59",
   "metadata": {},
   "source": [
    "---"
   ]
  },
  {
   "cell_type": "code",
   "execution_count": null,
   "id": "2a44b912",
   "metadata": {},
   "outputs": [],
   "source": [
    "# https://docs.python.org/3.9/library/functions.html#enumerate\n",
    "\n",
    "values = ['enumerate', 42, ('key','value'), 666, 3.1416]\n",
    "\n",
    "dictionary = {}\n",
    "for pos, value in enumerate(values):\n",
    "    if isinstance(value, int):\n",
    "        dictionary['key_'+str(pos)] = value\n",
    "    \n",
    "dictionary"
   ]
  },
  {
   "cell_type": "code",
   "execution_count": null,
   "id": "3fa9ff1d",
   "metadata": {},
   "outputs": [],
   "source": [
    "python_object = enumerate(values)\n",
    "print(type(python_object))\n",
    "list(python_object)"
   ]
  },
  {
   "cell_type": "markdown",
   "id": "b14816da",
   "metadata": {},
   "source": [
    "---"
   ]
  },
  {
   "cell_type": "code",
   "execution_count": null,
   "id": "9f31673c",
   "metadata": {},
   "outputs": [],
   "source": [
    "# https://docs.python.org/3.9/library/functions.html#input\n",
    "\n",
    "value = input('Enter a value here --> ')\n",
    "f'The value is {value}'\n",
    "#'The value is ' + value\n",
    "#'The value is {}'.format(value)"
   ]
  },
  {
   "cell_type": "markdown",
   "id": "fb675fdc",
   "metadata": {},
   "source": [
    "---"
   ]
  },
  {
   "cell_type": "code",
   "execution_count": null,
   "id": "a96e1720",
   "metadata": {},
   "outputs": [],
   "source": [
    "# https://docs.python.org/3.9/library/functions.html#sum\n",
    "\n",
    "my_values = [1, 2, 3, 4, 5]\n",
    "\n",
    "sum(my_values)"
   ]
  },
  {
   "cell_type": "markdown",
   "id": "4fcc5155",
   "metadata": {},
   "source": [
    "---"
   ]
  },
  {
   "cell_type": "code",
   "execution_count": null,
   "id": "5c3dc2bb",
   "metadata": {},
   "outputs": [],
   "source": [
    "# https://docs.python.org/3.9/library/functions.html#func-range\n",
    "\n",
    "for i in range(20):\n",
    "    print(i)"
   ]
  },
  {
   "cell_type": "markdown",
   "id": "6f06e656",
   "metadata": {},
   "source": [
    "---"
   ]
  },
  {
   "cell_type": "code",
   "execution_count": null,
   "id": "a3f070fd",
   "metadata": {},
   "outputs": [],
   "source": [
    "# https://docs.python.org/3.9/library/functions.html#print\n",
    "\n",
    "for i in range(2, 20, 2):\n",
    "    print(i, i * i)#, sep='---', end='___')"
   ]
  },
  {
   "cell_type": "markdown",
   "id": "9cf510e5",
   "metadata": {},
   "source": [
    "---"
   ]
  }
 ],
 "metadata": {
  "kernelspec": {
   "display_name": "Python [conda env:.conda-ironhack]",
   "language": "python",
   "name": "conda-env-.conda-ironhack-py"
  },
  "language_info": {
   "codemirror_mode": {
    "name": "ipython",
    "version": 3
   },
   "file_extension": ".py",
   "mimetype": "text/x-python",
   "name": "python",
   "nbconvert_exporter": "python",
   "pygments_lexer": "ipython3",
   "version": "3.7.11"
  }
 },
 "nbformat": 4,
 "nbformat_minor": 5
}
