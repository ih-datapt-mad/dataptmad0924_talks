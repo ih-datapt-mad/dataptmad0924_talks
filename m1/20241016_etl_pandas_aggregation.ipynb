{
 "cells": [
  {
   "cell_type": "markdown",
   "id": "20f67f63",
   "metadata": {},
   "source": [
    "# Pandas Data Aggregation\n",
    "\n",
    "`.groupby()`, `.agg()`"
   ]
  },
  {
   "cell_type": "markdown",
   "id": "793a297b",
   "metadata": {},
   "source": [
    "KPI Library: https://bernardmarr.com/kpi-library/"
   ]
  },
  {
   "cell_type": "code",
   "execution_count": null,
   "id": "60f50d59",
   "metadata": {},
   "outputs": [],
   "source": [
    "import numpy as np\n",
    "import pandas as pd"
   ]
  },
  {
   "cell_type": "markdown",
   "id": "04cf8ea1",
   "metadata": {},
   "source": [
    "__As always we explore our dataset__\n",
    "\n",
    "[Original dataset](https://datos.madrid.es/portal/site/egob/menuitem.c05c1f754a33a9fbe4b2e4b284f1a5a0/?vgnextoid=67663c0a55e16710VgnVCM1000001d4a900aRCRD&vgnextchannel=374512b9ace9f310VgnVCM100000171f5a0aRCRD&vgnextfmt=default)"
   ]
  },
  {
   "cell_type": "code",
   "execution_count": null,
   "id": "c2b67a46",
   "metadata": {},
   "outputs": [],
   "source": [
    "%%time\n",
    "\n",
    "parking = pd.read_csv()\n",
    "#parking = pd.read_parquet()"
   ]
  },
  {
   "cell_type": "code",
   "execution_count": null,
   "id": "d2b00860",
   "metadata": {},
   "outputs": [],
   "source": [
    "# Dimension tables \n",
    "\n",
    "distritos = pd.read_csv('./datasets/distritos.csv')\n",
    "barrios = pd.read_csv('./datasets/barrios.csv')"
   ]
  },
  {
   "cell_type": "code",
   "execution_count": null,
   "id": "3d5ae84b",
   "metadata": {},
   "outputs": [],
   "source": [
    "print(parking.info())\n",
    "parking.head()"
   ]
  },
  {
   "cell_type": "code",
   "execution_count": null,
   "id": "c987f4cf",
   "metadata": {},
   "outputs": [],
   "source": [
    "print(distritos.info())\n",
    "distritos.head()"
   ]
  },
  {
   "cell_type": "code",
   "execution_count": null,
   "id": "7e1a6e8a",
   "metadata": {},
   "outputs": [],
   "source": [
    "print(barrios.info())\n",
    "barrios.head()"
   ]
  },
  {
   "cell_type": "code",
   "execution_count": null,
   "id": "9431aa8d",
   "metadata": {},
   "outputs": [],
   "source": [
    "parking.isnull().sum()"
   ]
  },
  {
   "cell_type": "markdown",
   "id": "8ca12bd8",
   "metadata": {},
   "source": [
    "__Time span__"
   ]
  },
  {
   "cell_type": "code",
   "execution_count": null,
   "id": "bebe664c",
   "metadata": {},
   "outputs": [],
   "source": [
    "%%time\n",
    "\n",
    "parking['fecha_operacion'] = pd.to_datetime(parking['fecha_operacion'], format=\"%Y-%m-%d %H:%M:%S\")"
   ]
  },
  {
   "cell_type": "code",
   "execution_count": null,
   "id": "38033994",
   "metadata": {},
   "outputs": [],
   "source": [
    "parking['fecha_operacion'].max() - parking['fecha_operacion'].min()"
   ]
  },
  {
   "cell_type": "markdown",
   "id": "130fd8d5",
   "metadata": {},
   "source": [
    "__Data Manipulation__"
   ]
  },
  {
   "cell_type": "code",
   "execution_count": null,
   "id": "3189d83e",
   "metadata": {},
   "outputs": [],
   "source": [
    "%%time\n",
    "\n",
    "p_distritos = pd.merge(parking, distritos)\n",
    "p_distritos.head()"
   ]
  },
  {
   "cell_type": "code",
   "execution_count": null,
   "id": "aef92cee",
   "metadata": {},
   "outputs": [],
   "source": [
    "# Always check the results!!!\n",
    "\n",
    "just_checking = p_distritos[p_distritos['cod_distrito'].isin([5])]['distrito']\n",
    "just_checking.unique()"
   ]
  },
  {
   "cell_type": "markdown",
   "id": "96f8ddd5",
   "metadata": {},
   "source": [
    "---"
   ]
  },
  {
   "cell_type": "markdown",
   "id": "418690e3",
   "metadata": {},
   "source": [
    "## The `df.groupby()` object"
   ]
  },
  {
   "cell_type": "code",
   "execution_count": null,
   "id": "5615ffdd",
   "metadata": {},
   "outputs": [],
   "source": [
    "%%time\n",
    "\n",
    "groupby_object = p_distritos.groupby(['distrito'])\n",
    "groupby_object"
   ]
  },
  {
   "cell_type": "markdown",
   "id": "9a2fac7b",
   "metadata": {},
   "source": [
    "## The `.agg()` method"
   ]
  },
  {
   "cell_type": "code",
   "execution_count": null,
   "id": "e5ef4abf",
   "metadata": {},
   "outputs": [],
   "source": [
    "%%time\n",
    "\n",
    "total_distritos = groupby_object[['minutos_tique',\n",
    "                                  'importe_tique']]\\\n",
    "                  .sum()#.sort_values(by='importe_tique',\n",
    "                                     #ascending=False).reset_index()\n",
    "total_distritos"
   ]
  },
  {
   "cell_type": "markdown",
   "id": "fbaf7714",
   "metadata": {},
   "source": [
    "---"
   ]
  },
  {
   "cell_type": "code",
   "execution_count": null,
   "id": "59f691b2",
   "metadata": {},
   "outputs": [],
   "source": [
    "# Another aggregation\n",
    "\n",
    "media_distritos = p_distritos.groupby(['distrito'])[['minutos_tique',\n",
    "                                                     'importe_tique']]\\\n",
    "                  .mean()#.sort_values(by='importe_tique',\n",
    "                                      #ascending=False).reset_index()\n",
    "media_distritos"
   ]
  },
  {
   "cell_type": "code",
   "execution_count": null,
   "id": "b9988813",
   "metadata": {},
   "outputs": [],
   "source": [
    "#Multiple agg functions for all columns\n",
    "\n",
    "stats_distritos = p_distritos.groupby(['distrito'])[['minutos_tique',\n",
    "                                                     'importe_tique']]\\\n",
    "                  .agg(['min', 'max', 'mean', 'median', 'std'])\\\n",
    "                  .sort_values(by=('importe_tique',\n",
    "                                   'median'), ascending=False)\n",
    "stats_distritos"
   ]
  },
  {
   "cell_type": "code",
   "execution_count": null,
   "id": "f86eadb5",
   "metadata": {},
   "outputs": [],
   "source": [
    "stats_distritos.index"
   ]
  },
  {
   "cell_type": "code",
   "execution_count": null,
   "id": "8bf64d77",
   "metadata": {},
   "outputs": [],
   "source": [
    "stats_distritos.columns"
   ]
  },
  {
   "cell_type": "code",
   "execution_count": null,
   "id": "041c8650",
   "metadata": {},
   "outputs": [],
   "source": [
    "# Multiple agg functions for different columns\n",
    "\n",
    "multistats_distritos = p_distritos.groupby(['distrito'])[['minutos_tique',\n",
    "                                                          'importe_tique']]\\\n",
    "                       .agg(mean_importe=('importe_tique', 'mean'),\n",
    "                            std_importe=('importe_tique', 'std'),\n",
    "                            median_minutos=('minutos_tique', 'median')).sort_values(by='median_minutos',\n",
    "                                                                                    ascending=False)\n",
    "multistats_distritos"
   ]
  },
  {
   "cell_type": "code",
   "execution_count": null,
   "id": "87c4edde",
   "metadata": {},
   "outputs": [],
   "source": [
    "# Numpy agg function (e.g.: https://numpy.org/doc/stable/reference/generated/numpy.ptp.html)\n",
    "\n",
    "numpy_distritos = p_distritos.groupby(['distrito'])[['importe_tique']]\\\n",
    "                  .agg(np.ptp).sort_values(by='importe_tique', ascending=False)\n",
    "numpy_distritos"
   ]
  },
  {
   "cell_type": "code",
   "execution_count": null,
   "id": "7163e53a",
   "metadata": {},
   "outputs": [],
   "source": [
    "#Custom agg function\n",
    "\n",
    "def custom(col):\n",
    "    return f'{round((np.sum(col)*100)/ minutos, 2)} centimos/hora'"
   ]
  },
  {
   "cell_type": "code",
   "execution_count": null,
   "id": "b5bac8c6",
   "metadata": {},
   "outputs": [],
   "source": [
    "minutos = p_distritos['minutos_tique'].sum() / 60\n",
    "\n",
    "custom_distritos = p_distritos.groupby(['distrito'])[['importe_tique']]\\\n",
    "                   .agg(custom).sort_values(by='importe_tique', ascending=False)\n",
    "custom_distritos"
   ]
  },
  {
   "cell_type": "markdown",
   "id": "55abd008",
   "metadata": {},
   "source": [
    "---"
   ]
  },
  {
   "cell_type": "markdown",
   "id": "a2bd8fb6",
   "metadata": {},
   "source": [
    "### Now your turn to practice performing the same excercise by _'Barrio'_...\n",
    "\n",
    "![Image](./img/etl_pandas_agg_01.jpg)"
   ]
  }
 ],
 "metadata": {
  "kernelspec": {
   "display_name": "Python [conda env:.conda-ironhack]",
   "language": "python",
   "name": "conda-env-.conda-ironhack-py"
  },
  "language_info": {
   "codemirror_mode": {
    "name": "ipython",
    "version": 3
   },
   "file_extension": ".py",
   "mimetype": "text/x-python",
   "name": "python",
   "nbconvert_exporter": "python",
   "pygments_lexer": "ipython3",
   "version": "3.7.11"
  }
 },
 "nbformat": 4,
 "nbformat_minor": 5
}
