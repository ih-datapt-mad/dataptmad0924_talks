{
 "cells": [
  {
   "cell_type": "markdown",
   "id": "7d5e1d0a",
   "metadata": {},
   "source": [
    "# Proper Coding\n",
    "\n",
    "__PEP 8 -- Style Guide for Python Code:__ https://www.python.org/dev/peps/pep-0008/  (alt: https://pep8.org/)\n",
    "\n",
    "---\n"
   ]
  },
  {
   "cell_type": "markdown",
   "id": "77065969",
   "metadata": {},
   "source": [
    "### What is Python\n",
    "\n",
    "- Generalist\n",
    "\n",
    "- Interpretet\n",
    "\n",
    "- Multi-Paradigm\n",
    "\n",
    "- Multi-Platform\n",
    "\n",
    "### Why Python\n",
    "\n",
    "- Human-like syntaxis\n",
    "\n",
    "- Strongly typed\n",
    "\n",
    "- Dynamically typed\n",
    "\n",
    "- Open source\n",
    "\n",
    "- Libraries\n",
    "\n",
    "- Extensible and embeddable"
   ]
  },
  {
   "cell_type": "code",
   "execution_count": null,
   "id": "00d5ff5b",
   "metadata": {
    "scrolled": false
   },
   "outputs": [],
   "source": [
    "import this"
   ]
  },
  {
   "cell_type": "code",
   "execution_count": null,
   "id": "bca91cce",
   "metadata": {},
   "outputs": [],
   "source": [
    "!python --version"
   ]
  },
  {
   "cell_type": "markdown",
   "id": "88cf67c8",
   "metadata": {},
   "source": [
    "---\n",
    "\n",
    "## Commenting vs Documenting Code"
   ]
  },
  {
   "cell_type": "code",
   "execution_count": null,
   "id": "95c4aa19",
   "metadata": {},
   "outputs": [],
   "source": [
    "# This lesson believe it or not is one of the most important lesson"
   ]
  },
  {
   "cell_type": "markdown",
   "id": "1a050402",
   "metadata": {},
   "source": [
    "__Planning and Reviewing:__"
   ]
  },
  {
   "cell_type": "code",
   "execution_count": null,
   "id": "815642a9",
   "metadata": {},
   "outputs": [],
   "source": [
    "# First step\n",
    "# Second step\n",
    "# Third step"
   ]
  },
  {
   "cell_type": "markdown",
   "id": "60dda6d1",
   "metadata": {},
   "source": [
    "__Code Description:__"
   ]
  },
  {
   "cell_type": "code",
   "execution_count": null,
   "id": "80dc2b1a",
   "metadata": {},
   "outputs": [],
   "source": [
    "# Attempt a connection based on previous settings. If unsuccessful,\n",
    "# prompt user for new settings."
   ]
  },
  {
   "cell_type": "markdown",
   "id": "ea5059d7",
   "metadata": {},
   "source": [
    "__Algorithmic Description:__"
   ]
  },
  {
   "cell_type": "code",
   "execution_count": null,
   "id": "95083754",
   "metadata": {},
   "outputs": [],
   "source": [
    "# Using quick sort for performance gains"
   ]
  },
  {
   "cell_type": "code",
   "execution_count": null,
   "id": "5c3a2f2b",
   "metadata": {},
   "outputs": [],
   "source": [
    "# Loop over every dataframe and search for uncomplete data"
   ]
  },
  {
   "cell_type": "markdown",
   "id": "91219959",
   "metadata": {},
   "source": [
    "__Tagging:__"
   ]
  },
  {
   "cell_type": "code",
   "execution_count": null,
   "id": "c5c8a3b6",
   "metadata": {},
   "outputs": [],
   "source": [
    "# TODO: Add condition for when val is None\n",
    "# BUG: the function can't handle strings longer than 300 characters\n",
    "# FIXME: this section needs review\n",
    "# REMEMBER: to finish the lab"
   ]
  },
  {
   "cell_type": "markdown",
   "id": "2ee32c15",
   "metadata": {},
   "source": [
    "__Documenting Code__"
   ]
  },
  {
   "cell_type": "code",
   "execution_count": null,
   "id": "c071ecf4",
   "metadata": {},
   "outputs": [],
   "source": [
    "\"\"\"\n",
    "DataFrame\n",
    "---------\n",
    "An efficient 2D container for potentially mixed-type time series or other\n",
    "labeled data series.\n",
    "Similar to its R counterpart, data.frame, except providing automatic data\n",
    "alignment and a host of useful data manipulation methods having to do with the\n",
    "labeling information\n",
    "\"\"\""
   ]
  },
  {
   "cell_type": "markdown",
   "id": "6c298214",
   "metadata": {},
   "source": [
    "---\n",
    "\n",
    "## Naming Conventions"
   ]
  },
  {
   "cell_type": "code",
   "execution_count": null,
   "id": "558e4e5a",
   "metadata": {},
   "outputs": [],
   "source": [
    "# Functions\n",
    "def new_function(var):\n",
    "    return var"
   ]
  },
  {
   "cell_type": "code",
   "execution_count": null,
   "id": "b3a0343c",
   "metadata": {},
   "outputs": [],
   "source": [
    "# Variables\n",
    "\n",
    "O = 13 # DON'T!!!\n",
    "\n",
    "num = 10\n",
    "\n",
    "my_variable = \"ten\"\n",
    "\n",
    "TOKEN_GITHUB = 3.1415"
   ]
  },
  {
   "cell_type": "code",
   "execution_count": null,
   "id": "ff4ef3e4",
   "metadata": {},
   "outputs": [],
   "source": [
    "user login account # it doesn't work!!!\n",
    "\n",
    "# Alternatives\n",
    "\n",
    "userLoginAccount # camelCase\n",
    "\n",
    "UserLoginAccount # PascalCase\n",
    "\n",
    "user_login_account # snake_case\n",
    "\n",
    "user-login-account # kebab-case"
   ]
  },
  {
   "cell_type": "code",
   "execution_count": null,
   "id": "f939b4c0",
   "metadata": {},
   "outputs": [],
   "source": [
    "# Classes\n",
    "\n",
    "class CoolClass():\n",
    "    \n",
    "    def my_method(output):\n",
    "        return output"
   ]
  },
  {
   "cell_type": "code",
   "execution_count": null,
   "id": "2b98abad",
   "metadata": {},
   "outputs": [],
   "source": [
    "# Modules and packages\n",
    "\n",
    "my_module.py\n",
    "\n",
    "mypackage"
   ]
  },
  {
   "cell_type": "markdown",
   "id": "952f88e6",
   "metadata": {},
   "source": [
    "---\n",
    "\n",
    "## Explicit code"
   ]
  },
  {
   "cell_type": "code",
   "execution_count": null,
   "id": "afc426cd",
   "metadata": {},
   "outputs": [],
   "source": [
    "# Bad\n",
    "\n",
    "def make_complex(*args):\n",
    "    x, y = args\n",
    "    return dict(**locals())"
   ]
  },
  {
   "cell_type": "code",
   "execution_count": null,
   "id": "cccfbd35",
   "metadata": {},
   "outputs": [],
   "source": [
    "# Good\n",
    "\n",
    "def make_complex(x, y):\n",
    "    return {'x': x, 'y': y}"
   ]
  },
  {
   "cell_type": "markdown",
   "id": "21430bdc",
   "metadata": {},
   "source": [
    "---\n",
    "\n",
    "## One statement per line"
   ]
  },
  {
   "cell_type": "code",
   "execution_count": null,
   "id": "d297c569",
   "metadata": {},
   "outputs": [],
   "source": [
    "# Bad\n",
    "\n",
    "print('one'); print('two')\n",
    "\n",
    "if x == 1: print('one')\n",
    "\n",
    "if <complex comparison> and <other complex comparison>:\n",
    "    # do something"
   ]
  },
  {
   "cell_type": "code",
   "execution_count": null,
   "id": "1c2d2d4b",
   "metadata": {},
   "outputs": [],
   "source": [
    "# Good\n",
    "\n",
    "print('one')\n",
    "print('two')\n",
    "\n",
    "if x == 1:\n",
    "    print('one')\n",
    "\n",
    "cond1 = <complex comparison>\n",
    "cond2 = <other complex comparison>\n",
    "if cond1 and cond2:\n",
    "    # do something"
   ]
  },
  {
   "cell_type": "markdown",
   "id": "3025b25d",
   "metadata": {},
   "source": [
    "---\n",
    "\n",
    "### More info: https://docs.python-guide.org/writing/style/"
   ]
  }
 ],
 "metadata": {
  "kernelspec": {
   "display_name": "Python [conda env:.conda-m1_ih]",
   "language": "python",
   "name": "conda-env-.conda-m1_ih-py"
  },
  "language_info": {
   "codemirror_mode": {
    "name": "ipython",
    "version": 3
   },
   "file_extension": ".py",
   "mimetype": "text/x-python",
   "name": "python",
   "nbconvert_exporter": "python",
   "pygments_lexer": "ipython3",
   "version": "3.9.12"
  }
 },
 "nbformat": 4,
 "nbformat_minor": 5
}
