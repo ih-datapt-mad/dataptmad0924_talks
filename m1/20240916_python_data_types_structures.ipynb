{
 "cells": [
  {
   "cell_type": "markdown",
   "id": "74222d4c",
   "metadata": {},
   "source": [
    "# Data Types\n",
    "\n",
    "- __String__\n",
    "    \n",
    "- __Integer__\n",
    "    \n",
    "- __Float__\n",
    "\n",
    "- __Boolean__"
   ]
  },
  {
   "cell_type": "code",
   "execution_count": null,
   "id": "00de4c17",
   "metadata": {},
   "outputs": [],
   "source": [
    "# string\n",
    "\n",
    "var = 'ironhack'\n",
    "#var = str(123456789)\n",
    "#var = var[:4]\n",
    "\n",
    "print(var)\n",
    "type(var)"
   ]
  },
  {
   "cell_type": "code",
   "execution_count": null,
   "id": "b585d9ea",
   "metadata": {},
   "outputs": [],
   "source": [
    "# integer and float\n",
    "\n",
    "x = 10\n",
    "y = 2\n",
    "z = x / y\n",
    "i = int(z)\n",
    "#f = float(i)\n",
    "\n",
    "print(type(x))\n",
    "print(type(y))\n",
    "print(type(z))\n",
    "print(type(i))\n",
    "#type(f)"
   ]
  },
  {
   "cell_type": "code",
   "execution_count": null,
   "id": "302fa4d1",
   "metadata": {},
   "outputs": [],
   "source": [
    "bvar = True\n",
    "#bvar = bool()\n",
    "#bvar = bool(1)\n",
    "#bvar = bool(0)\n",
    "#bvar = bool('1')\n",
    "#bvar = bool('0')\n",
    "#bvar = bool('0') * 8\n",
    "\n",
    "print(bvar)\n",
    "type(bvar)"
   ]
  },
  {
   "cell_type": "markdown",
   "id": "1c25590f",
   "metadata": {},
   "source": [
    "---\n",
    "\n",
    "# Data Structures\n",
    "\n",
    "- __Tuple__\n",
    "    \n",
    "- __List__\n",
    "    \n",
    "- __Dict__\n",
    "\n",
    "- __Set__"
   ]
  },
  {
   "cell_type": "code",
   "execution_count": null,
   "id": "0ee5a3c7",
   "metadata": {},
   "outputs": [],
   "source": [
    "# Tuples are immutables\n",
    "\n",
    "my_tuple = (1, '1', True, ['dog', 'cat'])\n",
    "\n",
    "print(my_tuple)\n",
    "print(type(my_tuple))\n",
    "#print(my_tuple[2])\n",
    "#print(type(my_tuple[3]))\n",
    "#print(my_tuple.count(0))\n",
    "#my_tuple.index(1)"
   ]
  },
  {
   "cell_type": "code",
   "execution_count": null,
   "id": "270f4d77",
   "metadata": {},
   "outputs": [],
   "source": [
    "# lists or arrays\n",
    "\n",
    "my_array = [1, '1', True, ('dog', 'cat')]\n",
    "\n",
    "print(my_array)\n",
    "print(type(my_array))\n",
    "#print(my_array[2])\n",
    "#print(type(my_array[3]))\n",
    "#print(my_array.count(0))\n",
    "#my_array.index(1)"
   ]
  },
  {
   "cell_type": "code",
   "execution_count": null,
   "id": "ee4da235",
   "metadata": {},
   "outputs": [],
   "source": [
    "# lists mutation methods\n",
    "\n",
    "my_array = [1, '1', True, ('dog', 'cat')]\n",
    "#my_array = [1,9,2,8,3,7]\n",
    "#my_array = ['Paul', 'Martin', 'Jose Luis', 'Javier', 'Kristina', 'Blanca']\n",
    "\n",
    "#my_array.append('OCTAVIO')\n",
    "#my_array.extend(['OCTAVIO', 'VICTOR'])\n",
    "#my_array.insert(1,'OCTAVIO')\n",
    "#value = my_array.remove(True)   # https://docs.python.org/3.7/tutorial/datastructures.html\n",
    "#value = my_array.pop(True)     \n",
    "#my_array.reverse()\n",
    "#my_array.sort()\n",
    "#my_array.clear()\n",
    "#my_list = my_array.copy()\n",
    "\n",
    "print(len(my_array))\n",
    "#print(my_list)\n",
    "#print(value)\n",
    "my_array"
   ]
  },
  {
   "cell_type": "code",
   "execution_count": null,
   "id": "b1c86d15",
   "metadata": {},
   "outputs": [],
   "source": [
    "# Dicts\n",
    "\n",
    "my_dict = {'key1': 'value', 'key2': 1981, 'key3': ['platypus', 'tardigrade']}\n",
    "\n",
    "#print(my_dict['key1'])\n",
    "#my_dict['key1'] = 'ironhack'\n",
    "\n",
    "print(len(my_dict))\n",
    "print(my_dict.keys())\n",
    "print(my_dict.values())\n",
    "my_dict"
   ]
  },
  {
   "cell_type": "code",
   "execution_count": null,
   "id": "3bccd749",
   "metadata": {},
   "outputs": [],
   "source": [
    "for i in my_dict.keys():\n",
    "     print(i)\n",
    "        \n",
    "for i in my_dict.values():\n",
    "    print(i)\n",
    "    \n",
    "for k, v in my_dict.items():\n",
    "     print(k, v)"
   ]
  },
  {
   "cell_type": "code",
   "execution_count": null,
   "id": "e5254239",
   "metadata": {},
   "outputs": [],
   "source": [
    "# Sets\n",
    "\n",
    "girl_names = set(['Mary', 'Madison', 'Logan', 'Joanna', 'Madison', 'Logan', 'Joanna'])\n",
    "boy_names = set(['John', 'Alexander', 'Logan', 'Madison', 'Alexander', 'Logan'])\n",
    "print(girl_names)\n",
    "print(boy_names)"
   ]
  },
  {
   "cell_type": "code",
   "execution_count": null,
   "id": "118518ce",
   "metadata": {},
   "outputs": [],
   "source": [
    "# Sets intersection\n",
    "unisex_names = girl_names.intersection(boy_names)\n",
    "print(unisex_names)"
   ]
  },
  {
   "cell_type": "code",
   "execution_count": null,
   "id": "7c21b7cb",
   "metadata": {},
   "outputs": [],
   "source": [
    "# Sets union\n",
    "all_names = boy_names.union(girl_names)\n",
    "print(all_names)"
   ]
  },
  {
   "cell_type": "code",
   "execution_count": null,
   "id": "a566a1e2",
   "metadata": {},
   "outputs": [],
   "source": [
    "# Sets filtering\n",
    "boy_only_names = boy_names - girl_names\n",
    "print(boy_only_names)"
   ]
  },
  {
   "cell_type": "markdown",
   "id": "32e09f0c",
   "metadata": {},
   "source": [
    "---\n",
    "\n",
    "# Python Objects"
   ]
  },
  {
   "cell_type": "code",
   "execution_count": null,
   "id": "cb6844ea",
   "metadata": {},
   "outputs": [],
   "source": [
    "import random"
   ]
  },
  {
   "cell_type": "code",
   "execution_count": null,
   "id": "d0f09361",
   "metadata": {},
   "outputs": [],
   "source": [
    "random_value = random.randint(0, 9)\n",
    "random_value"
   ]
  },
  {
   "cell_type": "code",
   "execution_count": null,
   "id": "9b4d5f2a",
   "metadata": {},
   "outputs": [],
   "source": [
    "random_values = random.sample(range(0, 1000), 10)\n",
    "random_values"
   ]
  },
  {
   "cell_type": "markdown",
   "id": "b3810ccf",
   "metadata": {},
   "source": [
    "---"
   ]
  }
 ],
 "metadata": {
  "kernelspec": {
   "display_name": "Python [conda env:.conda-ironhack]",
   "language": "python",
   "name": "conda-env-.conda-ironhack-py"
  },
  "language_info": {
   "codemirror_mode": {
    "name": "ipython",
    "version": 3
   },
   "file_extension": ".py",
   "mimetype": "text/x-python",
   "name": "python",
   "nbconvert_exporter": "python",
   "pygments_lexer": "ipython3",
   "version": "3.7.11"
  }
 },
 "nbformat": 4,
 "nbformat_minor": 5
}
