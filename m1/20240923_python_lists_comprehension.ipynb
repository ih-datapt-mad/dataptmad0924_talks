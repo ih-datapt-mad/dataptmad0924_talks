{
 "cells": [
  {
   "cell_type": "markdown",
   "id": "053c3aae",
   "metadata": {},
   "source": [
    "# List Comprehension"
   ]
  },
  {
   "cell_type": "code",
   "execution_count": null,
   "id": "23480d2d",
   "metadata": {},
   "outputs": [],
   "source": [
    "%%time\n",
    "\n",
    "# for loop\n",
    "\n",
    "lst = []\n",
    "\n",
    "for i in range(100):\n",
    "    lst.append(i*i)\n",
    "\n",
    "print(lst)"
   ]
  },
  {
   "cell_type": "code",
   "execution_count": null,
   "id": "96a75281",
   "metadata": {},
   "outputs": [],
   "source": [
    "%%time\n",
    "\n",
    "lst = [i*i for i in range(100)]\n",
    "\n",
    "print(lst)"
   ]
  },
  {
   "cell_type": "code",
   "execution_count": null,
   "id": "f7eaa35c",
   "metadata": {},
   "outputs": [],
   "source": [
    "item_lst = ['name', 'Surname', 'pHone', 'EMAIL', 'CiTy']\n",
    "print(item_lst)\n",
    "\n",
    "list_2 = [i.lower() for i in item_lst]\n",
    "print(list_2)"
   ]
  },
  {
   "cell_type": "code",
   "execution_count": null,
   "id": "d6cc540a",
   "metadata": {},
   "outputs": [],
   "source": [
    "# for loop\n",
    "\n"
   ]
  },
  {
   "cell_type": "markdown",
   "id": "9c63e0b6",
   "metadata": {},
   "source": [
    "__Adding Conditions to List Comprehensions__"
   ]
  },
  {
   "cell_type": "code",
   "execution_count": null,
   "id": "415182c7",
   "metadata": {},
   "outputs": [],
   "source": [
    "lst = [i for i in range(20) if i >= 5]\n",
    "print(lst)"
   ]
  },
  {
   "cell_type": "code",
   "execution_count": null,
   "id": "daeb99bb",
   "metadata": {},
   "outputs": [],
   "source": [
    "# for loop\n",
    "\n"
   ]
  },
  {
   "cell_type": "markdown",
   "id": "779c4588",
   "metadata": {},
   "source": [
    "__Multiple For-Loops in List Comprehensions__"
   ]
  },
  {
   "cell_type": "code",
   "execution_count": null,
   "id": "ff685a20",
   "metadata": {},
   "outputs": [],
   "source": [
    "# Flatten a list of lists\n",
    "\n",
    "lst_lst = [[1,2,3], [4,5,6], [7,8,9]]\n",
    "print(lst_lst)\n",
    "\n",
    "lst = []\n",
    "for row in lst_lst:\n",
    "    #print(row)\n",
    "    for x in row:\n",
    "        #print(x)\n",
    "        lst.append(x)\n",
    "\n",
    "print(lst)"
   ]
  },
  {
   "cell_type": "code",
   "execution_count": null,
   "id": "1a6932aa",
   "metadata": {},
   "outputs": [],
   "source": [
    "# list comprehension (y -> row)\n",
    "\n",
    "lst_lst = [[1,2,3], [4,5,6], [7,8,9]]\n",
    "\n",
    "list_comprehension = [x for row in lst_lst for x in row]\n",
    "list_comprehension"
   ]
  },
  {
   "cell_type": "markdown",
   "id": "2fda2020",
   "metadata": {},
   "source": [
    "__Multiple For-Loops in List Comprehensions and Conditions__"
   ]
  },
  {
   "cell_type": "code",
   "execution_count": null,
   "id": "077dfd44",
   "metadata": {},
   "outputs": [],
   "source": [
    "lst_lst = [[1,2,3,4,5], [6,7,8], [9,10]]\n",
    "\n",
    "lst = [x for row in lst_lst if len(row) < 4 for x in row if x % 2 == 0]\n",
    "lst"
   ]
  },
  {
   "cell_type": "code",
   "execution_count": null,
   "id": "840e4c78",
   "metadata": {},
   "outputs": [],
   "source": [
    "# for loop\n",
    "\n"
   ]
  },
  {
   "cell_type": "markdown",
   "id": "18ef373e",
   "metadata": {},
   "source": [
    "__Recap: Matrix Example__"
   ]
  },
  {
   "cell_type": "code",
   "execution_count": null,
   "id": "d1712b71",
   "metadata": {
    "scrolled": true
   },
   "outputs": [],
   "source": [
    "transposed_matrix = []\n",
    "\n",
    "matrix = [[1, 2, 3, 4], [4, 5, 6, 8]]\n",
    "\n",
    "for i in range(len(matrix[1])): \n",
    "    transposed_row = []\n",
    "    for row in matrix: \n",
    "        #print(i, '---', row, '---', row[i])\n",
    "        transposed_row.append(row[i])\n",
    "    transposed_matrix.append(transposed_row)\n",
    "\n",
    "transposed_matrix"
   ]
  },
  {
   "cell_type": "code",
   "execution_count": null,
   "id": "917ef4f8",
   "metadata": {},
   "outputs": [],
   "source": [
    "matrix = [[1, 2, 3, 4], [4, 5, 6, 8]]\n",
    "\n",
    "transposed_matrix = ['shenaningans' for i in range(len(matrix[0]))]\n",
    "transposed_matrix"
   ]
  },
  {
   "cell_type": "markdown",
   "id": "4c438bb0",
   "metadata": {},
   "source": [
    "__Practical Uses for List Comprehensions__"
   ]
  },
  {
   "cell_type": "code",
   "execution_count": null,
   "id": "c158a1d1",
   "metadata": {},
   "outputs": [],
   "source": [
    "# performance + method's syntaxis\n",
    "\n",
    "my_lst_lst = [[\"let's\", \"take\"],\n",
    "              [\"a\", \"break\", \"of\"],\n",
    "              {'amount': [5, 10, 15],\n",
    "               'units': ['seconds', 'minutes', 'hours'] }]"
   ]
  },
  {
   "cell_type": "code",
   "execution_count": null,
   "id": "6318bb1b",
   "metadata": {},
   "outputs": [],
   "source": [
    "len(my_lst_lst)"
   ]
  },
  {
   "cell_type": "code",
   "execution_count": null,
   "id": "cdfdc47a",
   "metadata": {},
   "outputs": [],
   "source": [
    "my_message = list(map(lambda word : word.upper(),\n",
    "                      [word for lst in my_lst_lst[:2] for word in lst]))\n",
    "#print(my_message)\n",
    "\n",
    "print(f\"{(' '.join(my_message))}: {my_lst_lst[2]['amount'][2]} {my_lst_lst[2]['units'][2]}\")"
   ]
  },
  {
   "cell_type": "markdown",
   "id": "983d844a",
   "metadata": {},
   "source": [
    "__Worth reading:__\n",
    "\n",
    "- https://medium.com/techtofreedom/8-levels-of-using-list-comprehension-in-python-efc3c339a1f0\n",
    "\n",
    "- https://betterprogramming.pub/3-misuses-of-python-list-comprehension-to-avoid-54adc312e48c\n"
   ]
  }
 ],
 "metadata": {
  "kernelspec": {
   "display_name": "Python [conda env:.conda-ironhack]",
   "language": "python",
   "name": "conda-env-.conda-ironhack-py"
  },
  "language_info": {
   "codemirror_mode": {
    "name": "ipython",
    "version": 3
   },
   "file_extension": ".py",
   "mimetype": "text/x-python",
   "name": "python",
   "nbconvert_exporter": "python",
   "pygments_lexer": "ipython3",
   "version": "3.7.11"
  }
 },
 "nbformat": 4,
 "nbformat_minor": 5
}
