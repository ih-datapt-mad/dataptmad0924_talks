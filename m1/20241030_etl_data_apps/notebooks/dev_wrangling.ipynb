{
 "cells": [
  {
   "cell_type": "markdown",
   "id": "1e1ccf3a",
   "metadata": {},
   "source": [
    "### Wrangling methods\n",
    "\n",
    "---"
   ]
  },
  {
   "cell_type": "code",
   "execution_count": null,
   "id": "3f7a63dc",
   "metadata": {},
   "outputs": [],
   "source": [
    "import pandas as pd"
   ]
  },
  {
   "cell_type": "code",
   "execution_count": null,
   "id": "dd0afcb7",
   "metadata": {},
   "outputs": [],
   "source": [
    "path = '../data/vehicles.csv'\n",
    "acquisition_output = pd.read_csv(path)\n",
    "acquisition_output"
   ]
  },
  {
   "cell_type": "code",
   "execution_count": null,
   "id": "f21fd5dc",
   "metadata": {},
   "outputs": [],
   "source": [
    "year = 1997\n",
    "wrangling_output = acquisition_output[acquisition_output['Year'] == year].reset_index(drop=True)"
   ]
  },
  {
   "cell_type": "code",
   "execution_count": null,
   "id": "1d6a5982",
   "metadata": {},
   "outputs": [],
   "source": [
    "def wrangling(desired_year, df):\n",
    "    df = df[df['Year'] == desired_year].reset_index(drop=True)\n",
    "    return df    "
   ]
  },
  {
   "cell_type": "code",
   "execution_count": null,
   "id": "66489156",
   "metadata": {},
   "outputs": [],
   "source": [
    "wrangling(year, acquisition_output)"
   ]
  },
  {
   "cell_type": "markdown",
   "id": "4a09c6fc",
   "metadata": {},
   "source": [
    "---"
   ]
  }
 ],
 "metadata": {
  "kernelspec": {
   "display_name": "Python [conda env:.conda-ironhack]",
   "language": "python",
   "name": "conda-env-.conda-ironhack-py"
  },
  "language_info": {
   "codemirror_mode": {
    "name": "ipython",
    "version": 3
   },
   "file_extension": ".py",
   "mimetype": "text/x-python",
   "name": "python",
   "nbconvert_exporter": "python",
   "pygments_lexer": "ipython3",
   "version": "3.7.11"
  }
 },
 "nbformat": 4,
 "nbformat_minor": 5
}
