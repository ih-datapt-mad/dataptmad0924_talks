{
 "cells": [
  {
   "cell_type": "markdown",
   "id": "6884d6c4",
   "metadata": {},
   "source": [
    "### Analysis methods\n",
    "\n",
    "---"
   ]
  },
  {
   "cell_type": "code",
   "execution_count": null,
   "id": "4440049d",
   "metadata": {},
   "outputs": [],
   "source": [
    "import pandas as pd"
   ]
  },
  {
   "cell_type": "code",
   "execution_count": null,
   "id": "2f154a96",
   "metadata": {},
   "outputs": [],
   "source": [
    "path = '../data/vehicles.csv'\n",
    "df = pd.read_csv(path)\n",
    "df"
   ]
  },
  {
   "cell_type": "code",
   "execution_count": null,
   "id": "d826842a",
   "metadata": {},
   "outputs": [],
   "source": [
    "df.info()"
   ]
  },
  {
   "cell_type": "code",
   "execution_count": null,
   "id": "287d2163",
   "metadata": {},
   "outputs": [],
   "source": [
    "analysis = df.groupby(['Make'])[['Combined MPG']].mean().sort_values(by='Combined MPG', ascending=False).reset_index()\n",
    "analysis"
   ]
  },
  {
   "cell_type": "code",
   "execution_count": null,
   "id": "e477c08e",
   "metadata": {},
   "outputs": [],
   "source": [
    "def analysis(df_analysis):\n",
    "    df_output = df_analysis.groupby(['Make'])[['Combined MPG']].mean()\\\n",
    "    .sort_values(by='Combined MPG', ascending=False).reset_index()\n",
    "    df_output.to_csv('../data/combined_mpg_analysis.csv')\n",
    "    return '---your file is located in the data folder---'"
   ]
  },
  {
   "cell_type": "code",
   "execution_count": null,
   "id": "956ee74f",
   "metadata": {},
   "outputs": [],
   "source": [
    "analysis(df)"
   ]
  },
  {
   "cell_type": "markdown",
   "id": "cb295b81",
   "metadata": {},
   "source": [
    "---"
   ]
  }
 ],
 "metadata": {
  "kernelspec": {
   "display_name": "Python [conda env:.conda-ironhack]",
   "language": "python",
   "name": "conda-env-.conda-ironhack-py"
  },
  "language_info": {
   "codemirror_mode": {
    "name": "ipython",
    "version": 3
   },
   "file_extension": ".py",
   "mimetype": "text/x-python",
   "name": "python",
   "nbconvert_exporter": "python",
   "pygments_lexer": "ipython3",
   "version": "3.7.11"
  }
 },
 "nbformat": 4,
 "nbformat_minor": 5
}
