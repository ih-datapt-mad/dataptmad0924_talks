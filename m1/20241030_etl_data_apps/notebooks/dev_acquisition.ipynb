{
 "cells": [
  {
   "cell_type": "markdown",
   "id": "2c2f3101",
   "metadata": {},
   "source": [
    "### Acquisition methods\n",
    "\n",
    "---"
   ]
  },
  {
   "cell_type": "code",
   "execution_count": null,
   "id": "a6d3f8fd",
   "metadata": {},
   "outputs": [],
   "source": [
    "# Import pandas \n",
    "import pandas as pd\n",
    "\n",
    "# Import libraries to create environment variables\n",
    "import os\n",
    "from dotenv import load_dotenv      # https://pypi.org/project/python-dotenv/"
   ]
  },
  {
   "cell_type": "code",
   "execution_count": null,
   "id": "dd223e8d",
   "metadata": {},
   "outputs": [],
   "source": [
    "load_dotenv('.env')\n",
    "API_TOKEN = os.environ.get(\"API_TOKEN\")"
   ]
  },
  {
   "cell_type": "code",
   "execution_count": null,
   "id": "24ddfd6d",
   "metadata": {},
   "outputs": [],
   "source": [
    "path = '../data/vehicles.csv'\n",
    "df = pd.read_csv(path)\n",
    "df"
   ]
  },
  {
   "cell_type": "code",
   "execution_count": null,
   "id": "f13c00d2",
   "metadata": {},
   "outputs": [],
   "source": [
    "def acquisition(file_path):\n",
    "    df_acquisition = pd.read_csv(file_path)\n",
    "    return df_acquisition"
   ]
  },
  {
   "cell_type": "code",
   "execution_count": null,
   "id": "db071f0e",
   "metadata": {},
   "outputs": [],
   "source": [
    "acquisition(path)"
   ]
  },
  {
   "cell_type": "markdown",
   "id": "e3c606d4",
   "metadata": {},
   "source": [
    "---"
   ]
  }
 ],
 "metadata": {
  "kernelspec": {
   "display_name": "Python [conda env:.conda-ironhack]",
   "language": "python",
   "name": "conda-env-.conda-ironhack-py"
  },
  "language_info": {
   "codemirror_mode": {
    "name": "ipython",
    "version": 3
   },
   "file_extension": ".py",
   "mimetype": "text/x-python",
   "name": "python",
   "nbconvert_exporter": "python",
   "pygments_lexer": "ipython3",
   "version": "3.7.11"
  }
 },
 "nbformat": 4,
 "nbformat_minor": 5
}
