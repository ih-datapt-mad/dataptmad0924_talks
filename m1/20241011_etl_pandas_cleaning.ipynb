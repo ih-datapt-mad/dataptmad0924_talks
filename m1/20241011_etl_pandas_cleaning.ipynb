{
 "cells": [
  {
   "cell_type": "markdown",
   "id": "2f2efb80",
   "metadata": {},
   "source": [
    "# Pandas Data Cleaning\n",
    "\n",
    "Some methods: `.isnull()`, `.drop()`, `.fillna()`, `._get_numeric_data()`, `.astype()`, `.str.replace()`, `.drop_duplicates()`, `.apply()`\n",
    "\n",
    "---"
   ]
  },
  {
   "cell_type": "code",
   "execution_count": null,
   "id": "e57c0c54",
   "metadata": {},
   "outputs": [],
   "source": [
    "import pandas as pd"
   ]
  },
  {
   "cell_type": "markdown",
   "id": "37bca23c",
   "metadata": {},
   "source": [
    "---\n",
    "\n",
    "### Working with `null` values\n",
    "\n",
    "__NOTE:__ `NaN` is an alias for `null` in Pandas. `NaN` is used to represent missing or undefined numeric data in Pandas, while `None` should be, theoretically, used to represent missing or undefined non-numeric data. However, while `NaN` may not always be a meaningful representation of missing or undefined non-numeric data, it is a convenient and efficient way to represent missing or undefined data in a unified way across all data types in Pandas."
   ]
  },
  {
   "cell_type": "code",
   "execution_count": null,
   "id": "e455b0ed",
   "metadata": {},
   "outputs": [],
   "source": [
    "# Importing data\n",
    "\n",
    "df1 = pd.read_csv('datasets/transaction_dataset.csv') \n",
    "# https://www.kaggle.com/vagifa/ethereum-frauddetection-dataset\n",
    "\n",
    "df1.head()"
   ]
  },
  {
   "cell_type": "code",
   "execution_count": null,
   "id": "e4d4e7ba",
   "metadata": {},
   "outputs": [],
   "source": [
    "# Explore dataset\n",
    "\n",
    "df1.info()"
   ]
  },
  {
   "cell_type": "code",
   "execution_count": null,
   "id": "c6fb5ec7",
   "metadata": {},
   "outputs": [],
   "source": [
    "# Null analysis\n",
    "\n",
    "df1.isnull()"
   ]
  },
  {
   "cell_type": "code",
   "execution_count": null,
   "id": "4fea4230",
   "metadata": {},
   "outputs": [],
   "source": [
    "# Columns with null values\n",
    "\n",
    "null_cols = df1.isnull().sum()\n",
    "print(type(null_cols))\n",
    "null_cols"
   ]
  },
  {
   "cell_type": "code",
   "execution_count": null,
   "id": "c4fe8a28",
   "metadata": {},
   "outputs": [],
   "source": [
    "# Serie slicing \n",
    "\n",
    "null_cols[null_cols > 0]"
   ]
  },
  {
   "cell_type": "markdown",
   "id": "fcc34190",
   "metadata": {},
   "source": [
    "---"
   ]
  },
  {
   "cell_type": "code",
   "execution_count": null,
   "id": "3de7f1f5",
   "metadata": {},
   "outputs": [],
   "source": [
    "# Null analysis (null percentage)\n",
    "\n",
    "null_cols = null_cols[null_cols > 5] / len(df1) * 100\n",
    "null_cols"
   ]
  },
  {
   "cell_type": "code",
   "execution_count": null,
   "id": "1a315aaf",
   "metadata": {
    "scrolled": false
   },
   "outputs": [],
   "source": [
    "# Null analysis (columns with nulls)\n",
    "\n",
    "threshold = 5\n",
    "null_filter = null_cols > threshold\n",
    "droped_cols = list(null_cols[null_filter].index)\n",
    "droped_cols"
   ]
  },
  {
   "cell_type": "code",
   "execution_count": null,
   "id": "a07a6d04",
   "metadata": {},
   "outputs": [],
   "source": [
    "# Null analysis (columns without nulls)\n",
    "\n",
    "cols = df1.columns\n",
    "#print(cols)     # Always check!!!\n",
    "\n",
    "no_nulls_cols = cols.difference(droped_cols)\n",
    "no_nulls_cols"
   ]
  },
  {
   "cell_type": "markdown",
   "id": "6fd96ab7",
   "metadata": {},
   "source": [
    "---\n",
    "\n",
    "#### Droping columns"
   ]
  },
  {
   "cell_type": "code",
   "execution_count": null,
   "id": "fe084a30",
   "metadata": {},
   "outputs": [],
   "source": [
    "# Drop unwanted columns\n",
    "\n",
    "df_droped_nulls = df1.drop(droped_cols, axis=1)\n",
    "df_droped_nulls.info()"
   ]
  },
  {
   "cell_type": "code",
   "execution_count": null,
   "id": "14782551",
   "metadata": {},
   "outputs": [],
   "source": [
    "# Suggested alternative!!!\n",
    "\n",
    "df_no_nulls = df1[no_nulls_cols]\n",
    "df_no_nulls.info()"
   ]
  },
  {
   "cell_type": "markdown",
   "id": "62ce1bea",
   "metadata": {},
   "source": [
    "---\n",
    "\n",
    "#### Filling nulls"
   ]
  },
  {
   "cell_type": "code",
   "execution_count": null,
   "id": "5c623249",
   "metadata": {
    "scrolled": false
   },
   "outputs": [],
   "source": [
    "# Importing data\n",
    "\n",
    "df2 = pd.read_csv('datasets/vehicles.csv')\n",
    "df2.info()"
   ]
  },
  {
   "cell_type": "markdown",
   "id": "a03fc559",
   "metadata": {},
   "source": [
    "> __But first, let's do some serious Slicing!!!__"
   ]
  },
  {
   "cell_type": "code",
   "execution_count": null,
   "id": "884156d6",
   "metadata": {},
   "outputs": [],
   "source": [
    "# Slicing using .loc[]\n",
    "\n",
    "null_displ = df2.loc[df2['displ'].isnull(), ['year', 'make', 'model', 'trany', 'drive','fuelType','cylinders', 'displ']]\n",
    "null_displ"
   ]
  },
  {
   "cell_type": "code",
   "execution_count": null,
   "id": "71189226",
   "metadata": {},
   "outputs": [],
   "source": [
    "# Slicing using .iloc[]\n",
    "\n",
    "null_displ = df2.iloc[df2['displ'].isnull(), [63, 46, 47, 57, 24, 30, 22, 23]]\n",
    "null_displ"
   ]
  },
  {
   "cell_type": "code",
   "execution_count": null,
   "id": "fe216ab0",
   "metadata": {},
   "outputs": [],
   "source": [
    "# Slicing using []\n",
    "\n",
    "null_displ = df2[df2['displ'].isnull()][['year', 'make', 'model', 'trany', 'drive','fuelType','cylinders', 'displ']]\n",
    "null_displ"
   ]
  },
  {
   "cell_type": "code",
   "execution_count": null,
   "id": "eb8c6767",
   "metadata": {},
   "outputs": [],
   "source": [
    "# Filling nulls with a relevant value\n",
    "\n",
    "df2[['displ', 'cylinders']] = df2[['displ', 'cylinders']].fillna(0)"
   ]
  },
  {
   "cell_type": "code",
   "execution_count": null,
   "id": "8d0548b6",
   "metadata": {},
   "outputs": [],
   "source": [
    "zero_displ = df2[df2['displ'] == 0]\n",
    "zero_displ = zero_displ[['year', 'make', 'model', 'trany', 'drive','fuelType','cylinders', 'displ']]\n",
    "zero_displ"
   ]
  },
  {
   "cell_type": "code",
   "execution_count": null,
   "id": "9d980c65",
   "metadata": {},
   "outputs": [],
   "source": [
    "# Solving specific error\n",
    "\n",
    "error = df2[(df2['cylinders']==0) & (df2['displ']!=0)]\n",
    "error[['year', 'make', 'model', 'trany', 'drive','fuelType','cylinders', 'displ']]"
   ]
  },
  {
   "cell_type": "code",
   "execution_count": null,
   "id": "7fc46c20",
   "metadata": {},
   "outputs": [],
   "source": [
    "df2.loc[(df2['cylinders']==0) & (df2['displ']!=0), 'cylinders'] = 4"
   ]
  },
  {
   "cell_type": "code",
   "execution_count": null,
   "id": "7de4f0a7",
   "metadata": {},
   "outputs": [],
   "source": [
    "df2[['year', 'make', 'model', 'trany', 'drive','fuelType','cylinders', 'displ']].iloc[21506]"
   ]
  },
  {
   "cell_type": "markdown",
   "id": "02c042d2",
   "metadata": {},
   "source": [
    "---\n",
    "\n",
    "### Get numeric data"
   ]
  },
  {
   "cell_type": "code",
   "execution_count": null,
   "id": "4fe02217",
   "metadata": {
    "scrolled": false
   },
   "outputs": [],
   "source": [
    "# Get dataframe numeric data\n",
    "\n",
    "df1._get_numeric_data()"
   ]
  },
  {
   "cell_type": "code",
   "execution_count": null,
   "id": "48308b11",
   "metadata": {},
   "outputs": [],
   "source": [
    "# Equivalent form using the slicing operator\n",
    "\n",
    "df1[[x for x in df1.columns if x in df1._get_numeric_data().columns]]"
   ]
  },
  {
   "cell_type": "code",
   "execution_count": null,
   "id": "1295bd21",
   "metadata": {},
   "outputs": [],
   "source": [
    "# Get dataframe NON numeric data\n",
    "\n",
    "df1.drop(df1._get_numeric_data().columns, axis=1)"
   ]
  },
  {
   "cell_type": "markdown",
   "id": "775330e6",
   "metadata": {},
   "source": [
    "---\n",
    "\n",
    "### Changing columns data types"
   ]
  },
  {
   "cell_type": "code",
   "execution_count": null,
   "id": "f8363a35",
   "metadata": {},
   "outputs": [],
   "source": [
    "# Import in time series data\n",
    "\n",
    "df3 = pd.read_csv('datasets/power_consumption_es.csv') \n",
    "# https://www.kaggle.com/francoisraucent/western-europe-power-consumption\n",
    "\n",
    "df3.info()"
   ]
  },
  {
   "cell_type": "code",
   "execution_count": null,
   "id": "dfaf0cb6",
   "metadata": {},
   "outputs": [],
   "source": [
    "df3.head()"
   ]
  },
  {
   "cell_type": "code",
   "execution_count": null,
   "id": "e9403fe3",
   "metadata": {},
   "outputs": [],
   "source": [
    "#Changing data types\n",
    "\n",
    "df3['start'] = df3['start'].astype('datetime64[ns]')\n",
    "df3['end'] = df3['end'].astype('datetime64[ns]')"
   ]
  },
  {
   "cell_type": "code",
   "execution_count": null,
   "id": "448cffed",
   "metadata": {},
   "outputs": [],
   "source": [
    "df3.info()"
   ]
  },
  {
   "cell_type": "markdown",
   "id": "7bc35152",
   "metadata": {},
   "source": [
    "---\n",
    "\n",
    "### Simple string transformation (string replace)"
   ]
  },
  {
   "cell_type": "code",
   "execution_count": null,
   "id": "d1ec028f",
   "metadata": {},
   "outputs": [],
   "source": [
    "# Importing data\n",
    "\n",
    "df4 = pd.read_csv('datasets/club.csv', index_col=0) \n",
    "# https://www.kaggle.com/sanjeetsinghnaik/football-club-market-value-2021\n",
    "\n",
    "df4.info()"
   ]
  },
  {
   "cell_type": "code",
   "execution_count": null,
   "id": "ed96ae07",
   "metadata": {},
   "outputs": [],
   "source": [
    "df4.head()"
   ]
  },
  {
   "cell_type": "markdown",
   "id": "49aa505f",
   "metadata": {},
   "source": [
    "> __But first, the `.unique()` method!!!__"
   ]
  },
  {
   "cell_type": "code",
   "execution_count": null,
   "id": "f805f6ec",
   "metadata": {},
   "outputs": [],
   "source": [
    "for col in df4.columns:\n",
    "    print(col, df4[col].unique(), '\\n')"
   ]
  },
  {
   "cell_type": "code",
   "execution_count": null,
   "id": "d0ef11d7",
   "metadata": {},
   "outputs": [],
   "source": [
    "teams = sorted(list(df4['Club Name'].unique()))\n",
    "teams"
   ]
  },
  {
   "cell_type": "code",
   "execution_count": null,
   "id": "0e587a28",
   "metadata": {},
   "outputs": [],
   "source": [
    "# String replace\n",
    "\n",
    "df4['Club Name'] = df4['Club Name'].str.replace('Juventus FC', 'Vecchia Signora')"
   ]
  },
  {
   "cell_type": "code",
   "execution_count": null,
   "id": "a0de7fe7",
   "metadata": {
    "scrolled": true
   },
   "outputs": [],
   "source": [
    "juventus = df4[df4['Club Name'] == 'Vecchia Signora'][['Club Name', 'Market Value Of Club In Millions(£)']]\n",
    "juventus"
   ]
  },
  {
   "cell_type": "markdown",
   "id": "9966b9f9",
   "metadata": {},
   "source": [
    "---\n",
    "\n",
    "### Drop duplicates values "
   ]
  },
  {
   "cell_type": "code",
   "execution_count": null,
   "id": "4c6a6cb7",
   "metadata": {},
   "outputs": [],
   "source": [
    "# Drop duplicates\n",
    "\n",
    "print(df4.shape)\n",
    "df4.head()"
   ]
  },
  {
   "cell_type": "code",
   "execution_count": null,
   "id": "707f82ff",
   "metadata": {},
   "outputs": [],
   "source": [
    "sample = df4[['Club Name', 'Competition Name', 'Squad Size']]\n",
    "print(sample.shape)\n",
    "sample.head()"
   ]
  },
  {
   "cell_type": "code",
   "execution_count": null,
   "id": "b070b01d",
   "metadata": {},
   "outputs": [],
   "source": [
    "# Eliminate full duplicates columns (i.e.: there's none)\n",
    "\n",
    "sample = sample.drop_duplicates()\n",
    "sample.shape"
   ]
  },
  {
   "cell_type": "code",
   "execution_count": null,
   "id": "119cea67",
   "metadata": {},
   "outputs": [],
   "source": [
    "# Check the options: https://pandas.pydata.org/docs/reference/api/pandas.DataFrame.drop_duplicates.html\n",
    "\n",
    "sample = sample.drop_duplicates(subset=['Competition Name', 'Squad Size'],\n",
    "                                keep='first',\n",
    "                                ignore_index=False)\n",
    "sample.shape"
   ]
  },
  {
   "cell_type": "code",
   "execution_count": null,
   "id": "30ee416d",
   "metadata": {},
   "outputs": [],
   "source": [
    "# Bear in mind...\n",
    "\n",
    "sample.index"
   ]
  },
  {
   "cell_type": "markdown",
   "id": "a41de38e",
   "metadata": {},
   "source": [
    "---\n",
    "\n",
    "### Apply...your new BFF!!!"
   ]
  },
  {
   "cell_type": "code",
   "execution_count": null,
   "id": "5467bc6f",
   "metadata": {},
   "outputs": [],
   "source": [
    "# Importing data\n",
    "\n",
    "df5 = pd.read_csv('datasets/nft_sales.csv') \n",
    "# https://www.kaggle.com/hemil26/nft-collections-dataset\n",
    "\n",
    "df5.info()"
   ]
  },
  {
   "cell_type": "code",
   "execution_count": null,
   "id": "ea4c7a5d",
   "metadata": {},
   "outputs": [],
   "source": [
    "df5.head()"
   ]
  },
  {
   "cell_type": "code",
   "execution_count": null,
   "id": "64357009",
   "metadata": {},
   "outputs": [],
   "source": [
    "# Let's try the long way...\n",
    "\n",
    "df5_bis = df5.copy()\n",
    "df5_bis"
   ]
  },
  {
   "cell_type": "code",
   "execution_count": null,
   "id": "5267cdd4",
   "metadata": {},
   "outputs": [],
   "source": [
    "df5_bis['Sales'] = df5_bis['Sales'].astype('int64')"
   ]
  },
  {
   "cell_type": "code",
   "execution_count": null,
   "id": "d363e110",
   "metadata": {},
   "outputs": [],
   "source": [
    "df5_bis['Sales'] = df5_bis['Sales'].str.replace('$', '')"
   ]
  },
  {
   "cell_type": "code",
   "execution_count": null,
   "id": "980a9279",
   "metadata": {},
   "outputs": [],
   "source": [
    "df5_bis.head()"
   ]
  },
  {
   "cell_type": "code",
   "execution_count": null,
   "id": "df68e1fb",
   "metadata": {},
   "outputs": [],
   "source": [
    "df5_bis['Sales'] = df5_bis['Sales'].astype('int64')"
   ]
  },
  {
   "cell_type": "code",
   "execution_count": null,
   "id": "1ed3861c",
   "metadata": {},
   "outputs": [],
   "source": [
    "df5_bis['Sales'] = df5_bis['Sales'].str.replace(',', '', regex=True)"
   ]
  },
  {
   "cell_type": "code",
   "execution_count": null,
   "id": "4deec5ff",
   "metadata": {},
   "outputs": [],
   "source": [
    "df5_bis.head()"
   ]
  },
  {
   "cell_type": "code",
   "execution_count": null,
   "id": "9e4c518a",
   "metadata": {},
   "outputs": [],
   "source": [
    "df5_bis['Sales'] = df5_bis['Sales'].astype('int64')"
   ]
  },
  {
   "cell_type": "code",
   "execution_count": null,
   "id": "887449dd",
   "metadata": {},
   "outputs": [],
   "source": [
    "df5_bis.info()"
   ]
  },
  {
   "cell_type": "code",
   "execution_count": null,
   "id": "cb7a63df",
   "metadata": {},
   "outputs": [],
   "source": [
    "# Now using apply\n",
    "\n",
    "def clean_money(money):\n",
    "    pass"
   ]
  },
  {
   "cell_type": "code",
   "execution_count": null,
   "id": "4afb62b8",
   "metadata": {},
   "outputs": [],
   "source": [
    "df5['Sales'] = df5['Sales'].apply(clean_money)"
   ]
  },
  {
   "cell_type": "code",
   "execution_count": null,
   "id": "36dc39a9",
   "metadata": {},
   "outputs": [],
   "source": [
    "df5.head()"
   ]
  },
  {
   "cell_type": "code",
   "execution_count": null,
   "id": "5c1a3c48",
   "metadata": {},
   "outputs": [],
   "source": [
    "df5['Sales'] = df5['Sales'].astype('int64')"
   ]
  },
  {
   "cell_type": "markdown",
   "id": "8a485083",
   "metadata": {},
   "source": [
    "---"
   ]
  },
  {
   "cell_type": "markdown",
   "id": "2454711b",
   "metadata": {},
   "source": [
    "__Other resources to consider:__\n",
    "\n",
    "- https://github.com/ResidentMario/missingno\n"
   ]
  }
 ],
 "metadata": {
  "kernelspec": {
   "display_name": "Python [conda env:.conda-ironhack]",
   "language": "python",
   "name": "conda-env-.conda-ironhack-py"
  },
  "language_info": {
   "codemirror_mode": {
    "name": "ipython",
    "version": 3
   },
   "file_extension": ".py",
   "mimetype": "text/x-python",
   "name": "python",
   "nbconvert_exporter": "python",
   "pygments_lexer": "ipython3",
   "version": "3.7.11"
  }
 },
 "nbformat": 4,
 "nbformat_minor": 5
}
