{
 "cells": [
  {
   "cell_type": "markdown",
   "id": "b621af6c",
   "metadata": {},
   "source": [
    "# Lambda Functions\n",
    "\n",
    "- Is an Anonymous Function\n",
    "\n",
    "- Usually, is meant for one-time use.\n",
    "\n",
    "- Can have only One Expression.\n",
    "\n",
    "- It is faster than a normal function"
   ]
  },
  {
   "cell_type": "code",
   "execution_count": null,
   "id": "5e8f11a2",
   "metadata": {},
   "outputs": [],
   "source": [
    "# Function\n",
    "\n",
    "def currency_converter(amount, rate):\n",
    "    return amount * rate\n",
    "\n",
    "print(currency_converter)"
   ]
  },
  {
   "cell_type": "code",
   "execution_count": null,
   "id": "22d25aae",
   "metadata": {},
   "outputs": [],
   "source": [
    "euro_amount = 500\n",
    "current_rate = 0.94\n",
    "\n",
    "currency_converter(euro_amount, current_rate)"
   ]
  },
  {
   "cell_type": "code",
   "execution_count": null,
   "id": "f4e13935",
   "metadata": {},
   "outputs": [],
   "source": [
    "returned_object = currency_converter(euro_amount, current_rate)\n",
    "print(type(returned_object))"
   ]
  },
  {
   "cell_type": "markdown",
   "id": "69331a78",
   "metadata": {},
   "source": [
    "---"
   ]
  },
  {
   "cell_type": "code",
   "execution_count": null,
   "id": "4c64437b",
   "metadata": {},
   "outputs": [],
   "source": [
    "# Lambda function\n",
    "\n",
    "lambda_converter = lambda amount, rate : amount * rate\n",
    "print(lambda_converter)"
   ]
  },
  {
   "cell_type": "code",
   "execution_count": null,
   "id": "98cf95e6",
   "metadata": {},
   "outputs": [],
   "source": [
    "euro_amount = 500\n",
    "current_rate = 0.94\n",
    "\n",
    "lambda_converter(euro_amount, current_rate)"
   ]
  },
  {
   "cell_type": "code",
   "execution_count": null,
   "id": "eadb15b6",
   "metadata": {},
   "outputs": [],
   "source": [
    "returned_object = lambda_converter(euro_amount, current_rate)\n",
    "print(type(returned_object))"
   ]
  },
  {
   "cell_type": "markdown",
   "id": "c8027fde",
   "metadata": {},
   "source": [
    "---"
   ]
  },
  {
   "cell_type": "code",
   "execution_count": null,
   "id": "237e2495",
   "metadata": {},
   "outputs": [],
   "source": [
    "# Lambda function with condition\n",
    "\n",
    "clever_converter = lambda amount, rate, bid : amount * rate if bid >= rate else \"I'm not interested\""
   ]
  },
  {
   "cell_type": "code",
   "execution_count": null,
   "id": "4841948f",
   "metadata": {},
   "outputs": [],
   "source": [
    "euro_amount = 500\n",
    "current_rate = 0.94\n",
    "offered_bid = 0.92\n",
    "\n",
    "clever_converter(euro_amount, current_rate, offered_bid)"
   ]
  },
  {
   "cell_type": "markdown",
   "id": "6c11c34f",
   "metadata": {},
   "source": [
    "---"
   ]
  },
  {
   "cell_type": "code",
   "execution_count": null,
   "id": "23e271f5",
   "metadata": {},
   "outputs": [],
   "source": [
    "# Lambda function and list comprehensions\n",
    "\n",
    "import random\n",
    "\n",
    "random_amounts = [random.randint(20, 2000) for i in range(10)]\n",
    "random_amounts"
   ]
  },
  {
   "cell_type": "code",
   "execution_count": null,
   "id": "446f1d5d",
   "metadata": {},
   "outputs": [],
   "source": [
    "[(lambda amount : round(amount * 0.88, 2))(amount) for amount in random_amounts]"
   ]
  },
  {
   "cell_type": "markdown",
   "id": "a40f2fd0",
   "metadata": {},
   "source": [
    "---"
   ]
  },
  {
   "cell_type": "code",
   "execution_count": null,
   "id": "f08c832b",
   "metadata": {},
   "outputs": [],
   "source": [
    "# Lambda function and functions\n",
    "\n",
    "def function(mult):\n",
    "    return lambda any_number : any_number * mult"
   ]
  },
  {
   "cell_type": "code",
   "execution_count": null,
   "id": "86f6c8d1",
   "metadata": {},
   "outputs": [],
   "source": [
    "mult_by = 4\n",
    "\n",
    "multiplier = function(mult_by)\n",
    "\n",
    "print(type(multiplier))"
   ]
  },
  {
   "cell_type": "code",
   "execution_count": null,
   "id": "deab7fe1",
   "metadata": {},
   "outputs": [],
   "source": [
    "multiplier(10)"
   ]
  },
  {
   "cell_type": "markdown",
   "id": "9ea11404",
   "metadata": {},
   "source": [
    "Lambda functions are commonly used when you want to pass a function as an argument to higher-order functions, that is, functions that take other functions as their arguments."
   ]
  }
 ],
 "metadata": {
  "kernelspec": {
   "display_name": "Python [conda env:.conda-ironhack]",
   "language": "python",
   "name": "conda-env-.conda-ironhack-py"
  },
  "language_info": {
   "codemirror_mode": {
    "name": "ipython",
    "version": 3
   },
   "file_extension": ".py",
   "mimetype": "text/x-python",
   "name": "python",
   "nbconvert_exporter": "python",
   "pygments_lexer": "ipython3",
   "version": "3.7.11"
  }
 },
 "nbformat": 4,
 "nbformat_minor": 5
}
