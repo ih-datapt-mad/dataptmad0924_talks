{
 "cells": [
  {
   "cell_type": "markdown",
   "id": "d3783308",
   "metadata": {},
   "source": [
    "# NumPy (Numerical Python)\n",
    "\n",
    "_It’s the universal standard for working with numerical data in Python!!!_\n",
    "\n",
    "[by Travis Oliphant](https://open.spotify.com/episode/2U2AkSSuAzmZi7nmGzJboW?si=37acff44a9a14794)\n",
    "\n",
    "__NumPy__ is the fundamental package for scientific computing in Python with a __large collection of high-level mathematical functions (i.e.: METHODS)__ to operate on these arrays. It is a Python library that provides a __multidimensional array OBJECT__.\n",
    "\n",
    "https://numpy.org/doc/stable/"
   ]
  },
  {
   "cell_type": "code",
   "execution_count": null,
   "id": "651ead57",
   "metadata": {},
   "outputs": [],
   "source": [
    "#installation (https://numpy.org/install/)\n",
    "\n",
    "#!conda install numpy\n",
    "#!conda install numpy=1.21"
   ]
  },
  {
   "cell_type": "code",
   "execution_count": null,
   "id": "5a47a76e",
   "metadata": {},
   "outputs": [],
   "source": [
    "# import library and assign an alias\n",
    "\n",
    "import numpy as np\n",
    "print(np.__version__)"
   ]
  },
  {
   "cell_type": "markdown",
   "id": "6eaa89e4",
   "metadata": {},
   "source": [
    "Numpy API Reference: https://numpy.org/doc/stable/reference/index.html#\n",
    "\n",
    "---"
   ]
  },
  {
   "cell_type": "markdown",
   "id": "0a765c5e",
   "metadata": {},
   "source": [
    "__Array Object Attributes__"
   ]
  },
  {
   "cell_type": "code",
   "execution_count": null,
   "id": "3ad380fb",
   "metadata": {
    "scrolled": true
   },
   "outputs": [],
   "source": [
    "# ndarray object attributes (https://numpy.org/doc/stable/reference/arrays.ndarray.html#array-attributes)\n",
    "\n",
    "n_d_array = np.array([[1,2,3],[4,5,6]])\n",
    "\n",
    "print(n_d_array, end='\\n\\n')\n",
    "print(type(n_d_array))\n",
    "\n",
    "#print(n_d_array.ndim)   # number of array dimensions\n",
    "#print(n_d_array.shape)   # matrix's dimenssions size (i, j)\n",
    "#print(n_d_array.size)   # data buffer (i.e.: number of elements in the array)\n",
    "\n",
    "#print(n_d_array.dtype)   # https://numpy.org/doc/stable/reference/arrays.dtypes.html\n",
    "\n",
    "#print(n_d_array.itemsize)   # length of one array element in bytes "
   ]
  },
  {
   "cell_type": "markdown",
   "id": "cd9c6ee3",
   "metadata": {},
   "source": [
    "Further reading about array objects: https://numpy.org/doc/stable/reference/arrays.html\n",
    "\n",
    "---"
   ]
  },
  {
   "cell_type": "markdown",
   "id": "9e51167d",
   "metadata": {},
   "source": [
    "__Array Object Methods__ (https://numpy.org/doc/stable/reference/arrays.ndarray.html#array-methods)"
   ]
  },
  {
   "cell_type": "code",
   "execution_count": null,
   "id": "2774a4a0",
   "metadata": {},
   "outputs": [],
   "source": [
    "# Array conversion => .copy() --> Return a copy of the array.\n",
    "\n",
    "copy = n_d_array.copy()\n",
    "copy"
   ]
  },
  {
   "cell_type": "code",
   "execution_count": null,
   "id": "05cc40cf",
   "metadata": {},
   "outputs": [],
   "source": [
    "# Array conversion => .tolist() --> Return the array as an a.ndim-levels deep nested list of Python scalars.\n",
    "\n",
    "py_list = n_d_array.tolist()\n",
    "py_list"
   ]
  },
  {
   "cell_type": "code",
   "execution_count": null,
   "id": "c33d6cca",
   "metadata": {},
   "outputs": [],
   "source": [
    "# Array conversion => .fill() --> Fill the array with a scalar value.\n",
    "\n",
    "copy.fill(8)\n",
    "copy"
   ]
  },
  {
   "cell_type": "markdown",
   "id": "266242c3",
   "metadata": {},
   "source": [
    "---"
   ]
  },
  {
   "cell_type": "code",
   "execution_count": null,
   "id": "4348847c",
   "metadata": {},
   "outputs": [],
   "source": [
    "# Shape manipulation => .reshape() --> Returns an array containing the same data with a new shape.\n",
    "\n",
    "reshaped = n_d_array.reshape(3,2)\n",
    "reshaped"
   ]
  },
  {
   "cell_type": "code",
   "execution_count": null,
   "id": "ac5929eb",
   "metadata": {},
   "outputs": [],
   "source": [
    "# Shape manipulation => .transpose() --> Returns a view of the array with axes transposed.\n",
    "\n",
    "transposed = reshaped.transpose()\n",
    "transposed"
   ]
  },
  {
   "cell_type": "code",
   "execution_count": null,
   "id": "712df32b",
   "metadata": {},
   "outputs": [],
   "source": [
    "# Shape manipulation => .flatten() --> Return a copy of the array collapsed into one dimension.\n",
    "\n",
    "flattened = n_d_array.flatten()\n",
    "flattened"
   ]
  },
  {
   "cell_type": "markdown",
   "id": "95261ef3",
   "metadata": {},
   "source": [
    "---"
   ]
  },
  {
   "cell_type": "code",
   "execution_count": null,
   "id": "8a789225",
   "metadata": {},
   "outputs": [],
   "source": [
    "# Calculation => .max() --> Return the maximum along a given axis.\n",
    "\n",
    "max_ = n_d_array.max(0)\n",
    "max_"
   ]
  },
  {
   "cell_type": "code",
   "execution_count": null,
   "id": "1e03f0e5",
   "metadata": {},
   "outputs": [],
   "source": [
    "# Calculation => .argmax() --> Returns the indices of the maximum values along an axis.\n",
    "\n",
    "argmax_ = n_d_array.argmax(0)\n",
    "argmax_"
   ]
  },
  {
   "cell_type": "code",
   "execution_count": null,
   "id": "c336f6f4",
   "metadata": {},
   "outputs": [],
   "source": [
    "# Calculation => .sum() --> Sum of array elements over a given axis.\n",
    "\n",
    "sum_ = n_d_array.sum(0)\n",
    "sum_"
   ]
  },
  {
   "cell_type": "markdown",
   "id": "4b0b88ba",
   "metadata": {},
   "source": [
    "---"
   ]
  },
  {
   "cell_type": "markdown",
   "id": "b102d2b6",
   "metadata": {},
   "source": [
    "__Array creation routines__"
   ]
  },
  {
   "cell_type": "code",
   "execution_count": null,
   "id": "fb4659eb",
   "metadata": {},
   "outputs": [],
   "source": [
    "# numpy.arange() --> Return evenly spaced values within a given interval.\n",
    "\n",
    "array_range = np.arange(8)\n",
    "array_range"
   ]
  },
  {
   "cell_type": "code",
   "execution_count": null,
   "id": "aa60a273",
   "metadata": {},
   "outputs": [],
   "source": [
    "# numpy.ones() --> Return a new array of given shape and type, filled with ones.\n",
    "\n",
    "ones_array = np.ones((8,))\n",
    "ones_array"
   ]
  },
  {
   "cell_type": "code",
   "execution_count": null,
   "id": "3d788c72",
   "metadata": {},
   "outputs": [],
   "source": [
    "# numpy.zeros() --> Return a new array of given shape and type, filled with zeros.\n",
    "\n",
    "zeros_array = np.zeros((8,))\n",
    "zeros_array"
   ]
  },
  {
   "cell_type": "markdown",
   "id": "b3437fa7",
   "metadata": {},
   "source": [
    "---\n",
    "\n",
    "## Indexing\n",
    "\n",
    "![Image](./img/etl_numpy_01.png)"
   ]
  },
  {
   "cell_type": "markdown",
   "id": "51d1031a",
   "metadata": {},
   "source": [
    "\n",
    "\n",
    "![Image](./img/etl_numpy_03.jpg)"
   ]
  },
  {
   "cell_type": "code",
   "execution_count": null,
   "id": "396c77dd",
   "metadata": {},
   "outputs": [],
   "source": [
    "d1_array = np.arange(12)\n",
    "d1_array"
   ]
  },
  {
   "cell_type": "markdown",
   "id": "4c8c1afa",
   "metadata": {},
   "source": [
    "![Image](./img/etl_numpy_07.PNG)"
   ]
  },
  {
   "cell_type": "code",
   "execution_count": null,
   "id": "227c51de",
   "metadata": {},
   "outputs": [],
   "source": [
    "d2_array = d1_array.reshape((3,4))\n",
    "d2_array"
   ]
  },
  {
   "cell_type": "markdown",
   "id": "6d009fd3",
   "metadata": {},
   "source": [
    "![Image](./img/etl_numpy_08.PNG)"
   ]
  },
  {
   "cell_type": "code",
   "execution_count": null,
   "id": "05ad76ce",
   "metadata": {},
   "outputs": [],
   "source": [
    "d3_array = d2_array.reshape((2,3,2))\n",
    "d3_array"
   ]
  },
  {
   "cell_type": "code",
   "execution_count": null,
   "id": "0b95608e",
   "metadata": {},
   "outputs": [],
   "source": [
    "d3_array[0,0,0]"
   ]
  },
  {
   "cell_type": "markdown",
   "id": "67951dde",
   "metadata": {},
   "source": [
    "---\n",
    "\n",
    "## Dimensions"
   ]
  },
  {
   "cell_type": "markdown",
   "id": "21b0ba73",
   "metadata": {},
   "source": [
    "![Image](./img/etl_numpy_05.png)"
   ]
  },
  {
   "cell_type": "code",
   "execution_count": null,
   "id": "4c69df98",
   "metadata": {},
   "outputs": [],
   "source": [
    "d3_array = np.zeros((3,3,3)) # + 10\n",
    "d3_array"
   ]
  },
  {
   "cell_type": "markdown",
   "id": "9f409e4c",
   "metadata": {},
   "source": [
    "---\n",
    "\n",
    "### N-Dimensions"
   ]
  },
  {
   "cell_type": "code",
   "execution_count": null,
   "id": "2e08713f",
   "metadata": {},
   "outputs": [],
   "source": [
    "dn_array = np.arange(12).reshape((1, 2, 1, 6, 1))\n",
    "dn_array"
   ]
  },
  {
   "cell_type": "markdown",
   "id": "c33a1e2b",
   "metadata": {},
   "source": [
    "![Image](./img/etl_numpy_09.PNG)"
   ]
  },
  {
   "cell_type": "code",
   "execution_count": null,
   "id": "9cea3112",
   "metadata": {},
   "outputs": [],
   "source": [
    "dn_array[0,1,0,0,0]"
   ]
  },
  {
   "cell_type": "markdown",
   "id": "8b6af21f",
   "metadata": {},
   "source": [
    "---\n",
    "\n",
    "## Slicing"
   ]
  },
  {
   "cell_type": "markdown",
   "id": "fa8750c4",
   "metadata": {},
   "source": [
    "![Image](./img/etl_numpy_02.png)"
   ]
  },
  {
   "cell_type": "code",
   "execution_count": null,
   "id": "bb1cb571",
   "metadata": {},
   "outputs": [],
   "source": [
    "# Slicing a (3,3) array of ones\n",
    "\n",
    "slicing_array_3_3 = 'ARRAY 3x3'\n",
    "print(slicing_array_3_3.shape)\n",
    "slicing_array_3_3"
   ]
  },
  {
   "cell_type": "markdown",
   "id": "d055dc68",
   "metadata": {},
   "source": [
    "---"
   ]
  },
  {
   "cell_type": "markdown",
   "id": "97750930",
   "metadata": {},
   "source": [
    "![Image](./img/etl_numpy_04.png)"
   ]
  },
  {
   "cell_type": "code",
   "execution_count": null,
   "id": "aafd7b3d",
   "metadata": {},
   "outputs": [],
   "source": [
    "# Slicing deep_dive (6,6)\n",
    "\n",
    "slicing_array_6_6 = 'ARRAY 6x6'\n",
    "print(slicing_array_6_6.shape)\n",
    "slicing_array_6_6"
   ]
  },
  {
   "cell_type": "markdown",
   "id": "50450696",
   "metadata": {},
   "source": [
    "---"
   ]
  },
  {
   "cell_type": "markdown",
   "id": "abd8723c",
   "metadata": {},
   "source": [
    "__More info:__ https://numpy.org/doc/stable/user/absolute_beginners.html"
   ]
  }
 ],
 "metadata": {
  "kernelspec": {
   "display_name": "Python [conda env:.conda-ironhack]",
   "language": "python",
   "name": "conda-env-.conda-ironhack-py"
  },
  "language_info": {
   "codemirror_mode": {
    "name": "ipython",
    "version": 3
   },
   "file_extension": ".py",
   "mimetype": "text/x-python",
   "name": "python",
   "nbconvert_exporter": "python",
   "pygments_lexer": "ipython3",
   "version": "3.7.11"
  }
 },
 "nbformat": 4,
 "nbformat_minor": 5
}
