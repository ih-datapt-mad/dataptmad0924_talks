{
 "cells": [
  {
   "cell_type": "markdown",
   "id": "ef4c80a6",
   "metadata": {},
   "source": [
    "# String Operations\n",
    "\n",
    "- __Common operations__\n",
    "    \n",
    "- __Slicing__\n",
    "    \n",
    "- __Regular Expressions__ (https://regex101.com/)"
   ]
  },
  {
   "cell_type": "code",
   "execution_count": null,
   "id": "181d3c3a",
   "metadata": {},
   "outputs": [],
   "source": [
    "my_string = 'Ironhack'\n",
    "print(type(my_string))"
   ]
  },
  {
   "cell_type": "markdown",
   "id": "28dd60ed",
   "metadata": {},
   "source": [
    "### Concatenate strings"
   ]
  },
  {
   "cell_type": "code",
   "execution_count": null,
   "id": "588af5dd",
   "metadata": {},
   "outputs": [],
   "source": [
    "# using operators\n",
    "print('Hello' + \" \" + 'World')"
   ]
  },
  {
   "cell_type": "code",
   "execution_count": null,
   "id": "581baca5",
   "metadata": {},
   "outputs": [],
   "source": [
    "print('Data ' * 8)"
   ]
  },
  {
   "cell_type": "code",
   "execution_count": null,
   "id": "8d411dc6",
   "metadata": {},
   "outputs": [],
   "source": [
    "# Using format method\n",
    "a = 'Penny is'\n",
    "b = 'dog'\n",
    "print( a + ' a ' + 'beautiful' + ' ' + b)"
   ]
  },
  {
   "cell_type": "code",
   "execution_count": null,
   "id": "260ea92e",
   "metadata": {},
   "outputs": [],
   "source": [
    "str_01 = a\n",
    "str_02 = b\n",
    "print('{} a beautiful {} that is what {}'.format(str_01, str_02, str_01))\n",
    "#print('{0} a beautiful {1} that is what {0}'.format(str_01, str_02))\n",
    "#print(f'{str_01} a beautiful {str_02}')"
   ]
  },
  {
   "cell_type": "markdown",
   "id": "5afc167e",
   "metadata": {},
   "source": [
    "### .join()"
   ]
  },
  {
   "cell_type": "code",
   "execution_count": null,
   "id": "6f593d87",
   "metadata": {},
   "outputs": [],
   "source": [
    "str_03 = 'Happy'\n",
    "str_04 = 'Puppies'\n",
    "str_05 = [str_03, str_04, str_03]\n",
    "\n",
    "print(str_05)\n",
    "#print(' '.join(str_05))\n",
    "#print(type('hello'.join(str_05)))"
   ]
  },
  {
   "cell_type": "markdown",
   "id": "71b31c82",
   "metadata": {},
   "source": [
    "### .strip()"
   ]
  },
  {
   "cell_type": "code",
   "execution_count": null,
   "id": "828e4b28",
   "metadata": {},
   "outputs": [],
   "source": [
    "'      y                        kasdj flñkjasd fkljasd fkjñalsf         jñlkasdfj                  '.strip()"
   ]
  },
  {
   "cell_type": "code",
   "execution_count": null,
   "id": "f3d9ef07",
   "metadata": {},
   "outputs": [],
   "source": [
    "'      y                        kasdj flñkjasd fkljasd fkjñalsf         jñlkasdfj                  '.rstrip()"
   ]
  },
  {
   "cell_type": "code",
   "execution_count": null,
   "id": "9bc82ab1",
   "metadata": {},
   "outputs": [],
   "source": [
    "'      y                        kasdj flñkjasd fkljasd fkjñalsf         jñlkasdfj                  '.lstrip()"
   ]
  },
  {
   "cell_type": "markdown",
   "id": "92b8ab28",
   "metadata": {},
   "source": [
    "### Slicing"
   ]
  },
  {
   "cell_type": "code",
   "execution_count": null,
   "id": "37663f27",
   "metadata": {},
   "outputs": [],
   "source": [
    "word = 'automobile'\n",
    "print(word[0])\n",
    "#print(word[5])\n",
    "#print(word[-1])\n",
    "#print(word[-4])\n",
    "#print(word[0:4])\n",
    "#print(word[:4])\n",
    "#print(word[4:])\n",
    "#print(word[0:5])\n",
    "#print(word[0:5:2])\n",
    "#print(word[-3:len(word):2])"
   ]
  },
  {
   "cell_type": "code",
   "execution_count": null,
   "id": "18285ae7",
   "metadata": {},
   "outputs": [],
   "source": [
    "# be aware of\n",
    "print(word[:])\n",
    "#print(word[5413535:])\n",
    "#print(word[8769876])"
   ]
  },
  {
   "cell_type": "markdown",
   "id": "52e6726c",
   "metadata": {},
   "source": [
    "### .split()"
   ]
  },
  {
   "cell_type": "code",
   "execution_count": null,
   "id": "ac179d47",
   "metadata": {
    "scrolled": true
   },
   "outputs": [],
   "source": [
    "text = 'Leben ist das was passiert, während Du dabei bist andere Pläne zu machen.'\n",
    "print(text.split())\n",
    "#print(text.split(' '))\n",
    "#print(text.split(','))\n",
    "#print(text.split('.'))\n",
    "#print(text.split('p'))\n",
    "#print(text.split('passiert,'))"
   ]
  },
  {
   "cell_type": "markdown",
   "id": "53895f66",
   "metadata": {},
   "source": [
    "### .startswith() / .endswith()"
   ]
  },
  {
   "cell_type": "code",
   "execution_count": null,
   "id": "26ff1046",
   "metadata": {},
   "outputs": [],
   "source": [
    "phrase = 'Ut desint vires, tamen est laudanda voluntas.'\n",
    "print(phrase.startswith('U'))\n",
    "#print(phrase.startswith('Ut'))\n",
    "#print(phrase.startswith('ut'))\n",
    "#print(phrase.endswith('.'))\n",
    "#print(phrase.endswith('volutas.'))\n",
    "#print(phrase.endswith('Volutas.'))"
   ]
  },
  {
   "cell_type": "markdown",
   "id": "918d4c16",
   "metadata": {},
   "source": [
    "### in"
   ]
  },
  {
   "cell_type": "code",
   "execution_count": null,
   "id": "4121531c",
   "metadata": {},
   "outputs": [],
   "source": [
    "print('desint' in phrase)\n",
    "#print('tamen' in phrase)\n",
    "#print('Laudanda' in phrase)"
   ]
  },
  {
   "cell_type": "code",
   "execution_count": null,
   "id": "4cde2fc6",
   "metadata": {},
   "outputs": [],
   "source": [
    "quote = 'shE HaD a maRveLoUs aSsoRtmeNt of PUPPETS. but helLo'\n",
    "\n",
    "print(quote.lower())\n",
    "#print(quote.upper())\n",
    "#print(quote.capitalize()) # only first\n",
    "#print(quote.title()) # all words"
   ]
  },
  {
   "cell_type": "markdown",
   "id": "28789695",
   "metadata": {},
   "source": [
    "### .replace()"
   ]
  },
  {
   "cell_type": "code",
   "execution_count": null,
   "id": "27789c2a",
   "metadata": {},
   "outputs": [],
   "source": [
    "statement = 'I thought       the movie    was wonderful!   '\n",
    "\n",
    "print(statement.replace('wonderful', 'horrible'))\n",
    "#print(statement.replace('wonderful', 'just OK'))\n",
    "#print(statement.replace('o', 'laksjdflñkjasñdl'))\n",
    "#print(statement.replace(' ', ''))"
   ]
  },
  {
   "cell_type": "markdown",
   "id": "176cb268",
   "metadata": {},
   "source": [
    "### String methods recap"
   ]
  },
  {
   "cell_type": "code",
   "execution_count": null,
   "id": "1025a5a4",
   "metadata": {},
   "outputs": [],
   "source": [
    "split_str = quote.split('.')\n",
    "\n",
    "first_capitalize = split_str[0].capitalize()\n",
    "second_capitalize = split_str[1].strip().capitalize()\n",
    "\n",
    "print(first_capitalize + '. ' + second_capitalize)\n",
    "#print(f'{first_capitalize}. {second_capitalize}')"
   ]
  },
  {
   "cell_type": "markdown",
   "id": "4174c6eb",
   "metadata": {},
   "source": [
    "---"
   ]
  },
  {
   "cell_type": "markdown",
   "id": "46a7653a",
   "metadata": {},
   "source": [
    "### Regular Expressions (RegEx)\n",
    "\n",
    "__Python library__: re — Regular expression operations (https://docs.python.org/3.7/library/re.html)\n",
    "\n",
    "--\n",
    "\n",
    "<ins>Character Classes</ins>:\n",
    "\n",
    "[a-z]: Any lowercase letter between a and z.\n",
    "\n",
    "[A-Z]: Any uppercase letter between A and Z.\n",
    "\n",
    "[0-9]: Any numeric character between 0 and 9.\n",
    "\n",
    "\\w: Any alphanumeric character.\n",
    "\n",
    "\\W: Any non-alphanumeric character.\n",
    "\n",
    "\\d: Any numeric character.\n",
    "\n",
    "\\D: Any non-numeric character.\n",
    "\n",
    "\\s: Any whitespace characters.\n",
    "\n",
    "\\S: Any non-whitespace characters.\n",
    "\n",
    ".: Any character except newline (\\n).\n",
    "\n",
    "\n",
    "<ins>Meta-characters</ins>:\n",
    "\n",
    "[]: Match set of characters\n",
    "\n",
    ".: Match any character except newline (\\n)\n",
    "\n",
    "^: Match characters not listed if within set or match beginning of line\n",
    "\n",
    "$: Match end of line\n",
    "\n",
    "|: Functions as an \"OR\" operator\n",
    "\n",
    "\n",
    "<ins>Quantifiers</ins>:\n",
    "\n",
    "*: Matches previous character 0 or more times\n",
    "\n",
    "+: Matches previous character 1 or more times\n",
    "\n",
    "?: Matches previous character 0 or 1 times (optional)\n",
    "\n",
    "{}: Matches previous characters however many times specified within:\n",
    "\n",
    "- {n} : Exactly n times\n",
    "\n",
    "- {n,} : At least n times\n",
    "\n",
    "- {n,m} : Between n and m times"
   ]
  },
  {
   "cell_type": "code",
   "execution_count": null,
   "id": "5efca0ae",
   "metadata": {},
   "outputs": [],
   "source": [
    "string = '''Calle Usurbil 21, 20170 Usúrbil, Spain\n",
    "35 Rue du Docteur Calmette, 72100 Le Mans, France\n",
    "Le Bosq, 14520 Commes, France\n",
    "Route du Fresnay, 27480 Le Tronquay, France\n",
    "34 Rue Roger Salengro, 59123 Bray-Dunes, France\n",
    "'''"
   ]
  }
 ],
 "metadata": {
  "kernelspec": {
   "display_name": "Python [conda env:.conda-m1_ih]",
   "language": "python",
   "name": "conda-env-.conda-m1_ih-py"
  },
  "language_info": {
   "codemirror_mode": {
    "name": "ipython",
    "version": 3
   },
   "file_extension": ".py",
   "mimetype": "text/x-python",
   "name": "python",
   "nbconvert_exporter": "python",
   "pygments_lexer": "ipython3",
   "version": "3.9.12"
  }
 },
 "nbformat": 4,
 "nbformat_minor": 5
}
