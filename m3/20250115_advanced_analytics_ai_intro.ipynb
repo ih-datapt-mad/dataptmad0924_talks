{
 "cells": [
  {
   "cell_type": "markdown",
   "id": "4a69a1bd",
   "metadata": {
    "slideshow": {
     "slide_type": "slide"
    }
   },
   "source": [
    "# [Introduction to AI](https://youtu.be/cNxadbrN_aI?si=IfdUekQtlXuJvx4s)\n",
    "\n",
    "![Image](./img/ai_intro.png)\n",
    "\n",
    "__Data Part Time Sep 2024__"
   ]
  },
  {
   "cell_type": "markdown",
   "id": "3bf7ff2c",
   "metadata": {
    "slideshow": {
     "slide_type": "slide"
    }
   },
   "source": [
    "# 1) What's Artificial Intelligence?\n",
    "\n",
    "![Image](./img/terminator.jpg)"
   ]
  },
  {
   "cell_type": "markdown",
   "id": "2e86dacb",
   "metadata": {
    "slideshow": {
     "slide_type": "subslide"
    }
   },
   "source": [
    "## Cat or Dog?\n",
    "\n",
    "![Image](./img/real_ai.jpg)"
   ]
  },
  {
   "cell_type": "markdown",
   "id": "6e67579c",
   "metadata": {
    "slideshow": {
     "slide_type": "subslide"
    }
   },
   "source": [
    "## AI Applications\n",
    "\n",
    "- Search engines\n",
    "- Recommendation systems\n",
    "- Targeted advertising and increasing internet engagement\n",
    "- Virtual assistants\n",
    "- Spam filtering\n",
    "- Language translation\n",
    "- Facial recognition and image labeling\n",
    "- Optical character recognition\n",
    "- Speech recognition\n",
    "- Virtual reality\n",
    "- And many more..."
   ]
  },
  {
   "cell_type": "markdown",
   "id": "3a946f90",
   "metadata": {
    "slideshow": {
     "slide_type": "subslide"
    }
   },
   "source": [
    "## AI Applications Examples\n",
    "\n",
    "- [Content Personalization](https://youtu.be/JwHzqYN0WTA?si=rvnoksdPjVsWScCD)\n",
    "- [Synthetic Sensors](https://youtu.be/aqbKrrru2co)\n",
    "- [AI Composed Cinematic Music](https://youtu.be/kcT-26AoWaY)\n",
    "- [Imagined by a Generative Adversarial Network](https://www.thispersondoesnotexist.com/)\n",
    "- [More Generative Adversarial Network](https://youtu.be/gSmnrXqHpiI)\n",
    "- [Generative Pre-trained Transformer](https://www.youtube.com/live/DQacCB9tDaw?si=UIyQFNmXvClzVNUP)\n",
    "- [Reinforcement Learning](https://youtu.be/L4KBBAwF_bE)"
   ]
  },
  {
   "cell_type": "markdown",
   "id": "398a859d",
   "metadata": {
    "slideshow": {
     "slide_type": "subslide"
    }
   },
   "source": [
    "## AI > Machine Learning > Deep Learning (+ Data)\n",
    "\n",
    "![Image](./img/taxonomy_diagram.png)"
   ]
  },
  {
   "cell_type": "markdown",
   "id": "4bd855e1",
   "metadata": {
    "slideshow": {
     "slide_type": "slide"
    }
   },
   "source": [
    "# 2) [Modelling](https://youtu.be/zIjBArHTPZ4)\n",
    "\n",
    "_Models are basically tools that humans can use to (over-)simplify the real world in a rigorous way_\n",
    "\n",
    "![Image](./img/model_geoid.jpg)"
   ]
  },
  {
   "cell_type": "markdown",
   "id": "c93ce088",
   "metadata": {
    "slideshow": {
     "slide_type": "subslide"
    }
   },
   "source": [
    "## [Causal modelling (inference) vs. Statistical modelling (prediction)](https://www.tylervigen.com/spurious-correlations)\n",
    "\n",
    "![Image](./img/statistical_modelling.jpg)"
   ]
  },
  {
   "cell_type": "markdown",
   "id": "6bb08b9f",
   "metadata": {
    "slideshow": {
     "slide_type": "subslide"
    }
   },
   "source": [
    "## Models examples\n",
    "\n",
    "![Image](./img/models.jpg)\n",
    "\n"
   ]
  },
  {
   "cell_type": "markdown",
   "id": "36dec9ae",
   "metadata": {
    "slideshow": {
     "slide_type": "slide"
    }
   },
   "source": [
    "# 3) [Algorithm Development and Implementation](https://youtu.be/hOlOY7NyMfs)\n",
    "\n",
    "![Image](./img/implementation.png)"
   ]
  },
  {
   "cell_type": "markdown",
   "id": "c726c603",
   "metadata": {
    "slideshow": {
     "slide_type": "subslide"
    }
   },
   "source": [
    "## Analog world vs. Digital world\n",
    "\n",
    "__Approximation algorithms__ are efficient algorithms that find approximate solutions to the problem of finding the best solution from all feasible solutions.\n",
    "\n",
    "![Image](./img/analog_vs_digital.jpg)\n"
   ]
  },
  {
   "cell_type": "markdown",
   "id": "0d0c5332",
   "metadata": {
    "slideshow": {
     "slide_type": "subslide"
    }
   },
   "source": [
    "## Train - Predict Paradigm\n",
    "\n",
    "![Image](./img/train_and_predict.jpg)"
   ]
  },
  {
   "cell_type": "markdown",
   "id": "574af805",
   "metadata": {
    "slideshow": {
     "slide_type": "slide"
    }
   },
   "source": [
    "# 4) Machine Learning\n",
    "\n",
    "![Image](./img/machine_learning.jpg)"
   ]
  },
  {
   "cell_type": "markdown",
   "id": "732072b9",
   "metadata": {
    "slideshow": {
     "slide_type": "subslide"
    }
   },
   "source": [
    "## Supervised Learning vs. Unsupervised Learning\n",
    "\n",
    "![Image](./img/supervised_unsupervised.jpg)"
   ]
  },
  {
   "cell_type": "markdown",
   "id": "3014fd46",
   "metadata": {
    "slideshow": {
     "slide_type": "subslide"
    }
   },
   "source": [
    "## Shallow Learning vs. Deep Learning\n",
    "\n",
    "![Image](./img/artificial_neural_networks.jpg)"
   ]
  },
  {
   "cell_type": "markdown",
   "id": "3e6754aa",
   "metadata": {
    "slideshow": {
     "slide_type": "subslide"
    }
   },
   "source": [
    "## Machine Learning Algorithms\n",
    "\n",
    "![Image](./img/shallow_learning.jpg)"
   ]
  },
  {
   "cell_type": "markdown",
   "id": "d0d340ca",
   "metadata": {
    "slideshow": {
     "slide_type": "subslide"
    }
   },
   "source": [
    "## Machine Learning Algorithms --> Decision tree demo\n",
    "\n",
    "![Image](./img/decision_tree.png)"
   ]
  },
  {
   "cell_type": "markdown",
   "id": "c7e344be",
   "metadata": {
    "slideshow": {
     "slide_type": "subslide"
    }
   },
   "source": [
    "## Other use cases (Forecasting, NLP, CV)\n",
    "\n",
    "![Image](./img/uses.jpg)"
   ]
  },
  {
   "cell_type": "markdown",
   "id": "7ba3104c",
   "metadata": {
    "slideshow": {
     "slide_type": "slide"
    }
   },
   "source": [
    "# 5) [ML Workflow](https://youtu.be/pGlQLMPI46g)\n",
    "\n",
    "![Image](./img/ml_workflow.jpeg)"
   ]
  },
  {
   "cell_type": "markdown",
   "id": "c3899141",
   "metadata": {
    "slideshow": {
     "slide_type": "subslide"
    }
   },
   "source": [
    "## Exploratory Data Analysis (EDA)\n",
    "\n",
    "![Image](./img/eda_ml.jpg)"
   ]
  },
  {
   "cell_type": "markdown",
   "id": "0e9d9400",
   "metadata": {
    "slideshow": {
     "slide_type": "subslide"
    }
   },
   "source": [
    "## Data Preparation\n",
    "\n",
    "![Image](./img/encoding_scaling.jpg)"
   ]
  },
  {
   "cell_type": "markdown",
   "id": "0c57c010",
   "metadata": {
    "slideshow": {
     "slide_type": "subslide"
    }
   },
   "source": [
    "## Feature Engineering\n",
    "\n",
    "![Image](./img/feature_engineering.png)"
   ]
  },
  {
   "cell_type": "markdown",
   "id": "c5e13e46",
   "metadata": {
    "slideshow": {
     "slide_type": "subslide"
    }
   },
   "source": [
    "## Training > Validation > Testing\n",
    "\n",
    "![Image](./img/train_valid_test.JPG)"
   ]
  },
  {
   "cell_type": "markdown",
   "id": "4eff97a3",
   "metadata": {
    "slideshow": {
     "slide_type": "subslide"
    }
   },
   "source": [
    "## Error evaluation\n",
    "\n",
    "![Image](./img/errors.jpg)"
   ]
  },
  {
   "cell_type": "markdown",
   "id": "2e007f50",
   "metadata": {
    "slideshow": {
     "slide_type": "slide"
    }
   },
   "source": [
    "# Questions?\n",
    "\n",
    "![Image](./img/questions_.jpg)"
   ]
  }
 ],
 "metadata": {
  "celltoolbar": "Slideshow",
  "kernelspec": {
   "display_name": "Python [conda env:.conda-ironhack]",
   "language": "python",
   "name": "conda-env-.conda-ironhack-py"
  },
  "language_info": {
   "codemirror_mode": {
    "name": "ipython",
    "version": 3
   },
   "file_extension": ".py",
   "mimetype": "text/x-python",
   "name": "python",
   "nbconvert_exporter": "python",
   "pygments_lexer": "ipython3",
   "version": "3.7.11"
  }
 },
 "nbformat": 4,
 "nbformat_minor": 5
}
