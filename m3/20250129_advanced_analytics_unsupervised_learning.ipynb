{
 "cells": [
  {
   "cell_type": "markdown",
   "id": "1a271869",
   "metadata": {},
   "source": [
    "# Unsupervised Learning\n",
    "\n",
    "- Dimensionality reduction (curse of dimensionality, performance, etc.)\n",
    "\n",
    "- Clustering\n",
    "\n",
    "- Others: Visualization, Finding Association Rules, Anomaly Detection\n",
    "\n",
    "\n",
    "![Image](./img/clustering.png)"
   ]
  },
  {
   "cell_type": "code",
   "execution_count": null,
   "id": "aa4b8b0e",
   "metadata": {},
   "outputs": [],
   "source": [
    "# imports\n",
    "\n",
    "import numpy as np\n",
    "import pandas as pd\n",
    "import matplotlib.pyplot as plt\n",
    "\n",
    "from sklearn.datasets import load_digits\n",
    "\n",
    "from sklearn.preprocessing import StandardScaler\n",
    "\n",
    "from sklearn.decomposition import PCA\n",
    "import umap   # $pip install umap-learn\n",
    "\n",
    "from sklearn.cluster import KMeans\n",
    "from sklearn.cluster import DBSCAN\n",
    "from yellowbrick.cluster import KElbowVisualizer   # $pip install yellowbrick\n",
    "\n",
    "from sklearn.metrics import mean_squared_error"
   ]
  },
  {
   "cell_type": "markdown",
   "id": "078e9662",
   "metadata": {},
   "source": [
    "---"
   ]
  },
  {
   "cell_type": "markdown",
   "id": "3d3c9335",
   "metadata": {},
   "source": [
    "# Dimensionality reduction (a.k.a. Projection)\n",
    "\n",
    "- Principal Component Analyses (PCA)\n",
    "\n",
    "- Uniform Manifold Approximation and Projection (UMAP)\n",
    "\n",
    "![Image](./img/projection.JPG)\n",
    "\n",
    "---"
   ]
  },
  {
   "cell_type": "markdown",
   "id": "cf9dd2dc",
   "metadata": {},
   "source": [
    "### [Principal Component Analyses (PCA)](https://scikit-learn.org/stable/modules/generated/sklearn.decomposition.PCA.html)\n",
    "\n",
    "- Good performance\n",
    "\n",
    "- Less sparsity\n",
    "\n",
    "The idea is to combine multiple numeric predictor variables into a smaller set of variables, which are __weighted linear combinations__ of the original set (i.e.: the principal components)."
   ]
  },
  {
   "cell_type": "code",
   "execution_count": null,
   "id": "a11f1e40",
   "metadata": {},
   "outputs": [],
   "source": [
    "# The most fancy dataset!!! \n",
    "\n",
    "boson = pd.read_csv('./datasets/higgs-boson.csv')\n",
    "boson['Label'] = boson['Label'].map({'s': 1, 'b': 0})\n",
    "boson.info()"
   ]
  },
  {
   "cell_type": "code",
   "execution_count": null,
   "id": "08a925d4",
   "metadata": {},
   "outputs": [],
   "source": [
    "# 31-D dataset\n",
    "\n",
    "boson"
   ]
  },
  {
   "cell_type": "code",
   "execution_count": null,
   "id": "b8626a4b",
   "metadata": {},
   "outputs": [],
   "source": [
    "boson['Label'].unique()"
   ]
  },
  {
   "cell_type": "markdown",
   "id": "d0fd0de1",
   "metadata": {},
   "source": [
    "#### Maximum amount of variation\n",
    "\n",
    "![Image](./img/max_variance.JPG)"
   ]
  },
  {
   "cell_type": "code",
   "execution_count": null,
   "id": "15e2f17f",
   "metadata": {},
   "outputs": [],
   "source": [
    "# Scaling\n",
    "\n",
    "boson_pca = boson[[x for x in boson.columns if x != 'Label']]\n",
    "scaler = StandardScaler()\n",
    "boson_scaled_pca = scaler.fit_transform(boson_pca)\n",
    "boson_scaled_pca"
   ]
  },
  {
   "cell_type": "code",
   "execution_count": null,
   "id": "0690eb58",
   "metadata": {},
   "outputs": [],
   "source": [
    "# Model training (with all components)\n",
    "\n",
    "pca = PCA().fit(boson_scaled_pca)"
   ]
  },
  {
   "cell_type": "code",
   "execution_count": null,
   "id": "76b6ff3a",
   "metadata": {},
   "outputs": [],
   "source": [
    "# Relative Importance of PCs (i.e.: the percentage of variance that is attributed by each of the selected components)\n",
    "\n",
    "pca.explained_variance_ratio_"
   ]
  },
  {
   "cell_type": "code",
   "execution_count": null,
   "id": "e3269aae",
   "metadata": {},
   "outputs": [],
   "source": [
    "# Scree Plot\n",
    "\n",
    "fig, ax = plt.subplots(ncols=1, nrows=1, figsize=(13,8))\n",
    "plt.plot(np.cumsum(pca.explained_variance_ratio_))\n",
    "plt.xlabel('Number of Components')\n",
    "plt.ylabel('Variance (%)')\n",
    "plt.ylim([0,1])\n",
    "plt.title('Higgs Boson Dataset Explained Variance')\n",
    "plt.show()"
   ]
  },
  {
   "cell_type": "markdown",
   "id": "652de488",
   "metadata": {},
   "source": [
    "#### The weights used to form the principal components reveal the relative contributions of the original variables to the new principal components. In this case 20 components is the optimum amount (roughly)"
   ]
  },
  {
   "cell_type": "code",
   "execution_count": null,
   "id": "ab1c1c61",
   "metadata": {},
   "outputs": [],
   "source": [
    "# We build our Principal Components\n",
    "\n",
    "pca_optimum = PCA(n_components=15)\n",
    "boson_scaled_pca_optimum = pca_optimum.fit_transform(boson_scaled_pca)\n",
    "pd.DataFrame(boson_scaled_pca_optimum)"
   ]
  },
  {
   "cell_type": "markdown",
   "id": "198dbe11",
   "metadata": {},
   "source": [
    "#### Why scaling?"
   ]
  },
  {
   "cell_type": "code",
   "execution_count": null,
   "id": "bb60f705",
   "metadata": {},
   "outputs": [],
   "source": [
    "pca_no_scaling = PCA().fit(boson_pca)\n",
    "pca_no_scaling.explained_variance_ratio_"
   ]
  },
  {
   "cell_type": "code",
   "execution_count": null,
   "id": "52a4221e",
   "metadata": {},
   "outputs": [],
   "source": [
    "fig, ax = plt.subplots(ncols=1, nrows=1, figsize=(13,8))\n",
    "plt.plot(np.cumsum(pca_no_scaling.explained_variance_ratio_))\n",
    "plt.xlabel('Number of Components')\n",
    "plt.ylabel('Variance (%)')\n",
    "plt.ylim([0,1])\n",
    "plt.title('Higgs Boson Dataset Explained Variance')\n",
    "plt.show()"
   ]
  },
  {
   "cell_type": "code",
   "execution_count": null,
   "id": "09ecc215",
   "metadata": {},
   "outputs": [],
   "source": [
    "np.cumsum(pca_no_scaling.explained_variance_ratio_)"
   ]
  },
  {
   "cell_type": "markdown",
   "id": "4e5a93fc",
   "metadata": {},
   "source": [
    "---"
   ]
  },
  {
   "cell_type": "markdown",
   "id": "e5ff8e95",
   "metadata": {},
   "source": [
    "### [Uniform Manifold Approximation and Projection (UMAP)](https://pair-code.github.io/understanding-umap/)\n",
    "\n",
    "- Better preservation of the data's global structure (i.e.: it works better with categorical and mixed data).\n",
    "\n",
    "- More complex mathematically (black box)"
   ]
  },
  {
   "cell_type": "code",
   "execution_count": null,
   "id": "3a9980e0",
   "metadata": {},
   "outputs": [],
   "source": [
    "# Image data\n",
    "\n",
    "digits = load_digits()\n",
    "print(digits.data.shape)\n",
    "print(digits.images.shape)\n",
    "print(digits.target.shape)\n",
    "print(digits.target_names.shape)\n",
    "print(digits.DESCR)"
   ]
  },
  {
   "cell_type": "code",
   "execution_count": null,
   "id": "93a00a55",
   "metadata": {},
   "outputs": [],
   "source": [
    "fig, ax_array = plt.subplots(20, 20, figsize=(13,8))\n",
    "axes = ax_array.flatten()\n",
    "for i, ax in enumerate(axes):\n",
    "    ax.imshow(digits.images[i], cmap='gray_r')\n",
    "plt.setp(axes, xticks=[], yticks=[], frame_on=False)\n",
    "plt.tight_layout(h_pad=0.5, w_pad=0.01)"
   ]
  },
  {
   "cell_type": "code",
   "execution_count": null,
   "id": "95403f62",
   "metadata": {},
   "outputs": [],
   "source": [
    "digits_df = load_digits(as_frame=True)\n",
    "digits_df.data"
   ]
  },
  {
   "cell_type": "code",
   "execution_count": null,
   "id": "96ead4ee",
   "metadata": {},
   "outputs": [],
   "source": [
    "reducer = umap.UMAP(random_state=42, \n",
    "                    n_neighbors=15, \n",
    "                    min_dist=0,\n",
    "                    n_components=2,\n",
    "                    metric='euclidean')\n",
    "reducer.fit(digits.data)"
   ]
  },
  {
   "cell_type": "markdown",
   "id": "ec634ffa",
   "metadata": {},
   "source": [
    "#### [Hyperparameters](https://umap-learn.readthedocs.io/en/latest/parameters.html)\n",
    "\n",
    "- __n_neighbors:__ balances local versus global structure in the data. This means that low values of n_neighbors will force UMAP to concentrate on very local structure.\n",
    "\n",
    "- __min_dist:__ controls how tightly UMAP is allowed to pack points together. It, quite literally, provides the minimum distance apart that points are allowed to be in the low dimensional representation. A low value is ideal for clustering purposes.\n",
    "\n",
    "- __n_components:__ the dimensionality of the reduced dimension space we will be embedding the data into.\n",
    "\n",
    "- __metric:__ how distance is computed in the input data space (euclidean, cosine, chebyshev...)."
   ]
  },
  {
   "cell_type": "code",
   "execution_count": null,
   "id": "e5261973",
   "metadata": {},
   "outputs": [],
   "source": [
    "embedding = reducer.transform(digits.data)\n",
    "\n",
    "embedding_df = pd.DataFrame(embedding)\n",
    "embedding_df"
   ]
  },
  {
   "cell_type": "code",
   "execution_count": null,
   "id": "d74d49d7",
   "metadata": {},
   "outputs": [],
   "source": [
    "fig, ax = plt.subplots(ncols=1, nrows=1, figsize=(10,8))\n",
    "plt.scatter(embedding[:, 0], embedding[:, 1])\n",
    "plt.gca().set_aspect('equal', 'datalim')\n",
    "plt.title('UMAP projection of the Digits dataset', fontsize=18);"
   ]
  },
  {
   "cell_type": "code",
   "execution_count": null,
   "id": "0db5a940",
   "metadata": {},
   "outputs": [],
   "source": [
    "fig, ax = plt.subplots(ncols=1, nrows=1, figsize=(13,8))\n",
    "plt.scatter(embedding[:, 0], embedding[:, 1], c=digits.target, cmap='Spectral', s=5)\n",
    "plt.gca().set_aspect('equal', 'datalim')\n",
    "plt.colorbar(boundaries=np.arange(11) - 0.5).set_ticks(np.arange(10))\n",
    "plt.title('UMAP projection of the Digits dataset', fontsize=18);"
   ]
  },
  {
   "cell_type": "markdown",
   "id": "d5a0b0d8",
   "metadata": {},
   "source": [
    "---"
   ]
  },
  {
   "cell_type": "markdown",
   "id": "fddb0762",
   "metadata": {},
   "source": [
    "## Clustering\n",
    "\n",
    "![Image](./img/clustering_types.png)\n",
    "\n",
    "\n",
    "- __Retail Marketing:__ Retail companies often use clustering to identify groups of households that are similar to each other. The company can then send personalized advertisements or sales letters to each household based on how likely they are to respond to specific types of advertisements.\n",
    "\n",
    "- __Streaming Services:__ Streaming services often use clustering analysis to identify viewers who have similar behavior. Using these metrics, a streaming service can perform cluster analysis to identify high usage and low usage users so that they can know who they should spend most of their advertising dollars on.\n",
    "\n",
    "- __Sports Science:__ Data scientists for sports teams often use clustering to identify players that are similar to each other. They can then feed these variables into a clustering algorithm to identify players that are similar to each other so that they can have these players practice with each other and perform specific drills based on their strengths and weaknesses.\n",
    "\n",
    "- __Other Examples:__ Investment portfolio, mental health assessment, music preferences, etc."
   ]
  },
  {
   "cell_type": "markdown",
   "id": "7acf26cc",
   "metadata": {},
   "source": [
    "---"
   ]
  },
  {
   "cell_type": "markdown",
   "id": "942f486d",
   "metadata": {},
   "source": [
    "### [K-Means](https://scikit-learn.org/stable/modules/clustering.html#k-means)\n",
    "\n",
    "- K-means clustering minimizes within-cluster variances (Inertia). We need to define _a priori_ the number of clusters. [Here](https://www.naftaliharris.com/blog/visualizing-k-means-clustering/) you may find a tool to visually understand the centroids generation."
   ]
  },
  {
   "cell_type": "code",
   "execution_count": null,
   "id": "bc85afec",
   "metadata": {},
   "outputs": [],
   "source": [
    "kmeans = KMeans(n_clusters=10, random_state=42).fit(digits.data)\n",
    "kmeans"
   ]
  },
  {
   "cell_type": "code",
   "execution_count": null,
   "id": "b6aaf7e9",
   "metadata": {},
   "outputs": [],
   "source": [
    "kmeans.predict(digits.data)"
   ]
  },
  {
   "cell_type": "code",
   "execution_count": null,
   "id": "81791465",
   "metadata": {},
   "outputs": [],
   "source": [
    "kmeans.labels_"
   ]
  },
  {
   "cell_type": "code",
   "execution_count": null,
   "id": "819046c2",
   "metadata": {},
   "outputs": [],
   "source": [
    "kmeans.cluster_centers_[0]"
   ]
  },
  {
   "cell_type": "code",
   "execution_count": null,
   "id": "4be5bb84",
   "metadata": {},
   "outputs": [],
   "source": [
    "check = pd.DataFrame({'Ground truth':digits.target, 'Infered Labels':kmeans.labels_})\n",
    "check.head(50)"
   ]
  },
  {
   "cell_type": "markdown",
   "id": "65100ca8",
   "metadata": {},
   "source": [
    "---"
   ]
  },
  {
   "cell_type": "code",
   "execution_count": null,
   "id": "bdd67676",
   "metadata": {},
   "outputs": [],
   "source": [
    "kmeans_emb = KMeans(n_clusters=10, random_state=42).fit(embedding)\n",
    "kmeans_emb"
   ]
  },
  {
   "cell_type": "code",
   "execution_count": null,
   "id": "1dc49201",
   "metadata": {},
   "outputs": [],
   "source": [
    "kmeans_emb.predict(embedding)"
   ]
  },
  {
   "cell_type": "code",
   "execution_count": null,
   "id": "2779bcfc",
   "metadata": {},
   "outputs": [],
   "source": [
    "kmeans_emb.labels_"
   ]
  },
  {
   "cell_type": "code",
   "execution_count": null,
   "id": "23f9825f",
   "metadata": {},
   "outputs": [],
   "source": [
    "fig, ax = plt.subplots(ncols=1, nrows=1, figsize=(10,8))\n",
    "plt.scatter(embedding[:, 0], embedding[:, 1], s=5)\n",
    "plt.gca().set_aspect('equal', 'datalim')\n",
    "plt.title('Embedding projection', fontsize=18);"
   ]
  },
  {
   "cell_type": "code",
   "execution_count": null,
   "id": "36d315da",
   "metadata": {},
   "outputs": [],
   "source": [
    "fig, ax = plt.subplots(ncols=1, nrows=1, figsize=(13,8))\n",
    "plt.scatter(embedding[:, 0], embedding[:, 1], c=kmeans_emb.labels_, cmap='Spectral', s=5)\n",
    "plt.gca().set_aspect('equal', 'datalim')\n",
    "plt.colorbar(boundaries=np.arange(kmeans.n_clusters + 1) - 0.5).set_ticks(np.arange(kmeans.n_clusters))\n",
    "plt.title('K-Means over the Digits dataset', fontsize=24);"
   ]
  },
  {
   "cell_type": "code",
   "execution_count": null,
   "id": "6bfc781d",
   "metadata": {},
   "outputs": [],
   "source": [
    "check_emb = pd.DataFrame({'Ground truth':digits.target, 'Infered Labels':kmeans_emb.labels_})\n",
    "check_emb.head(20)"
   ]
  },
  {
   "cell_type": "markdown",
   "id": "f6f60d4f",
   "metadata": {},
   "source": [
    "#### [Elbow Method](https://www.scikit-yb.org/en/latest/api/cluster/elbow.html)"
   ]
  },
  {
   "cell_type": "code",
   "execution_count": null,
   "id": "206e54cb",
   "metadata": {},
   "outputs": [],
   "source": [
    "visualizer = KElbowVisualizer(kmeans, k=(6,14))\n",
    "\n",
    "visualizer.fit(embedding)\n",
    "visualizer.show();"
   ]
  },
  {
   "cell_type": "markdown",
   "id": "659daf24",
   "metadata": {},
   "source": [
    "---"
   ]
  },
  {
   "cell_type": "markdown",
   "id": "3c022c3d",
   "metadata": {},
   "source": [
    "### [DBSCAN (Density-Based Spatial Clustering of Applications with Noise)](https://scikit-learn.org/stable/modules/clustering.html#dbscan)\n",
    "\n",
    "- Define clusters as areas of high density separated by areas of low density"
   ]
  },
  {
   "cell_type": "code",
   "execution_count": null,
   "id": "e5edebe0",
   "metadata": {},
   "outputs": [],
   "source": [
    "dbscan_c = DBSCAN(eps=0.5,\n",
    "                  min_samples=25).fit(embedding)\n",
    "\n",
    "dbscan_c"
   ]
  },
  {
   "cell_type": "code",
   "execution_count": null,
   "id": "a6def2ec",
   "metadata": {},
   "outputs": [],
   "source": [
    "fig, ax = plt.subplots(ncols=1, nrows=1, figsize=(13,8))\n",
    "plt.scatter(embedding[:, 0], embedding[:, 1], c=dbscan_c.labels_, cmap='Spectral', s=5)\n",
    "plt.gca().set_aspect('equal', 'datalim')\n",
    "plt.colorbar(boundaries=np.arange(len(np.unique(dbscan_c.labels_)) + 1) - 0.5)\\\n",
    ".set_ticks(np.arange(len(np.unique(dbscan_c.labels_))))\n",
    "plt.title('DBSCAN over the Digits dataset', fontsize=24);"
   ]
  },
  {
   "cell_type": "code",
   "execution_count": null,
   "id": "3a803491",
   "metadata": {},
   "outputs": [],
   "source": [
    "check_emb_dbscan = pd.DataFrame({'Ground truth':digits.target, 'Infered Labels':dbscan_c.labels_})\n",
    "unique_clusters = np.unique(dbscan_c.labels_)\n",
    "print(unique_clusters)\n",
    "print(f'Total clusters infered: {len(unique_clusters)}')\n",
    "check_emb_dbscan.head(20)"
   ]
  },
  {
   "cell_type": "markdown",
   "id": "30602251",
   "metadata": {},
   "source": [
    "---"
   ]
  }
 ],
 "metadata": {
  "kernelspec": {
   "display_name": "Python [conda env:.conda-sklearn-env]",
   "language": "python",
   "name": "conda-env-.conda-sklearn-env-py"
  },
  "language_info": {
   "codemirror_mode": {
    "name": "ipython",
    "version": 3
   },
   "file_extension": ".py",
   "mimetype": "text/x-python",
   "name": "python",
   "nbconvert_exporter": "python",
   "pygments_lexer": "ipython3",
   "version": "3.11.3"
  }
 },
 "nbformat": 4,
 "nbformat_minor": 5
}
