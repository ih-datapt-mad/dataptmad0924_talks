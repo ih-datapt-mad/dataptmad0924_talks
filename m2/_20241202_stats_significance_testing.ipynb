{
 "cells": [
  {
   "cell_type": "markdown",
   "id": "8ed1a89e",
   "metadata": {},
   "source": [
    "# Inferential Statistics (Part II)\n",
    "\n",
    "![Image](./images/ab_testing.JPG)\n",
    "\n",
    "---"
   ]
  },
  {
   "cell_type": "markdown",
   "id": "882b6efe",
   "metadata": {},
   "source": [
    "## Hypothesis Tests\n",
    "\n",
    "Differences between A (sample, experimental group) and B (population, control group):\n",
    "\n",
    "- __Null hypothesis:__ The hypothesis that chance is to blame.\n",
    "\n",
    "- __Alternative hypothesis:__ Counterpoint to the null (what you hope to prove).\n",
    "\n",
    "- __p-value:__ The probability that the result is due to chance. You may find a nice explanation [here](https://youtu.be/9jW9G8MO4PQ).\n",
    "\n",
    "- __Alpha:__ The probability threshold of \"unusualness\" that chance results must surpass for actual outcomes to be deemed statistically significant.\n",
    "\n",
    "- __Type 1 Error:__ Mistakenly concluding an effect is real (when it is due to chance).\n",
    "\n",
    "- __Type 2 Error:__ Mistakenly concluding an effect is due to chance (when it is real).\n",
    "\n",
    "![Image](./images/error_types.JPG)\n",
    "\n",
    "--\n",
    "\n",
    "Use cases:\n",
    "\n",
    "- Changes in digital products\n",
    "\n",
    "- Medical treatments\n",
    "\n",
    "- Marketing actions\n",
    "\n",
    "- Social policies\n",
    "\n",
    "--\n",
    "\n",
    "Statistics and parameters according to data type:\n",
    "\n",
    "- __Numeric feature:__ mean, standard deviation, variance of the values.\n",
    "\n",
    "- __Categorical feature:__ mean, standard deviation, variance of the percentages."
   ]
  },
  {
   "cell_type": "code",
   "execution_count": null,
   "id": "9e26848d",
   "metadata": {},
   "outputs": [],
   "source": [
    "# imports\n",
    "\n",
    "import numpy as np\n",
    "import pandas as pd\n",
    "\n",
    "from statsmodels.stats.weightstats import ztest\n",
    "from scipy import stats\n",
    "\n",
    "import seaborn as sns\n",
    "import matplotlib.pylab as plt"
   ]
  },
  {
   "cell_type": "code",
   "execution_count": null,
   "id": "a891b356",
   "metadata": {},
   "outputs": [],
   "source": [
    "house_prices = pd.read_csv('./datasets/house_prices.csv')\n",
    "house_prices.info()"
   ]
  },
  {
   "cell_type": "code",
   "execution_count": null,
   "id": "120b53a8",
   "metadata": {},
   "outputs": [],
   "source": [
    "# House prices statistics\n",
    "\n",
    "ax = house_prices['SalePrice'].plot.box(figsize=(5, 8))\n",
    "ax.set_ylabel('House prices (USD)')\n",
    "plt.tight_layout()\n",
    "plt.grid()"
   ]
  },
  {
   "cell_type": "code",
   "execution_count": null,
   "id": "a57e7551",
   "metadata": {
    "scrolled": false
   },
   "outputs": [],
   "source": [
    "# House prices distribution\n",
    "\n",
    "ax = house_prices['SalePrice'].plot.hist(figsize=(12, 8))\n",
    "ax.set_xlabel('House prices (USD)')\n",
    "plt.tight_layout()\n",
    "plt.grid()"
   ]
  },
  {
   "cell_type": "markdown",
   "id": "4c7e0647",
   "metadata": {},
   "source": [
    "#### Does house prices have a Normal distribution?\n",
    "\n",
    "![Image](./images/normal_distribution.JPG)"
   ]
  },
  {
   "cell_type": "code",
   "execution_count": null,
   "id": "52625829",
   "metadata": {},
   "outputs": [],
   "source": [
    "# House prices sampling\n",
    "\n",
    "house_sampling_distribution = pd.Series([house_prices['SalePrice'].sample(31).mean() for _ in range(1460)])\n",
    "house_sampling_distribution"
   ]
  },
  {
   "cell_type": "code",
   "execution_count": null,
   "id": "af22df76",
   "metadata": {},
   "outputs": [],
   "source": [
    "# House prices sampling distribution (checking that central limit theorem works!!!)\n",
    "\n",
    "ax = house_sampling_distribution.plot.hist(figsize=(12, 8), color = \"green\")\n",
    "ax.set_xlabel('House prices sampling means (USD)')\n",
    "plt.tight_layout()\n",
    "plt.grid()"
   ]
  },
  {
   "cell_type": "code",
   "execution_count": null,
   "id": "da7d78db",
   "metadata": {},
   "outputs": [],
   "source": [
    "# House sampling prices Z-Score\n",
    "\n",
    "house_sampling_prices_z_score = stats.zscore(house_sampling_distribution)\n",
    "ax = house_sampling_prices_z_score.plot.hist(figsize=(12, 8), color = \"red\")\n",
    "ax.set_xlabel('House prices sampling Z-Scores')\n",
    "plt.tight_layout()\n",
    "plt.grid()"
   ]
  },
  {
   "cell_type": "markdown",
   "id": "3ac5cec3",
   "metadata": {},
   "source": [
    "---\n",
    "\n",
    "### [Z-Test](https://www.statsmodels.org/dev/generated/statsmodels.stats.weightstats.ztest.html)\n",
    "\n",
    "When considering a __sample of data__, Z-score is used to measure the number of standard deviations by which the data points in the sample differ from the mean.\n",
    "\n",
    "![Image](./images/z_score_formula.JPG)\n",
    "\n",
    "When considering the __sampling distribution__, Z-score or Z-statistics is defined as the number of standard deviations between the sample mean and the population mean (mean of the sampling distribution).\n",
    "\n",
    "![Image](./images/z_statistics_formula.JPG)\n",
    "\n",
    "---\n",
    "\n",
    "__Z-Test uses samples to draw conclusions about populations__. All Z tests assume your data follow a normal distribution. However, due to the central limit theorem, you can ignore this assumption when your sample is __large enough__.\n",
    "\n"
   ]
  },
  {
   "cell_type": "markdown",
   "id": "2bc44f4e",
   "metadata": {},
   "source": [
    "---\n",
    "\n",
    "### One sample Z-test"
   ]
  },
  {
   "cell_type": "code",
   "execution_count": null,
   "id": "c06b3d20",
   "metadata": {},
   "outputs": [],
   "source": [
    "# Test parameters \n",
    "\n",
    "hypothesis_mean = 180000\n",
    "\n",
    "sample_mean = house_prices['SalePrice'].mean()\n",
    "\n",
    "alpha = 0.05\n",
    "\n",
    "print(f'Hypothesis mean: {hypothesis_mean} USD',\n",
    "      f'\\nSample mean: {sample_mean} USD',\n",
    "      f'\\nProbability threshold: {alpha}')"
   ]
  },
  {
   "cell_type": "markdown",
   "id": "c20adf5f",
   "metadata": {},
   "source": [
    "#### Null and Alternative Hypothesis\n",
    "\n",
    "Null Hypothesis (H0): Hypothesis mean = Sample mean\n",
    "\n",
    "Alternative Hypothesis (H1): Hypothesis Mean is different from Sample mean"
   ]
  },
  {
   "cell_type": "code",
   "execution_count": null,
   "id": "a414b909",
   "metadata": {},
   "outputs": [],
   "source": [
    "# Z-test (the probability that the sample mean is not within the 95% of the population mean)\n",
    "\n",
    "Z_score, p_value = ztest(house_prices['SalePrice'], value=hypothesis_mean)\n",
    "\n",
    "print(f'Z_score: {Z_score}', f'\\np-value: {p_value}')"
   ]
  },
  {
   "cell_type": "markdown",
   "id": "ddefe6b6",
   "metadata": {},
   "source": [
    "---\n",
    "\n",
    "### Two samples Z-test (New vs. Old Houses)"
   ]
  },
  {
   "cell_type": "code",
   "execution_count": null,
   "id": "7ce7e1e0",
   "metadata": {},
   "outputs": [],
   "source": [
    "# your-code\n",
    "\n",
    "\n"
   ]
  },
  {
   "cell_type": "markdown",
   "id": "31dbbc49",
   "metadata": {},
   "source": [
    "---"
   ]
  }
 ],
 "metadata": {
  "kernelspec": {
   "display_name": "Python [conda env:.conda-ironhack]",
   "language": "python",
   "name": "conda-env-.conda-ironhack-py"
  },
  "language_info": {
   "codemirror_mode": {
    "name": "ipython",
    "version": 3
   },
   "file_extension": ".py",
   "mimetype": "text/x-python",
   "name": "python",
   "nbconvert_exporter": "python",
   "pygments_lexer": "ipython3",
   "version": "3.7.11"
  }
 },
 "nbformat": 4,
 "nbformat_minor": 5
}
