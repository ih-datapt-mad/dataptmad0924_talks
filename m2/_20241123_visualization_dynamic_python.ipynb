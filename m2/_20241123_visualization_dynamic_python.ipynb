{
 "cells": [
  {
   "cell_type": "markdown",
   "id": "10782acb",
   "metadata": {},
   "source": [
    "# Dynamic Plotting Libraries for Python"
   ]
  },
  {
   "cell_type": "code",
   "execution_count": null,
   "id": "f60602b9",
   "metadata": {},
   "outputs": [],
   "source": [
    "# imports\n",
    "import numpy as np\n",
    "import pandas as pd\n",
    "\n",
    "# plotly\n",
    "import plotly.express as px   # conda install plotly\n",
    "import plotly.io as pio\n",
    "\n",
    "# cufflinks\n",
    "import cufflinks as cf   # pip install cufflinks\n",
    "cf.go_offline()\n",
    "\n",
    "# Animation demo\n",
    "import time\n",
    "from skimage import io"
   ]
  },
  {
   "cell_type": "code",
   "execution_count": null,
   "id": "89b9f125",
   "metadata": {},
   "outputs": [],
   "source": [
    "# plotly template options\n",
    "\n",
    "pio.templates"
   ]
  },
  {
   "cell_type": "markdown",
   "id": "a11aa2f7",
   "metadata": {},
   "source": [
    "### plotly (+cufflinks)\n",
    "\n",
    "Interactive charts and maps for Python, R, Julia, Javascript, ggplot2, F#, MATLAB®, and Dash.\n",
    "\n",
    "https://plotly.com/graphing-libraries/"
   ]
  },
  {
   "cell_type": "code",
   "execution_count": null,
   "id": "6422bac3",
   "metadata": {},
   "outputs": [],
   "source": [
    "# Using Bitcoin data\n",
    "\n",
    "bitcoin = pd.read_csv('./datasets/bitcoin.csv')\n",
    "bitcoin['Date'] = pd.to_datetime(bitcoin['Date'], dayfirst=False)\n",
    "bitcoin.info()"
   ]
  },
  {
   "cell_type": "code",
   "execution_count": null,
   "id": "effded04",
   "metadata": {},
   "outputs": [],
   "source": [
    "bitcoin"
   ]
  },
  {
   "cell_type": "code",
   "execution_count": null,
   "id": "03f66e32",
   "metadata": {
    "scrolled": false
   },
   "outputs": [],
   "source": [
    "# Using plotly express\n",
    "px.scatter(data_frame=bitcoin,\n",
    "           x='Date',\n",
    "           y='Close',\n",
    "           labels={'Date':'Operation Date','Close':'Close Price (USD)'},\n",
    "           title='Bitcoin price evolution')"
   ]
  },
  {
   "cell_type": "markdown",
   "id": "d73c9a5c",
   "metadata": {},
   "source": [
    "#### [Cufflinks](https://github.com/santosjorge/cufflinks)\n",
    "\n",
    "Cufflinks lets us generate interactive plots based on plotly directly from pandas dataframe by calling the `iplot()` method on it passing various parameters. \n",
    "\n",
    "However, documentation is not too good, therefore, you may check this [link](https://coderzcolumn.com/tutorials/data-science/cufflinks-how-to-create-plotly-charts-from-pandas-dataframe-with-one-line-of-code) out to watch some examples."
   ]
  },
  {
   "cell_type": "code",
   "execution_count": null,
   "id": "df45ed7d",
   "metadata": {},
   "outputs": [],
   "source": [
    "# Comprehensive list of parameters\n",
    "\n",
    "cf.help()"
   ]
  },
  {
   "cell_type": "code",
   "execution_count": null,
   "id": "a293648d",
   "metadata": {},
   "outputs": [],
   "source": [
    "# One data serie example\n",
    "\n",
    "bitcoin.iplot(x='Date',\n",
    "              y='Close',\n",
    "              xTitle='Operation Date',\n",
    "              yTitle='Close Price (USD)',\n",
    "              title='Bitcoin price evolution');"
   ]
  },
  {
   "cell_type": "code",
   "execution_count": null,
   "id": "bf986457",
   "metadata": {},
   "outputs": [],
   "source": [
    "# Little problem with cufflinks\n",
    "\n",
    "bitcoin = bitcoin.sort_values(by='Date')"
   ]
  },
  {
   "cell_type": "code",
   "execution_count": null,
   "id": "a78fd7c4",
   "metadata": {},
   "outputs": [],
   "source": [
    "# Two data series example (same plot)\n",
    "\n",
    "bitcoin.iplot(x='Date',\n",
    "              y=['Open', 'Close'],\n",
    "              xTitle='Operation Date',\n",
    "              yTitle='Close Price (USD)',\n",
    "              title='Bitcoin price evolution');"
   ]
  },
  {
   "cell_type": "code",
   "execution_count": null,
   "id": "552ce6c3",
   "metadata": {},
   "outputs": [],
   "source": [
    "# Two data series example (two plots)\n",
    "\n",
    "bitcoin.iplot(x='Date',\n",
    "              y=['Open', 'Close'],\n",
    "              subplots=True,\n",
    "              xTitle='Operation Date',\n",
    "              yTitle='Close Price (USD)',\n",
    "              title='Bitcoin price evolution');"
   ]
  },
  {
   "cell_type": "code",
   "execution_count": null,
   "id": "c37a7411",
   "metadata": {},
   "outputs": [],
   "source": [
    "# More parameters...\n",
    "\n",
    "bitcoin.iplot(x='Date',\n",
    "              y=['Open', 'Close'],\n",
    "              subplots=True,\n",
    "              fill=True,\n",
    "              colors=['green','red'],\n",
    "              xTitle='Operation Date',\n",
    "              yTitle='Close Price (USD)',\n",
    "              title='Bitcoin price evolution');"
   ]
  },
  {
   "cell_type": "markdown",
   "id": "9febb097",
   "metadata": {},
   "source": [
    "---"
   ]
  },
  {
   "cell_type": "code",
   "execution_count": null,
   "id": "60fbe9ce",
   "metadata": {},
   "outputs": [],
   "source": [
    "# Using Stroke data to create histograms\n",
    "\n",
    "stroke_risk = pd.read_csv('./datasets/healthcare-dataset-stroke-data.csv')\n",
    "print(stroke_risk.info())\n",
    "stroke_risk"
   ]
  },
  {
   "cell_type": "code",
   "execution_count": null,
   "id": "0a0cf1c2",
   "metadata": {},
   "outputs": [],
   "source": [
    "# Stroke vs. No stroke cases dataframes\n",
    "\n",
    "stroke_risk_true = stroke_risk[stroke_risk['stroke'] == 1]\n",
    "stroke_risk_false = stroke_risk[stroke_risk['stroke'] == 0]\n",
    "print('Stroke: ', stroke_risk_true.shape)\n",
    "print('No stroke: ', stroke_risk_false.shape)"
   ]
  },
  {
   "cell_type": "code",
   "execution_count": null,
   "id": "1d861ce7",
   "metadata": {},
   "outputs": [],
   "source": [
    "# Histogram using cufflinks\n",
    "\n",
    "feature = 'bmi'\n",
    "\n",
    "stroke_risk_true[feature].iplot(kind='hist',\n",
    "                                xTitle=f'Analysed feature: {feature}',\n",
    "                                yTitle=f'No. of Cases',\n",
    "                                title='Stroke Risk Analysis',\n",
    "                                colors=['blue']);"
   ]
  },
  {
   "cell_type": "code",
   "execution_count": null,
   "id": "00d19526",
   "metadata": {},
   "outputs": [],
   "source": [
    "# Histogram using plotly express\n",
    "\n",
    "px.histogram(data_frame=stroke_risk_true[feature],\n",
    "             labels={'value':f'Analysed feature: {feature}'},\n",
    "             title='Stroke Risk Analysis',\n",
    "             template='plotly_white')"
   ]
  },
  {
   "cell_type": "markdown",
   "id": "bc632095",
   "metadata": {},
   "source": [
    "---\n",
    "\n",
    "### Animation demo: [_Visualization of MRI volume slices_](https://plotly.com/python/visualizing-mri-volume-slices/)"
   ]
  },
  {
   "cell_type": "code",
   "execution_count": null,
   "id": "25df1a0e",
   "metadata": {
    "scrolled": false
   },
   "outputs": [],
   "source": [
    "# Import data\n",
    "vol = io.imread(\"https://s3.amazonaws.com/assets.datacamp.com/blog_assets/attention-mri.tif\")\n",
    "volume = vol.T\n",
    "r, c = volume[0].shape\n",
    "\n",
    "# Define frames\n",
    "import plotly.graph_objects as go\n",
    "nb_frames = 68\n",
    "\n",
    "fig = go.Figure(frames=[go.Frame(data=go.Surface(z=(6.7 - k * 0.1) * np.ones((r, c)),\n",
    "                                                 surfacecolor=np.flipud(volume[67 - k]),\n",
    "                                                 cmin=0, cmax=200),\n",
    "                                 name=str(k)) for k in range(nb_frames)])\n",
    "\n",
    "# Add data to be displayed before animation starts\n",
    "fig.add_trace(go.Surface(z=6.7 * np.ones((r, c)),\n",
    "                         surfacecolor=np.flipud(volume[67]),\n",
    "                         colorscale='Gray',\n",
    "                         cmin=0, cmax=200,\n",
    "                         colorbar=dict(thickness=20, ticklen=4)))\n",
    "\n",
    "\n",
    "def frame_args(duration):\n",
    "    return {\n",
    "            \"frame\": {\"duration\": duration},\n",
    "            \"mode\": \"immediate\",\n",
    "            \"fromcurrent\": True,\n",
    "            \"transition\": {\"duration\": duration, \"easing\": \"linear\"},\n",
    "    }\n",
    "\n",
    "sliders = [\n",
    "            {\n",
    "                \"pad\": {\"b\": 10, \"t\": 60},\n",
    "                \"len\": 0.9,\n",
    "                \"x\": 0.1,\n",
    "                \"y\": 0,\n",
    "                \"steps\": [\n",
    "                    {\n",
    "                        \"args\": [[f.name], frame_args(0)],\n",
    "                        \"label\": str(k),\n",
    "                        \"method\": \"animate\",\n",
    "                    }\n",
    "                    for k, f in enumerate(fig.frames)\n",
    "                ],\n",
    "            }\n",
    "        ]\n",
    "\n",
    "# Layout\n",
    "fig.update_layout(\n",
    "         title='Slices in volumetric data',\n",
    "         width=600,\n",
    "         height=600,\n",
    "         scene=dict(\n",
    "                    zaxis=dict(range=[-0.1, 6.8], autorange=False),\n",
    "                    aspectratio=dict(x=1, y=1, z=1),\n",
    "                    ),\n",
    "         updatemenus = [\n",
    "            {\n",
    "                \"buttons\": [\n",
    "                    {\n",
    "                        \"args\": [None, frame_args(50)],\n",
    "                        \"label\": \"&#9654;\", # play symbol\n",
    "                        \"method\": \"animate\",\n",
    "                    },\n",
    "                    {\n",
    "                        \"args\": [[None], frame_args(0)],\n",
    "                        \"label\": \"&#9724;\", # pause symbol\n",
    "                        \"method\": \"animate\",\n",
    "                    },\n",
    "                ],\n",
    "                \"direction\": \"left\",\n",
    "                \"pad\": {\"r\": 10, \"t\": 70},\n",
    "                \"type\": \"buttons\",\n",
    "                \"x\": 0.1,\n",
    "                \"y\": 0,\n",
    "            }\n",
    "         ],\n",
    "         sliders=sliders\n",
    ")\n",
    "\n",
    "fig.show()"
   ]
  },
  {
   "cell_type": "markdown",
   "id": "a7326b69",
   "metadata": {},
   "source": [
    "---"
   ]
  }
 ],
 "metadata": {
  "kernelspec": {
   "display_name": "Python [conda env:.conda-ironhack]",
   "language": "python",
   "name": "conda-env-.conda-ironhack-py"
  },
  "language_info": {
   "codemirror_mode": {
    "name": "ipython",
    "version": 3
   },
   "file_extension": ".py",
   "mimetype": "text/x-python",
   "name": "python",
   "nbconvert_exporter": "python",
   "pygments_lexer": "ipython3",
   "version": "3.7.11"
  }
 },
 "nbformat": 4,
 "nbformat_minor": 5
}
