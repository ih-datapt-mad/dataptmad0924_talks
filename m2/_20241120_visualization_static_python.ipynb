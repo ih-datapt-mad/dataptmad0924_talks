{
 "cells": [
  {
   "cell_type": "markdown",
   "id": "15fb3f19",
   "metadata": {},
   "source": [
    "# \"Static\" Plotting Libraries for Python"
   ]
  },
  {
   "cell_type": "code",
   "execution_count": null,
   "id": "5d172bb6",
   "metadata": {},
   "outputs": [],
   "source": [
    "# imports\n",
    "import numpy as np\n",
    "import pandas as pd\n",
    "\n",
    "# matplotlib\n",
    "import matplotlib.pyplot as plt   # conda install matplotlib\n",
    "\n",
    "# seaborn\n",
    "import seaborn as sns   # conda install seaborn"
   ]
  },
  {
   "cell_type": "markdown",
   "id": "6aa9c7c2",
   "metadata": {},
   "source": [
    "# matplotlib\n",
    "\n",
    "Matplotlib is a comprehensive library for creating static, animated, and interactive visualizations in Python.\n",
    "\n",
    "https://matplotlib.org/stable/api/index"
   ]
  },
  {
   "cell_type": "markdown",
   "id": "1d94e3c0",
   "metadata": {},
   "source": [
    "### [.figure()](https://matplotlib.org/stable/api/_as_gen/matplotlib.pyplot.figure.html#matplotlib.pyplot.figure)\n",
    "\n",
    "Create a new figure, or activate an existing figure."
   ]
  },
  {
   "cell_type": "code",
   "execution_count": null,
   "id": "db1b22ff",
   "metadata": {},
   "outputs": [],
   "source": [
    "# figure object \n",
    "\n",
    "fig = plt.figure(1)\n",
    "print(type(fig))"
   ]
  },
  {
   "cell_type": "code",
   "execution_count": null,
   "id": "13c33e11",
   "metadata": {},
   "outputs": [],
   "source": [
    "fig.number"
   ]
  },
  {
   "cell_type": "markdown",
   "id": "601ed9f5",
   "metadata": {},
   "source": [
    "### [.axes()](https://matplotlib.org/stable/api/_as_gen/matplotlib.pyplot.axes.html?highlight=pyplot%20axes#matplotlib.pyplot.axes)\n",
    "\n",
    "Add an axes to the current figure and make it the current axes. The Axes contains most of the figure elements: Axis, Tick, Line2D, Text, Polygon, etc., and sets the coordinate system."
   ]
  },
  {
   "cell_type": "code",
   "execution_count": null,
   "id": "b047aaef",
   "metadata": {},
   "outputs": [],
   "source": [
    "# axes object\n",
    "\n",
    "ax = plt.axes(arg = (0,0,1,1),\n",
    "              projection = None,\n",
    "              aspect = 1)\n",
    "print(type(ax))"
   ]
  },
  {
   "cell_type": "code",
   "execution_count": null,
   "id": "5b0a73b5",
   "metadata": {},
   "outputs": [],
   "source": [
    "# axes attributes\n",
    "\n",
    "ax.get_children()"
   ]
  },
  {
   "cell_type": "code",
   "execution_count": null,
   "id": "3483d242",
   "metadata": {},
   "outputs": [],
   "source": [
    "ax.get_children()[0]"
   ]
  },
  {
   "cell_type": "markdown",
   "id": "c07ba6a3",
   "metadata": {},
   "source": [
    "---\n",
    "\n",
    "### Dummy Data"
   ]
  },
  {
   "cell_type": "code",
   "execution_count": null,
   "id": "d00e91c3",
   "metadata": {},
   "outputs": [],
   "source": [
    "# let's create some data\n",
    "def random_data_generator(array, low, high):\n",
    "    return np.random.randint(low, high, len(array))\n",
    "\n",
    "# abscissa axes \n",
    "x_cat = ['Antivaccinists',\n",
    "         'Flat Earthers',\n",
    "         '9/11 Deniers',\n",
    "         'Moon Landing Deniers',\n",
    "         'CR7 Fans']\n",
    "x_time = ['2024-01-01',\n",
    "          '2024-02-01',\n",
    "          '2024-03-01',\n",
    "          '2024-04-01',\n",
    "          '2024-05-01',\n",
    "          '2024-06-01']\n",
    "x = np.random.randint(0, 100, 10)\n",
    "\n",
    "# ordinate axes\n",
    "y_cat = random_data_generator(x_cat, 10000, 100000)\n",
    "y_cat_mean = y_cat.mean()\n",
    "y_time = random_data_generator(x_time, 0, 100)\n",
    "y = random_data_generator(x, 0, 1000)"
   ]
  },
  {
   "cell_type": "markdown",
   "id": "bb3df8f5",
   "metadata": {},
   "source": [
    "---\n",
    "\n",
    "### [.subplots()](https://matplotlib.org/stable/api/_as_gen/matplotlib.pyplot.subplots.html)\n",
    "\n",
    "Create a figure and a set of subplots."
   ]
  },
  {
   "cell_type": "code",
   "execution_count": null,
   "id": "1a97ebc9",
   "metadata": {},
   "outputs": [],
   "source": [
    "# 1 subplot\n",
    "\n",
    "fig, ax = plt.subplots(ncols = 1,\n",
    "                       nrows = 1,\n",
    "                       figsize= (11,5))\n",
    "#ax.bar(x_cat, y_cat)                    # https://matplotlib.org/stable/api/_as_gen/matplotlib.pyplot.html\n",
    "\n",
    "#ax.set_title('The Beautiful People')    # https://matplotlib.org/stable/api/axes_api.html\n",
    "\n",
    "#ax.xaxis.set_tick_params(rotation=45)   # https://matplotlib.org/stable/api/axis_api.html\n",
    "\n",
    "plt.show();"
   ]
  },
  {
   "cell_type": "code",
   "execution_count": null,
   "id": "3f3dfb3f",
   "metadata": {},
   "outputs": [],
   "source": [
    "# subplots method (n plots)\n",
    "\n",
    "fig, axs = plt.subplots(ncols=1,\n",
    "                        nrows=2,\n",
    "                        figsize=(11,10))\n",
    "\n",
    "axs[0].plot(x_time, y_time)                    \n",
    "axs[0].set(ylim=[0, 150],\n",
    "           xlabel='Month',\n",
    "           ylabel='Feeling',\n",
    "           title='The Bootcamp Feeling')\n",
    "\n",
    "axs[1].scatter(x, y)  \n",
    "axs[1].set(xlabel='Random X',\n",
    "           ylabel='Random Y',\n",
    "           title='Pseudo Random')\n",
    "\n",
    "plt.show();"
   ]
  },
  {
   "cell_type": "markdown",
   "id": "1c02e168",
   "metadata": {},
   "source": [
    "---\n",
    "\n",
    "### More config examples\n"
   ]
  },
  {
   "cell_type": "code",
   "execution_count": null,
   "id": "57212502",
   "metadata": {},
   "outputs": [],
   "source": [
    "# more configuration examples\n",
    "\n",
    "fig, ax = plt.subplots(figsize=(11, 5))\n",
    "\n",
    "ax.barh(x_cat, y_cat)\n",
    "\n",
    "labels = ax.get_xticklabels()\n",
    "\n",
    "plt.setp(labels,\n",
    "         rotation=45,\n",
    "         horizontalalignment='right')\n",
    "\n",
    "ax.set(xlabel='\"People\"',\n",
    "       ylabel='Amount of \"People\"',\n",
    "       title='Homo \"Sapiens\"')\n",
    "\n",
    "ax.axvline(y_cat_mean, ls=':',\n",
    "           color='#a2402b')\n",
    "\n",
    "ax.text(y_cat_mean + 1000, 4, 'Neanderthals')\n",
    "\n",
    "ax.title.set(y = 1.05)\n",
    "\n",
    "plt.show();"
   ]
  },
  {
   "cell_type": "markdown",
   "id": "61598db2",
   "metadata": {},
   "source": [
    "---\n",
    "\n",
    "### General config and figure download"
   ]
  },
  {
   "cell_type": "code",
   "execution_count": null,
   "id": "d9ec7130",
   "metadata": {},
   "outputs": [],
   "source": [
    "# set style\n",
    "\n",
    "print(plt.style.available)\n",
    "plt.style.use('default')"
   ]
  },
  {
   "cell_type": "code",
   "execution_count": null,
   "id": "b672573c",
   "metadata": {},
   "outputs": [],
   "source": [
    "# save plot\n",
    "\n",
    "fig.canvas.get_supported_filetypes()\n",
    "fig.savefig('./images/homo_sapiens.png', transparent=False, dpi=80, bbox_inches=\"tight\", format='png')"
   ]
  },
  {
   "cell_type": "markdown",
   "id": "1cbf2356",
   "metadata": {},
   "source": [
    "---"
   ]
  },
  {
   "cell_type": "markdown",
   "id": "2d885293",
   "metadata": {},
   "source": [
    "# seaborn\n",
    "\n",
    "It provides a high-level interface for drawing attractive and informative statistical graphics.\n",
    "\n",
    "https://seaborn.pydata.org/api.html"
   ]
  },
  {
   "cell_type": "code",
   "execution_count": null,
   "id": "dbdafdd8",
   "metadata": {},
   "outputs": [],
   "source": [
    "# library example\n",
    "\n",
    "sns.set_theme(style=\"whitegrid\")\n",
    "tips = sns.load_dataset(\"tips\")\n",
    "tips"
   ]
  },
  {
   "cell_type": "code",
   "execution_count": null,
   "id": "b1088d5a",
   "metadata": {},
   "outputs": [],
   "source": [
    "type(tips)"
   ]
  },
  {
   "cell_type": "code",
   "execution_count": null,
   "id": "1dbd3140",
   "metadata": {},
   "outputs": [],
   "source": [
    "ax = sns.barplot(x=\"day\",\n",
    "                 y=\"total_bill\",\n",
    "                 data=tips)"
   ]
  },
  {
   "cell_type": "code",
   "execution_count": null,
   "id": "5e834189",
   "metadata": {},
   "outputs": [],
   "source": [
    "ax = sns.barplot(x=\"day\",\n",
    "                 y=\"total_bill\",\n",
    "                 hue=\"sex\",\n",
    "                 data=tips)"
   ]
  },
  {
   "cell_type": "code",
   "execution_count": null,
   "id": "2854023c",
   "metadata": {},
   "outputs": [],
   "source": [
    "tips[\"weekend\"] = tips[\"day\"].isin([\"Sat\", \"Sun\"])\n",
    "ax = sns.barplot(x=\"day\",\n",
    "                 y=\"total_bill\",\n",
    "                 hue=\"weekend\",\n",
    "                 data=tips,\n",
    "                 dodge=False)"
   ]
  },
  {
   "cell_type": "code",
   "execution_count": null,
   "id": "f8769b35",
   "metadata": {},
   "outputs": [],
   "source": [
    "tips"
   ]
  },
  {
   "cell_type": "code",
   "execution_count": null,
   "id": "e0b48165",
   "metadata": {
    "scrolled": false
   },
   "outputs": [],
   "source": [
    "ax = sns.barplot(x=\"size\",\n",
    "                 y=\"total_bill\",\n",
    "                 data=tips,\n",
    "                 color=\"#a2402b\",\n",
    "                 saturation=.5)"
   ]
  },
  {
   "cell_type": "markdown",
   "id": "958954ca",
   "metadata": {},
   "source": [
    "---"
   ]
  },
  {
   "cell_type": "code",
   "execution_count": null,
   "id": "84d44ae2",
   "metadata": {},
   "outputs": [],
   "source": [
    "# our data\n",
    "homo_sapiens = pd.DataFrame({'x_cat': x_cat,\n",
    "                             'y_cat': y_cat})\n",
    "homo_sapiens"
   ]
  },
  {
   "cell_type": "code",
   "execution_count": null,
   "id": "6559e22e",
   "metadata": {},
   "outputs": [],
   "source": [
    "\n",
    "fig, ax = plt.subplots(ncols=1,\n",
    "                       nrows=1,\n",
    "                       figsize=(11,5))\n",
    "\n",
    "\n",
    "ax = sns.barplot(data=homo_sapiens,\n",
    "                 x='x_cat',\n",
    "                 y='y_cat')"
   ]
  },
  {
   "cell_type": "markdown",
   "id": "975bd5f0",
   "metadata": {},
   "source": [
    "---"
   ]
  },
  {
   "cell_type": "markdown",
   "id": "367a6e1d",
   "metadata": {},
   "source": [
    "### pandas.DataFrame.plot\n",
    "\n",
    "Make plots of Series or DataFrame.\n",
    "\n",
    "https://pandas.pydata.org/docs/reference/api/pandas.DataFrame.plot.html"
   ]
  },
  {
   "cell_type": "markdown",
   "id": "64c3b6c2",
   "metadata": {},
   "source": [
    "### Time Series (kind = 'line')"
   ]
  },
  {
   "cell_type": "code",
   "execution_count": null,
   "id": "81767bfe",
   "metadata": {},
   "outputs": [],
   "source": [
    "# most popular data ever!!!\n",
    "\n",
    "bitcoin = pd.read_csv('./datasets/bitcoin.csv')\n",
    "bitcoin.info()"
   ]
  },
  {
   "cell_type": "code",
   "execution_count": null,
   "id": "c7afd08b",
   "metadata": {},
   "outputs": [],
   "source": [
    "bitcoin"
   ]
  },
  {
   "cell_type": "code",
   "execution_count": null,
   "id": "42e95c6b",
   "metadata": {},
   "outputs": [],
   "source": [
    "# pandas line plot\n",
    "\n",
    "bitcoin.plot(x='Date',\n",
    "             y='Close',\n",
    "             kind='line',\n",
    "             figsize=(11,5));"
   ]
  },
  {
   "cell_type": "code",
   "execution_count": null,
   "id": "25a27207",
   "metadata": {},
   "outputs": [],
   "source": [
    "# convert to datetime: https://pandas.pydata.org/docs/reference/api/pandas.to_datetime.html\n",
    "\n",
    "bitcoin['Date'] = pd.to_datetime(bitcoin['Date'], dayfirst=False)\n",
    "bitcoin.info()"
   ]
  },
  {
   "cell_type": "code",
   "execution_count": null,
   "id": "6ad80bde",
   "metadata": {},
   "outputs": [],
   "source": [
    "bitcoin"
   ]
  },
  {
   "cell_type": "code",
   "execution_count": null,
   "id": "31a4998e",
   "metadata": {},
   "outputs": [],
   "source": [
    "bitcoin.plot(x='Date',\n",
    "             y='Close',\n",
    "             kind='line',\n",
    "             figsize=(11,5));"
   ]
  },
  {
   "cell_type": "markdown",
   "id": "1171f01a",
   "metadata": {},
   "source": [
    "---"
   ]
  },
  {
   "cell_type": "markdown",
   "id": "e4b34d59",
   "metadata": {},
   "source": [
    "### Histograms (kind = 'hist')"
   ]
  },
  {
   "cell_type": "code",
   "execution_count": null,
   "id": "ff54ff5a",
   "metadata": {},
   "outputs": [],
   "source": [
    "# our data\n",
    "\n",
    "movies = pd.read_csv('./datasets/movies_100k_sample.csv', index_col=0).reset_index(drop=True)\n",
    "movies.info()"
   ]
  },
  {
   "cell_type": "code",
   "execution_count": null,
   "id": "0b7db2c1",
   "metadata": {},
   "outputs": [],
   "source": [
    "movies"
   ]
  },
  {
   "cell_type": "code",
   "execution_count": null,
   "id": "a91923df",
   "metadata": {},
   "outputs": [],
   "source": [
    "len(movies['Cust_Id'].unique())"
   ]
  },
  {
   "cell_type": "code",
   "execution_count": null,
   "id": "e329ff50",
   "metadata": {},
   "outputs": [],
   "source": [
    "# pandas histogram (not the proper option, but good to understand what a histogram is)\n",
    "\n",
    "movies['Movie_Id'].plot(kind='hist',\n",
    "                        xlim=(1, 30),\n",
    "                        figsize=(11,5))#, bins=30);"
   ]
  },
  {
   "cell_type": "code",
   "execution_count": null,
   "id": "5ebbc628",
   "metadata": {},
   "outputs": [],
   "source": [
    "# Also with bitcoin\n",
    "\n",
    "bitcoin['Close'].plot(kind='hist',\n",
    "                      figsize=(13,8));"
   ]
  },
  {
   "cell_type": "markdown",
   "id": "66e251c4",
   "metadata": {},
   "source": [
    "---"
   ]
  }
 ],
 "metadata": {
  "kernelspec": {
   "display_name": "Python [conda env:.conda-ironhack]",
   "language": "python",
   "name": "conda-env-.conda-ironhack-py"
  },
  "language_info": {
   "codemirror_mode": {
    "name": "ipython",
    "version": 3
   },
   "file_extension": ".py",
   "mimetype": "text/x-python",
   "name": "python",
   "nbconvert_exporter": "python",
   "pygments_lexer": "ipython3",
   "version": "3.7.11"
  }
 },
 "nbformat": 4,
 "nbformat_minor": 5
}
