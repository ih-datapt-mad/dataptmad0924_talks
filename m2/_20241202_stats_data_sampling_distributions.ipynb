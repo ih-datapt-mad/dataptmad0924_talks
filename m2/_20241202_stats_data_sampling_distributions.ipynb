{
 "cells": [
  {
   "cell_type": "markdown",
   "id": "e6a5b981",
   "metadata": {},
   "source": [
    "# Inferential Statistics (Part I)\n",
    "\n",
    "![Image](./images/central_limit_theorem.jpeg)\n",
    "\n",
    "---"
   ]
  },
  {
   "cell_type": "markdown",
   "id": "b22bae8f",
   "metadata": {},
   "source": [
    "## Data and Sampling Distributions\n",
    "\n",
    "#### Population Distribution \n",
    "\n",
    "The _population_ is assumed to follow the underlying but _unknown_ distribution (unless we're facing a physical process that can be modeled).\n",
    "\n",
    "#### Sample Distribution\n",
    "\n",
    "The _sample_ is the real data from which we can obtain its _empirical_ distribution in order to generate hypothesis about the population distribution.\n",
    "\n",
    "\n",
    "\n"
   ]
  },
  {
   "cell_type": "markdown",
   "id": "9d51d5ea",
   "metadata": {},
   "source": [
    "---\n",
    "\n",
    "### Random Sampling and Sample Bias\n",
    "\n",
    "In a random sampling process every data point have the same posibility of being selected in each draw. Can be performed with or without replacement.\n",
    "\n",
    "- __Sample:__ A subset from a larger dataset.\n",
    "\n",
    "- __Population:__ The larger dataset or idea of a dataset.\n",
    "\n",
    "- __N:__ The size of the population (_n:_ the size of the sample).\n",
    "\n",
    "--\n",
    "\n",
    "- __Random sampling:__ Drawing elements into a sample at random. \n",
    "\n",
    "- __Stratified sampling:__ Dividing the population into strata and randomly sampling from each strata.\n",
    "\n",
    "- __Stratum:__ A homogeneous subgroup of a population with common characteristics.\n",
    "\n",
    "- __Simple random sampling:__ The sample that results from random sampling without stratifying the population.\n",
    "\n",
    "--\n",
    "\n",
    "- __Bias:__ Systematic error (not random).\n",
    "\n",
    "- __Sample bias:__ A sample that misrepresents the population.\n",
    "\n"
   ]
  },
  {
   "cell_type": "code",
   "execution_count": 1,
   "id": "33917bbf",
   "metadata": {},
   "outputs": [],
   "source": [
    "# imports\n",
    "\n",
    "import pandas as pd\n",
    "import numpy as np\n",
    "from scipy import stats\n",
    "from scipy.stats import sem\n",
    "\n",
    "import seaborn as sns\n",
    "import matplotlib.pylab as plt"
   ]
  },
  {
   "cell_type": "code",
   "execution_count": 2,
   "id": "8ac8708a",
   "metadata": {},
   "outputs": [
    {
     "data": {
      "image/png": "[encoded data removed]",
      "text/plain": [
       "<Figure size 1080x360 with 2 Axes>"
      ]
     },
     "metadata": {
      "needs_background": "light"
     },
     "output_type": "display_data"
    }
   ],
   "source": [
    "# Population vs. sample\n",
    "\n",
    "np.random.seed(seed=1)\n",
    "x = np.linspace(-3, 3, 300)\n",
    "xsample = stats.norm.rvs(size=1000)\n",
    "\n",
    "fig, axes = plt.subplots(ncols=2, figsize=(15, 5))\n",
    "\n",
    "ax = axes[0]\n",
    "ax.fill(x, stats.norm.pdf(x))\n",
    "ax.set_axis_off()\n",
    "ax.set_xlim(-3, 3)\n",
    "\n",
    "ax = axes[1]\n",
    "ax.hist(xsample, bins=30)\n",
    "ax.set_axis_off()\n",
    "ax.set_xlim(-3, 3)\n",
    "ax.set_position;"
   ]
  },
  {
   "cell_type": "markdown",
   "id": "3977014f",
   "metadata": {},
   "source": [
    "---\n",
    "\n",
    "### Sampling Distribution of a Statistic\n",
    "\n",
    "\n",
    "- __Data distribution:__ The frequency distribution of individual _values_ in a dataset.\n",
    "\n",
    "- __Sample statistic:__ A metric calculated for a sample of data drawn from a larger population.\n",
    "\n",
    "- __Sampling distribution:__ The frequency distribution of a sample statistic over many samples or resamples.\n",
    "\n",
    "- __Central limit theorem:__ The tendency of the sampling distribution to take on a normal shape as sample size rises.\n",
    "\n",
    "- __Standard error:__ The variability (standard error) of a sample _statistic_ over many samples.\n",
    "\n"
   ]
  },
  {
   "cell_type": "code",
   "execution_count": 3,
   "id": "a63a0125",
   "metadata": {},
   "outputs": [
    {
     "data": {
      "text/plain": [
       "0         67000\n",
       "1         52000\n",
       "2        100000\n",
       "3         78762\n",
       "4         37041\n",
       "          ...  \n",
       "49995     40000\n",
       "49996     54000\n",
       "49997     50000\n",
       "49998     82000\n",
       "49999     70000\n",
       "Name: x, Length: 50000, dtype: int64"
      ]
     },
     "execution_count": 3,
     "metadata": {},
     "output_type": "execute_result"
    }
   ],
   "source": [
    "loans_income = pd.read_csv('./datasets/loans_income.csv').squeeze('columns')\n",
    "loans_income"
   ]
  },
  {
   "cell_type": "code",
   "execution_count": 4,
   "id": "e638e220",
   "metadata": {},
   "outputs": [
    {
     "data": {
      "text/html": [
       "<div>\n",
       "<style scoped>\n",
       "    .dataframe tbody tr th:only-of-type {\n",
       "        vertical-align: middle;\n",
       "    }\n",
       "\n",
       "    .dataframe tbody tr th {\n",
       "        vertical-align: top;\n",
       "    }\n",
       "\n",
       "    .dataframe thead th {\n",
       "        text-align: right;\n",
       "    }\n",
       "</style>\n",
       "<table border=\"1\" class=\"dataframe\">\n",
       "  <thead>\n",
       "    <tr style=\"text-align: right;\">\n",
       "      <th></th>\n",
       "      <th>income</th>\n",
       "      <th>type</th>\n",
       "    </tr>\n",
       "  </thead>\n",
       "  <tbody>\n",
       "    <tr>\n",
       "      <th>40292</th>\n",
       "      <td>63000</td>\n",
       "      <td>Data</td>\n",
       "    </tr>\n",
       "    <tr>\n",
       "      <th>38959</th>\n",
       "      <td>92000</td>\n",
       "      <td>Data</td>\n",
       "    </tr>\n",
       "    <tr>\n",
       "      <th>17361</th>\n",
       "      <td>134000</td>\n",
       "      <td>Data</td>\n",
       "    </tr>\n",
       "    <tr>\n",
       "      <th>33996</th>\n",
       "      <td>52000</td>\n",
       "      <td>Data</td>\n",
       "    </tr>\n",
       "    <tr>\n",
       "      <th>26491</th>\n",
       "      <td>43000</td>\n",
       "      <td>Data</td>\n",
       "    </tr>\n",
       "    <tr>\n",
       "      <th>...</th>\n",
       "      <td>...</td>\n",
       "      <td>...</td>\n",
       "    </tr>\n",
       "    <tr>\n",
       "      <th>31345</th>\n",
       "      <td>110000</td>\n",
       "      <td>Data</td>\n",
       "    </tr>\n",
       "    <tr>\n",
       "      <th>12399</th>\n",
       "      <td>60000</td>\n",
       "      <td>Data</td>\n",
       "    </tr>\n",
       "    <tr>\n",
       "      <th>15</th>\n",
       "      <td>36000</td>\n",
       "      <td>Data</td>\n",
       "    </tr>\n",
       "    <tr>\n",
       "      <th>9943</th>\n",
       "      <td>48000</td>\n",
       "      <td>Data</td>\n",
       "    </tr>\n",
       "    <tr>\n",
       "      <th>41361</th>\n",
       "      <td>52942</td>\n",
       "      <td>Data</td>\n",
       "    </tr>\n",
       "  </tbody>\n",
       "</table>\n",
       "<p>1000 rows × 2 columns</p>\n",
       "</div>"
      ],
      "text/plain": [
       "       income  type\n",
       "40292   63000  Data\n",
       "38959   92000  Data\n",
       "17361  134000  Data\n",
       "33996   52000  Data\n",
       "26491   43000  Data\n",
       "...       ...   ...\n",
       "31345  110000  Data\n",
       "12399   60000  Data\n",
       "15      36000  Data\n",
       "9943    48000  Data\n",
       "41361   52942  Data\n",
       "\n",
       "[1000 rows x 2 columns]"
      ]
     },
     "execution_count": 4,
     "metadata": {},
     "output_type": "execute_result"
    }
   ],
   "source": [
    "sample_data = pd.DataFrame({'income': loans_income.sample(1000),\n",
    "                            'type': 'Data'})\n",
    "sample_data"
   ]
  },
  {
   "cell_type": "code",
   "execution_count": 5,
   "id": "5446053f",
   "metadata": {},
   "outputs": [
    {
     "data": {
      "text/html": [
       "<div>\n",
       "<style scoped>\n",
       "    .dataframe tbody tr th:only-of-type {\n",
       "        vertical-align: middle;\n",
       "    }\n",
       "\n",
       "    .dataframe tbody tr th {\n",
       "        vertical-align: top;\n",
       "    }\n",
       "\n",
       "    .dataframe thead th {\n",
       "        text-align: right;\n",
       "    }\n",
       "</style>\n",
       "<table border=\"1\" class=\"dataframe\">\n",
       "  <thead>\n",
       "    <tr style=\"text-align: right;\">\n",
       "      <th></th>\n",
       "      <th>income</th>\n",
       "      <th>type</th>\n",
       "    </tr>\n",
       "  </thead>\n",
       "  <tbody>\n",
       "    <tr>\n",
       "      <th>0</th>\n",
       "      <td>83700.0</td>\n",
       "      <td>Mean of 5</td>\n",
       "    </tr>\n",
       "    <tr>\n",
       "      <th>1</th>\n",
       "      <td>56200.0</td>\n",
       "      <td>Mean of 5</td>\n",
       "    </tr>\n",
       "    <tr>\n",
       "      <th>2</th>\n",
       "      <td>45000.0</td>\n",
       "      <td>Mean of 5</td>\n",
       "    </tr>\n",
       "    <tr>\n",
       "      <th>3</th>\n",
       "      <td>73000.0</td>\n",
       "      <td>Mean of 5</td>\n",
       "    </tr>\n",
       "    <tr>\n",
       "      <th>4</th>\n",
       "      <td>65200.0</td>\n",
       "      <td>Mean of 5</td>\n",
       "    </tr>\n",
       "    <tr>\n",
       "      <th>...</th>\n",
       "      <td>...</td>\n",
       "      <td>...</td>\n",
       "    </tr>\n",
       "    <tr>\n",
       "      <th>995</th>\n",
       "      <td>66161.0</td>\n",
       "      <td>Mean of 5</td>\n",
       "    </tr>\n",
       "    <tr>\n",
       "      <th>996</th>\n",
       "      <td>68939.8</td>\n",
       "      <td>Mean of 5</td>\n",
       "    </tr>\n",
       "    <tr>\n",
       "      <th>997</th>\n",
       "      <td>50400.0</td>\n",
       "      <td>Mean of 5</td>\n",
       "    </tr>\n",
       "    <tr>\n",
       "      <th>998</th>\n",
       "      <td>50400.0</td>\n",
       "      <td>Mean of 5</td>\n",
       "    </tr>\n",
       "    <tr>\n",
       "      <th>999</th>\n",
       "      <td>68425.8</td>\n",
       "      <td>Mean of 5</td>\n",
       "    </tr>\n",
       "  </tbody>\n",
       "</table>\n",
       "<p>1000 rows × 2 columns</p>\n",
       "</div>"
      ],
      "text/plain": [
       "      income       type\n",
       "0    83700.0  Mean of 5\n",
       "1    56200.0  Mean of 5\n",
       "2    45000.0  Mean of 5\n",
       "3    73000.0  Mean of 5\n",
       "4    65200.0  Mean of 5\n",
       "..       ...        ...\n",
       "995  66161.0  Mean of 5\n",
       "996  68939.8  Mean of 5\n",
       "997  50400.0  Mean of 5\n",
       "998  50400.0  Mean of 5\n",
       "999  68425.8  Mean of 5\n",
       "\n",
       "[1000 rows x 2 columns]"
      ]
     },
     "execution_count": 5,
     "metadata": {},
     "output_type": "execute_result"
    }
   ],
   "source": [
    "sample_mean_05 = pd.DataFrame({'income': [loans_income.sample(5).mean() for _ in range(1000)],\n",
    "                               'type': 'Mean of 5'})\n",
    "sample_mean_05"
   ]
  },
  {
   "cell_type": "code",
   "execution_count": 6,
   "id": "77563f3c",
   "metadata": {},
   "outputs": [
    {
     "data": {
      "text/html": [
       "<div>\n",
       "<style scoped>\n",
       "    .dataframe tbody tr th:only-of-type {\n",
       "        vertical-align: middle;\n",
       "    }\n",
       "\n",
       "    .dataframe tbody tr th {\n",
       "        vertical-align: top;\n",
       "    }\n",
       "\n",
       "    .dataframe thead th {\n",
       "        text-align: right;\n",
       "    }\n",
       "</style>\n",
       "<table border=\"1\" class=\"dataframe\">\n",
       "  <thead>\n",
       "    <tr style=\"text-align: right;\">\n",
       "      <th></th>\n",
       "      <th>income</th>\n",
       "      <th>type</th>\n",
       "    </tr>\n",
       "  </thead>\n",
       "  <tbody>\n",
       "    <tr>\n",
       "      <th>0</th>\n",
       "      <td>81372.55</td>\n",
       "      <td>Mean of 20</td>\n",
       "    </tr>\n",
       "    <tr>\n",
       "      <th>1</th>\n",
       "      <td>60432.05</td>\n",
       "      <td>Mean of 20</td>\n",
       "    </tr>\n",
       "    <tr>\n",
       "      <th>2</th>\n",
       "      <td>69336.60</td>\n",
       "      <td>Mean of 20</td>\n",
       "    </tr>\n",
       "    <tr>\n",
       "      <th>3</th>\n",
       "      <td>72635.50</td>\n",
       "      <td>Mean of 20</td>\n",
       "    </tr>\n",
       "    <tr>\n",
       "      <th>4</th>\n",
       "      <td>69729.80</td>\n",
       "      <td>Mean of 20</td>\n",
       "    </tr>\n",
       "    <tr>\n",
       "      <th>...</th>\n",
       "      <td>...</td>\n",
       "      <td>...</td>\n",
       "    </tr>\n",
       "    <tr>\n",
       "      <th>995</th>\n",
       "      <td>70262.50</td>\n",
       "      <td>Mean of 20</td>\n",
       "    </tr>\n",
       "    <tr>\n",
       "      <th>996</th>\n",
       "      <td>75054.00</td>\n",
       "      <td>Mean of 20</td>\n",
       "    </tr>\n",
       "    <tr>\n",
       "      <th>997</th>\n",
       "      <td>79831.55</td>\n",
       "      <td>Mean of 20</td>\n",
       "    </tr>\n",
       "    <tr>\n",
       "      <th>998</th>\n",
       "      <td>69985.40</td>\n",
       "      <td>Mean of 20</td>\n",
       "    </tr>\n",
       "    <tr>\n",
       "      <th>999</th>\n",
       "      <td>70359.20</td>\n",
       "      <td>Mean of 20</td>\n",
       "    </tr>\n",
       "  </tbody>\n",
       "</table>\n",
       "<p>1000 rows × 2 columns</p>\n",
       "</div>"
      ],
      "text/plain": [
       "       income        type\n",
       "0    81372.55  Mean of 20\n",
       "1    60432.05  Mean of 20\n",
       "2    69336.60  Mean of 20\n",
       "3    72635.50  Mean of 20\n",
       "4    69729.80  Mean of 20\n",
       "..        ...         ...\n",
       "995  70262.50  Mean of 20\n",
       "996  75054.00  Mean of 20\n",
       "997  79831.55  Mean of 20\n",
       "998  69985.40  Mean of 20\n",
       "999  70359.20  Mean of 20\n",
       "\n",
       "[1000 rows x 2 columns]"
      ]
     },
     "execution_count": 6,
     "metadata": {},
     "output_type": "execute_result"
    }
   ],
   "source": [
    "sample_mean_20 = pd.DataFrame({'income': [loans_income.sample(20).mean() for _ in range(1000)],\n",
    "                               'type': 'Mean of 20'})\n",
    "sample_mean_20"
   ]
  },
  {
   "cell_type": "code",
   "execution_count": 7,
   "id": "d1409df5",
   "metadata": {},
   "outputs": [
    {
     "data": {
      "text/html": [
       "<div>\n",
       "<style scoped>\n",
       "    .dataframe tbody tr th:only-of-type {\n",
       "        vertical-align: middle;\n",
       "    }\n",
       "\n",
       "    .dataframe tbody tr th {\n",
       "        vertical-align: top;\n",
       "    }\n",
       "\n",
       "    .dataframe thead th {\n",
       "        text-align: right;\n",
       "    }\n",
       "</style>\n",
       "<table border=\"1\" class=\"dataframe\">\n",
       "  <thead>\n",
       "    <tr style=\"text-align: right;\">\n",
       "      <th></th>\n",
       "      <th>income</th>\n",
       "      <th>type</th>\n",
       "    </tr>\n",
       "  </thead>\n",
       "  <tbody>\n",
       "    <tr>\n",
       "      <th>40292</th>\n",
       "      <td>63000.00</td>\n",
       "      <td>Data</td>\n",
       "    </tr>\n",
       "    <tr>\n",
       "      <th>38959</th>\n",
       "      <td>92000.00</td>\n",
       "      <td>Data</td>\n",
       "    </tr>\n",
       "    <tr>\n",
       "      <th>17361</th>\n",
       "      <td>134000.00</td>\n",
       "      <td>Data</td>\n",
       "    </tr>\n",
       "    <tr>\n",
       "      <th>33996</th>\n",
       "      <td>52000.00</td>\n",
       "      <td>Data</td>\n",
       "    </tr>\n",
       "    <tr>\n",
       "      <th>26491</th>\n",
       "      <td>43000.00</td>\n",
       "      <td>Data</td>\n",
       "    </tr>\n",
       "    <tr>\n",
       "      <th>...</th>\n",
       "      <td>...</td>\n",
       "      <td>...</td>\n",
       "    </tr>\n",
       "    <tr>\n",
       "      <th>995</th>\n",
       "      <td>70262.50</td>\n",
       "      <td>Mean of 20</td>\n",
       "    </tr>\n",
       "    <tr>\n",
       "      <th>996</th>\n",
       "      <td>75054.00</td>\n",
       "      <td>Mean of 20</td>\n",
       "    </tr>\n",
       "    <tr>\n",
       "      <th>997</th>\n",
       "      <td>79831.55</td>\n",
       "      <td>Mean of 20</td>\n",
       "    </tr>\n",
       "    <tr>\n",
       "      <th>998</th>\n",
       "      <td>69985.40</td>\n",
       "      <td>Mean of 20</td>\n",
       "    </tr>\n",
       "    <tr>\n",
       "      <th>999</th>\n",
       "      <td>70359.20</td>\n",
       "      <td>Mean of 20</td>\n",
       "    </tr>\n",
       "  </tbody>\n",
       "</table>\n",
       "<p>3000 rows × 2 columns</p>\n",
       "</div>"
      ],
      "text/plain": [
       "          income        type\n",
       "40292   63000.00        Data\n",
       "38959   92000.00        Data\n",
       "17361  134000.00        Data\n",
       "33996   52000.00        Data\n",
       "26491   43000.00        Data\n",
       "...          ...         ...\n",
       "995     70262.50  Mean of 20\n",
       "996     75054.00  Mean of 20\n",
       "997     79831.55  Mean of 20\n",
       "998     69985.40  Mean of 20\n",
       "999     70359.20  Mean of 20\n",
       "\n",
       "[3000 rows x 2 columns]"
      ]
     },
     "execution_count": 7,
     "metadata": {},
     "output_type": "execute_result"
    }
   ],
   "source": [
    "results = pd.concat([sample_data,\n",
    "                     sample_mean_05,\n",
    "                     sample_mean_20])\n",
    "results"
   ]
  },
  {
   "cell_type": "code",
   "execution_count": 8,
   "id": "a21d6544",
   "metadata": {},
   "outputs": [
    {
     "data": {
      "image/png": "[encoded data removed]",
      "text/plain": [
       "<Figure size 576x864 with 3 Axes>"
      ]
     },
     "metadata": {
      "needs_background": "light"
     },
     "output_type": "display_data"
    }
   ],
   "source": [
    "# Sample distribution vs. Sample statistic (mean) distribution\n",
    "\n",
    "g = sns.FacetGrid(results, col='type', col_wrap=1, \n",
    "                  height=4, aspect=2)\n",
    "g.map(plt.hist, 'income', range=[0, 200000], bins=40)\n",
    "g.set_axis_labels('Income', 'Count')\n",
    "g.set_titles('{col_name}')\n",
    "\n",
    "plt.tight_layout()"
   ]
  },
  {
   "cell_type": "markdown",
   "id": "d32a92de",
   "metadata": {},
   "source": [
    "#### Important observations:\n",
    "\n",
    "- The distribution of a sample statistic such as the mean is likely to be more regular and bell-shaped than the distribution of the data itself (Central Limit Theorem).\n",
    "\n",
    "- The larger the sample the statistic is based on, the more this is true.\n",
    "\n",
    "- The larger the sample, the narrower the distribution of the sample statistic.\n",
    "\n",
    "Check out [this](https://onlinestatbook.com/stat_sim/sampling_dist/) simulator"
   ]
  },
  {
   "cell_type": "code",
   "execution_count": 11,
   "id": "39790acb",
   "metadata": {},
   "outputs": [
    {
     "name": "stdout",
     "output_type": "stream",
     "text": [
      "Dataset mean: 68141.363 \n",
      "Dataset median: 62000.0 \n",
      "Sample size: 1000 \n",
      "Sample standard error: 1033.6875665478576 \n",
      "Standard error of sampling distribution: 7625.452943457782\n"
     ]
    }
   ],
   "source": [
    "# Standard Error\n",
    "\n",
    "sample_size = 1000\n",
    "\n",
    "sample = loans_income.sample(sample_size)\n",
    "\n",
    "sample_standard_error = sample.std() / np.sqrt(sample_size)   # Data approach\n",
    "\n",
    "sampling_dist_se = sample_mean_20['income'].std()   # Sampling distribution of a statistic approach\n",
    "\n",
    "print('Dataset mean:',loans_income.sample(1000).mean(),\n",
    "      '\\nDataset median:',loans_income.median(),\n",
    "      '\\nSample size:', sample_size,\n",
    "      '\\nSample standard error:', sample_standard_error,\n",
    "      '\\nStandard error of sampling distribution:', sampling_dist_se)"
   ]
  },
  {
   "cell_type": "code",
   "execution_count": 12,
   "id": "8171b075",
   "metadata": {},
   "outputs": [
    {
     "name": "stdout",
     "output_type": "stream",
     "text": [
      "Sample standard error: 1033.687566547855\n"
     ]
    }
   ],
   "source": [
    "# Using scipy \n",
    "\n",
    "print('Sample standard error:', sem(sample))"
   ]
  },
  {
   "cell_type": "markdown",
   "id": "f2c854da",
   "metadata": {},
   "source": [
    "Standard error estimates how accurate the mean of any given sample represents the true mean of the population."
   ]
  },
  {
   "cell_type": "markdown",
   "id": "accd8baf",
   "metadata": {},
   "source": [
    "---\n",
    "\n",
    "### Normal Distribution (a.k.a. Z-Distribution)\n",
    "\n",
    "In a normal distribution, 68% of the data lies within one standard deviation of the mean, 95% lies within two standard deviations, and 99.7% lies within three standard deviations.\n",
    "\n",
    "- __Error:__ The difference between a data point and a predicted or average value.\n",
    "\n",
    "- __Standardize:__ Substract the mean and divide it by the standard deviation.\n",
    "\n",
    "- __Z-score:__ The result of standarizing an individual data point.\n",
    "\n",
    "- __Standard normal:__ A normal distribution with mean = 0 and standard deviation = 1.\n",
    "\n",
    "- __QQ-Plot:__ A plot to visualize how close a sample distribution is to a specified distribution (e.g.: the normal distribution)"
   ]
  },
  {
   "cell_type": "code",
   "execution_count": 13,
   "id": "ad1184ab",
   "metadata": {},
   "outputs": [
    {
     "data": {
      "text/plain": [
       "array([ 0.1941524 , -0.28767869, -0.12516315, ..., -0.33897658,\n",
       "       -0.29747412, -0.38983429])"
      ]
     },
     "execution_count": 13,
     "metadata": {},
     "output_type": "execute_result"
    }
   ],
   "source": [
    "# Normal distributed data\n",
    "norm_sample = stats.norm.rvs(size=10000)\n",
    "\n",
    "# Not-normal distributed data\n",
    "sp500_px = pd.read_csv('./datasets/sp500_data.csv')\n",
    "nflx = sp500_px['NFLX']\n",
    "not_norm_sample = np.diff(np.log(nflx[nflx>0]))\n",
    "not_norm_sample"
   ]
  },
  {
   "cell_type": "code",
   "execution_count": 14,
   "id": "cde5c855",
   "metadata": {},
   "outputs": [
    {
     "name": "stdout",
     "output_type": "stream",
     "text": [
      "Standard deviation of the sample: 1.0019651285283213\n"
     ]
    },
    {
     "data": {
      "image/png": "[encoded data removed]",
      "text/plain": [
       "<Figure size 432x288 with 1 Axes>"
      ]
     },
     "metadata": {
      "needs_background": "light"
     },
     "output_type": "display_data"
    }
   ],
   "source": [
    "norm_sample = pd.Series(norm_sample)\n",
    "norm_sample_sd = norm_sample.std()\n",
    "print(f'Standard deviation of the sample: {norm_sample_sd}')\n",
    "norm_sample.plot.hist();"
   ]
  },
  {
   "cell_type": "code",
   "execution_count": 15,
   "id": "48412232",
   "metadata": {},
   "outputs": [
    {
     "name": "stdout",
     "output_type": "stream",
     "text": [
      "Standard deviation of the sample: 1.4887909653966434\n"
     ]
    },
    {
     "data": {
      "image/png": "[encoded data removed]",
      "text/plain": [
       "<Figure size 432x288 with 1 Axes>"
      ]
     },
     "metadata": {
      "needs_background": "light"
     },
     "output_type": "display_data"
    }
   ],
   "source": [
    "not_norm_sample = pd.Series(not_norm_sample)\n",
    "not_norm_sample_sd = not_norm_sample.std()\n",
    "print(f'Standard deviation of the sample: {not_norm_sample_sd}')\n",
    "not_norm_sample.plot.hist();"
   ]
  },
  {
   "cell_type": "markdown",
   "id": "c27021f9",
   "metadata": {},
   "source": [
    "Other distributions are:\n",
    "\n",
    "- Long-Tailed Distributions\n",
    "\n",
    "- Student's t-Distribution\n",
    "\n",
    "- Binomial Distribution\n",
    "\n",
    "- Chi-Square Distribution\n",
    "\n",
    "- F-Distribution\n",
    "\n",
    "- Poisson Distributions\n",
    "\n",
    "- Exponential Distribution\n",
    "\n",
    "- Weibull Distribution"
   ]
  },
  {
   "cell_type": "markdown",
   "id": "61973f85",
   "metadata": {},
   "source": [
    "---"
   ]
  }
 ],
 "metadata": {
  "kernelspec": {
   "display_name": "Python [conda env:.conda-ironhack]",
   "language": "python",
   "name": "conda-env-.conda-ironhack-py"
  },
  "language_info": {
   "codemirror_mode": {
    "name": "ipython",
    "version": 3
   },
   "file_extension": ".py",
   "mimetype": "text/x-python",
   "name": "python",
   "nbconvert_exporter": "python",
   "pygments_lexer": "ipython3",
   "version": "3.7.11"
  }
 },
 "nbformat": 4,
 "nbformat_minor": 5
}
