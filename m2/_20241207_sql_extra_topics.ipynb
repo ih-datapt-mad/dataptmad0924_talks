{
 "cells": [
  {
   "cell_type": "markdown",
   "id": "e2274908",
   "metadata": {},
   "source": [
    "# SQL Extra Topics - SQLAlchemy\n",
    "\n",
    "The SQLAlchemy SQL Toolkit and Object Relational Mapper is a comprehensive set of tools for working with databases and Python."
   ]
  },
  {
   "cell_type": "code",
   "execution_count": null,
   "id": "e7d3dc71",
   "metadata": {},
   "outputs": [],
   "source": [
    "# imports\n",
    "\n",
    "import sqlalchemy\n",
    "from sqlalchemy import create_engine\n",
    "from sqlalchemy import inspect\n",
    "import pandas as pd\n",
    "\n",
    "sqlalchemy.__version__"
   ]
  },
  {
   "cell_type": "markdown",
   "id": "c38db654",
   "metadata": {},
   "source": [
    "---"
   ]
  },
  {
   "cell_type": "code",
   "execution_count": null,
   "id": "cc8cec4e",
   "metadata": {},
   "outputs": [],
   "source": [
    "# Connection string assembly (https://docs.sqlalchemy.org/en/14/core/engines.html)\n",
    "\n",
    "connection_string = 'sqlite:///datasets/publications.db'\n",
    "connection_string"
   ]
  },
  {
   "cell_type": "code",
   "execution_count": null,
   "id": "4fcd77b3",
   "metadata": {},
   "outputs": [],
   "source": [
    "# SQL Engine => dialect+driver \n",
    "\n",
    "engine = create_engine(connection_string)\n",
    "type(engine)"
   ]
  },
  {
   "cell_type": "code",
   "execution_count": null,
   "id": "fadcc058",
   "metadata": {},
   "outputs": [],
   "source": [
    "# Get DDBB tables\n",
    "\n",
    "inspector = inspect(engine)\n",
    "inspector.get_table_names()"
   ]
  },
  {
   "cell_type": "code",
   "execution_count": null,
   "id": "d6aa72e7",
   "metadata": {},
   "outputs": [],
   "source": [
    "# Get table info\n",
    "\n",
    "inspector.get_columns('authors')"
   ]
  },
  {
   "cell_type": "markdown",
   "id": "fc037aa1",
   "metadata": {},
   "source": [
    "---"
   ]
  },
  {
   "cell_type": "code",
   "execution_count": null,
   "id": "930c098f",
   "metadata": {},
   "outputs": [],
   "source": [
    "# Pandas!!!\n",
    "\n",
    "df = pd.read_sql_query(\"SELECT * FROM authors\", engine)\n",
    "df"
   ]
  },
  {
   "cell_type": "markdown",
   "id": "bcb765d6",
   "metadata": {},
   "source": [
    "---"
   ]
  },
  {
   "cell_type": "markdown",
   "id": "87f54eb3",
   "metadata": {},
   "source": [
    "### Let's see some examples..."
   ]
  },
  {
   "cell_type": "code",
   "execution_count": null,
   "id": "b0014918",
   "metadata": {},
   "outputs": [],
   "source": [
    "# CHALLENGE 1\n",
    "\n",
    "query_ch1 = '''\n",
    "SELECT authors.au_id AS 'AUTHOR ID',\n",
    "authors.au_lname AS 'LAST NAME',\n",
    "authors.au_fname AS 'FIRST NAME', \n",
    "title.title AS 'TITLE', \n",
    "pub.pub_name AS 'PUBLISHER'\n",
    "FROM authors\n",
    "INNER JOIN titleauthor ta ON authors.au_id = ta.au_id \n",
    "INNER JOIN titles title ON ta.title_id = title.title_id\n",
    "INNER JOIN publishers pub ON title.pub_id = pub.pub_id\n",
    "'''"
   ]
  },
  {
   "cell_type": "code",
   "execution_count": null,
   "id": "e7987270",
   "metadata": {},
   "outputs": [],
   "source": [
    "df_ch1 = pd.read_sql_query(query_ch1, engine)\n",
    "df_ch1"
   ]
  },
  {
   "cell_type": "markdown",
   "id": "39741043",
   "metadata": {},
   "source": [
    "---"
   ]
  }
 ],
 "metadata": {
  "kernelspec": {
   "display_name": "Python [conda env:.conda-ironhack]",
   "language": "python",
   "name": "conda-env-.conda-ironhack-py"
  },
  "language_info": {
   "codemirror_mode": {
    "name": "ipython",
    "version": 3
   },
   "file_extension": ".py",
   "mimetype": "text/x-python",
   "name": "python",
   "nbconvert_exporter": "python",
   "pygments_lexer": "ipython3",
   "version": "3.7.11"
  }
 },
 "nbformat": 4,
 "nbformat_minor": 5
}
